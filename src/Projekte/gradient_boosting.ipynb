{
 "cells": [
  {
   "cell_type": "code",
   "execution_count": 2,
   "metadata": {},
   "outputs": [],
   "source": [
    "import sys\n",
    "import subprocess\n",
    "\n",
    "# Liste der benötigten Pakete\n",
    "pakete = [\"numpy\", \"pandas\", \"matplotlib\", \"socceraction\" , \"warnings\",\"json\"]  # Hier deine Pakete eintragen\n",
    "\n",
    "# Installiere Pakete, falls sie nicht vorhanden sind\n",
    "for paket in pakete:\n",
    "    try:\n",
    "        __import__(paket)\n",
    "    except ImportError:\n",
    "        print(f\"{paket} wird installiert...\")\n",
    "        subprocess.check_call([sys.executable, \"-m\", \"pip\", \"install\", paket])"
   ]
  },
  {
   "cell_type": "code",
   "execution_count": 1,
   "metadata": {},
   "outputs": [],
   "source": [
    "import pandas as pd\n",
    "import os\n",
    "import json\n",
    "import joblib\n",
    "import matplotlib.pyplot as plt\n",
    "from sklearn.model_selection import RandomizedSearchCV, GridSearchCV\n",
    "from sklearn.ensemble import GradientBoostingClassifier\n",
    "from sklearn.metrics import accuracy_score, roc_curve, auc, brier_score_loss\n",
    "import socceraction.spadl as spadl\n",
    "import numpy as np"
   ]
  },
  {
   "cell_type": "code",
   "execution_count": 3,
   "metadata": {},
   "outputs": [],
   "source": [
    "# Import functions\n",
    "from src.data_processing import config_h5_file_paths, fetch_match_data, generate_match_data, split_games, split_match_data, adjust_results, load_match_data"
   ]
  },
  {
   "cell_type": "code",
   "execution_count": null,
   "metadata": {},
   "outputs": [],
   "source": [
    "# Configure format, h5-file, and folder names\n",
    "datafolder = \".\\\\xSuccess\\\\top5_15-16_spadl\"\n",
    "format = \"spadl\"\n",
    "\n",
    "match_data_h5, match_data_train_h5, match_data_test_h5, match_data_test_success_h5, match_data_test_fail_h5, features_train_h5, features_test_h5, features_test_success_h5, features_test_fail_h5, labels_train_h5, labels_test_h5, labels_test_success_h5, labels_test_fail_h5, predictions_test_h5, predictions_test_success_h5, predictions_test_fail_h5, vaep_test_h5, vaep_test_success_h5, vaep_test_fail_h5 = config_h5_file_paths(\n",
    "  datafolder=datafolder,\n",
    "  format=format\n",
    ")"
   ]
  },
  {
   "cell_type": "code",
   "execution_count": 4,
   "metadata": {},
   "outputs": [
    {
     "data": {
      "text/plain": [
       "3639857"
      ]
     },
     "execution_count": 4,
     "metadata": {},
     "output_type": "execute_result"
    }
   ],
   "source": [
    "# 1. Lade den Datensatz\n",
    "spadl_h5 = \".\\\\xSuccess\\\\top5_15-16_spadl\\\\match_data.h5\"\n",
    "\n",
    "with pd.HDFStore(spadl_h5) as spadlstore:\n",
    "    # Spiele laden\n",
    "    games = spadlstore[\"games\"]\n",
    "    \n",
    "    # Du kannst auch teams / players laden, wenn du sie für später brauchst\n",
    "    teams = spadlstore[\"teams\"]\n",
    "    players = spadlstore[\"players\"]\n",
    "    \n",
    "    all_actions_list = []\n",
    "    \n",
    "    # Über alle Spiele iterieren\n",
    "    for gid in games.game_id:\n",
    "        df_actions = spadlstore[f\"actions/game_{gid}\"]\n",
    "        # Ggf. noch die 'game_id' explizit als Spalte hinzufügen,\n",
    "        # falls du sie später brauchst.\n",
    "        df_actions[\"game_id\"] = gid\n",
    "        \n",
    "        all_actions_list.append(df_actions)\n",
    "    \n",
    "    # Zu einem großen DataFrame zusammenfügen\n",
    "    all_actions = pd.concat(all_actions_list, ignore_index=True)\n",
    "\n",
    "all_actions[\"game_id\"].count()"
   ]
  },
  {
   "cell_type": "code",
   "execution_count": 5,
   "metadata": {},
   "outputs": [],
   "source": [
    "all_actions = (\n",
    "    all_actions\n",
    "    .merge(spadl.actiontypes_df(), how='left', on='type_id')\n",
    "    .merge(spadl.results_df(), how='left', on='result_id')\n",
    "    .merge(spadl.bodyparts_df(), how='left', on='bodypart_id')\n",
    ")"
   ]
  },
  {
   "cell_type": "code",
   "execution_count": 6,
   "metadata": {},
   "outputs": [],
   "source": [
    "# 3) Die Länge der Dribblings bestimmen (euklidische Distanz zwischen Start- und Endkoordinate)\n",
    "\n",
    "all_actions[\"action_distance\"] = np.sqrt(\n",
    "    (all_actions[\"end_x\"] - all_actions[\"start_x\"])**2 +\n",
    "    (all_actions[\"end_y\"] - all_actions[\"start_y\"])**2\n",
    ")"
   ]
  },
  {
   "cell_type": "markdown",
   "metadata": {},
   "source": [
    "Winkel hinzufügen"
   ]
  },
  {
   "cell_type": "code",
   "execution_count": 7,
   "metadata": {},
   "outputs": [],
   "source": [
    "# Angenommen: Spielfeld geht von x=0 bis x=105 (Opta Standard)\n",
    "def detect_goal_side(end_x, field_length=105):\n",
    "    return 'left' if end_x < field_length / 2 else 'right'\n",
    "\n",
    "def calculate_centered_shot_angle(row):\n",
    "    # Ziel-Torposition\n",
    "    if row['goal_side'] == 'right':\n",
    "        goal_x, goal_y = 105, 34\n",
    "        dx = goal_x - row['start_x']\n",
    "    else:\n",
    "        goal_x, goal_y = 0, 34\n",
    "        dx = row['start_x'] - goal_x  # Richtung umdrehen!\n",
    "\n",
    "    dy = goal_y - row['start_y']\n",
    "\n",
    "    # Jetzt ist dx immer positiv → Richtung zum Tor ist einheitlich\n",
    "    angle_rad = np.arctan2(dy, dx)\n",
    "    angle_deg = np.degrees(angle_rad)\n",
    "\n",
    "    return angle_deg"
   ]
  },
  {
   "cell_type": "code",
   "execution_count": 8,
   "metadata": {},
   "outputs": [],
   "source": [
    "all_actions['shot_angle_centered'] = np.nan"
   ]
  },
  {
   "cell_type": "code",
   "execution_count": 9,
   "metadata": {},
   "outputs": [],
   "source": [
    "# Torseite erkennen (für alle Zeilen, nicht nur Schüsse)\n",
    "all_actions['goal_side'] = all_actions['start_x'].apply(detect_goal_side)"
   ]
  },
  {
   "cell_type": "code",
   "execution_count": 12,
   "metadata": {},
   "outputs": [
    {
     "data": {
      "text/html": [
       "<div>\n",
       "<style scoped>\n",
       "    .dataframe tbody tr th:only-of-type {\n",
       "        vertical-align: middle;\n",
       "    }\n",
       "\n",
       "    .dataframe tbody tr th {\n",
       "        vertical-align: top;\n",
       "    }\n",
       "\n",
       "    .dataframe thead th {\n",
       "        text-align: right;\n",
       "    }\n",
       "</style>\n",
       "<table border=\"1\" class=\"dataframe\">\n",
       "  <thead>\n",
       "    <tr style=\"text-align: right;\">\n",
       "      <th></th>\n",
       "      <th>game_id</th>\n",
       "      <th>original_event_id</th>\n",
       "      <th>period_id</th>\n",
       "      <th>time_seconds</th>\n",
       "      <th>team_id</th>\n",
       "      <th>player_id</th>\n",
       "      <th>start_x</th>\n",
       "      <th>start_y</th>\n",
       "      <th>end_x</th>\n",
       "      <th>end_y</th>\n",
       "      <th>type_id</th>\n",
       "      <th>result_id</th>\n",
       "      <th>bodypart_id</th>\n",
       "      <th>action_id</th>\n",
       "      <th>type_name</th>\n",
       "      <th>result_name</th>\n",
       "      <th>bodypart_name</th>\n",
       "      <th>action_distance</th>\n",
       "      <th>shot_angle_centered</th>\n",
       "      <th>goal_side</th>\n",
       "    </tr>\n",
       "  </thead>\n",
       "  <tbody>\n",
       "    <tr>\n",
       "      <th>0</th>\n",
       "      <td>3890561</td>\n",
       "      <td>644e16d7-10ca-45f0-8128-fc0055d6f753</td>\n",
       "      <td>1</td>\n",
       "      <td>0.482</td>\n",
       "      <td>175</td>\n",
       "      <td>8387.0</td>\n",
       "      <td>52.9375</td>\n",
       "      <td>34.340</td>\n",
       "      <td>52.2375</td>\n",
       "      <td>36.210</td>\n",
       "      <td>0</td>\n",
       "      <td>1</td>\n",
       "      <td>4</td>\n",
       "      <td>0</td>\n",
       "      <td>pass</td>\n",
       "      <td>success</td>\n",
       "      <td>foot_left</td>\n",
       "      <td>1.996722</td>\n",
       "      <td>NaN</td>\n",
       "      <td>right</td>\n",
       "    </tr>\n",
       "    <tr>\n",
       "      <th>1</th>\n",
       "      <td>3890561</td>\n",
       "      <td>329a1879-2521-4614-8c68-b4798b0e5d23</td>\n",
       "      <td>1</td>\n",
       "      <td>0.935</td>\n",
       "      <td>175</td>\n",
       "      <td>5460.0</td>\n",
       "      <td>52.2375</td>\n",
       "      <td>36.210</td>\n",
       "      <td>51.5375</td>\n",
       "      <td>35.870</td>\n",
       "      <td>21</td>\n",
       "      <td>1</td>\n",
       "      <td>0</td>\n",
       "      <td>1</td>\n",
       "      <td>dribble</td>\n",
       "      <td>success</td>\n",
       "      <td>foot</td>\n",
       "      <td>0.778203</td>\n",
       "      <td>NaN</td>\n",
       "      <td>left</td>\n",
       "    </tr>\n",
       "    <tr>\n",
       "      <th>2</th>\n",
       "      <td>3890561</td>\n",
       "      <td>77e2ddaf-6de3-49e7-a318-7d765799b543</td>\n",
       "      <td>1</td>\n",
       "      <td>1.015</td>\n",
       "      <td>175</td>\n",
       "      <td>5460.0</td>\n",
       "      <td>51.5375</td>\n",
       "      <td>35.870</td>\n",
       "      <td>46.7250</td>\n",
       "      <td>32.640</td>\n",
       "      <td>0</td>\n",
       "      <td>1</td>\n",
       "      <td>4</td>\n",
       "      <td>2</td>\n",
       "      <td>pass</td>\n",
       "      <td>success</td>\n",
       "      <td>foot_left</td>\n",
       "      <td>5.795952</td>\n",
       "      <td>NaN</td>\n",
       "      <td>left</td>\n",
       "    </tr>\n",
       "    <tr>\n",
       "      <th>3</th>\n",
       "      <td>3890561</td>\n",
       "      <td>1b91a029-f722-4b0d-b9d5-53cdc776f9e3</td>\n",
       "      <td>1</td>\n",
       "      <td>2.167</td>\n",
       "      <td>175</td>\n",
       "      <td>6039.0</td>\n",
       "      <td>46.7250</td>\n",
       "      <td>32.640</td>\n",
       "      <td>45.3250</td>\n",
       "      <td>30.005</td>\n",
       "      <td>21</td>\n",
       "      <td>1</td>\n",
       "      <td>0</td>\n",
       "      <td>3</td>\n",
       "      <td>dribble</td>\n",
       "      <td>success</td>\n",
       "      <td>foot</td>\n",
       "      <td>2.983827</td>\n",
       "      <td>NaN</td>\n",
       "      <td>left</td>\n",
       "    </tr>\n",
       "    <tr>\n",
       "      <th>4</th>\n",
       "      <td>3890561</td>\n",
       "      <td>2c51f271-c812-45af-896b-06f49a14a5bb</td>\n",
       "      <td>1</td>\n",
       "      <td>2.954</td>\n",
       "      <td>175</td>\n",
       "      <td>6039.0</td>\n",
       "      <td>45.3250</td>\n",
       "      <td>30.005</td>\n",
       "      <td>29.5750</td>\n",
       "      <td>15.725</td>\n",
       "      <td>0</td>\n",
       "      <td>1</td>\n",
       "      <td>5</td>\n",
       "      <td>4</td>\n",
       "      <td>pass</td>\n",
       "      <td>success</td>\n",
       "      <td>foot_right</td>\n",
       "      <td>21.259842</td>\n",
       "      <td>NaN</td>\n",
       "      <td>left</td>\n",
       "    </tr>\n",
       "    <tr>\n",
       "      <th>...</th>\n",
       "      <td>...</td>\n",
       "      <td>...</td>\n",
       "      <td>...</td>\n",
       "      <td>...</td>\n",
       "      <td>...</td>\n",
       "      <td>...</td>\n",
       "      <td>...</td>\n",
       "      <td>...</td>\n",
       "      <td>...</td>\n",
       "      <td>...</td>\n",
       "      <td>...</td>\n",
       "      <td>...</td>\n",
       "      <td>...</td>\n",
       "      <td>...</td>\n",
       "      <td>...</td>\n",
       "      <td>...</td>\n",
       "      <td>...</td>\n",
       "      <td>...</td>\n",
       "      <td>...</td>\n",
       "      <td>...</td>\n",
       "    </tr>\n",
       "    <tr>\n",
       "      <th>3639852</th>\n",
       "      <td>3878540</td>\n",
       "      <td>71006080-9dd2-401c-b02f-d8f8947644c5</td>\n",
       "      <td>2</td>\n",
       "      <td>2928.521</td>\n",
       "      <td>236</td>\n",
       "      <td>5589.0</td>\n",
       "      <td>45.0625</td>\n",
       "      <td>4.675</td>\n",
       "      <td>91.9625</td>\n",
       "      <td>34.935</td>\n",
       "      <td>0</td>\n",
       "      <td>0</td>\n",
       "      <td>5</td>\n",
       "      <td>2243</td>\n",
       "      <td>pass</td>\n",
       "      <td>fail</td>\n",
       "      <td>foot_right</td>\n",
       "      <td>55.814672</td>\n",
       "      <td>NaN</td>\n",
       "      <td>left</td>\n",
       "    </tr>\n",
       "    <tr>\n",
       "      <th>3639853</th>\n",
       "      <td>3878540</td>\n",
       "      <td>34beca91-bdec-408c-81d3-d423e74ec518</td>\n",
       "      <td>2</td>\n",
       "      <td>2933.156</td>\n",
       "      <td>240</td>\n",
       "      <td>7174.0</td>\n",
       "      <td>92.7500</td>\n",
       "      <td>34.170</td>\n",
       "      <td>83.5625</td>\n",
       "      <td>36.125</td>\n",
       "      <td>21</td>\n",
       "      <td>1</td>\n",
       "      <td>0</td>\n",
       "      <td>2244</td>\n",
       "      <td>dribble</td>\n",
       "      <td>success</td>\n",
       "      <td>foot</td>\n",
       "      <td>9.393199</td>\n",
       "      <td>NaN</td>\n",
       "      <td>right</td>\n",
       "    </tr>\n",
       "    <tr>\n",
       "      <th>3639854</th>\n",
       "      <td>3878540</td>\n",
       "      <td>7c4c3eae-84c0-4da0-baa4-e87d11376565</td>\n",
       "      <td>2</td>\n",
       "      <td>2935.131</td>\n",
       "      <td>240</td>\n",
       "      <td>7174.0</td>\n",
       "      <td>83.5625</td>\n",
       "      <td>36.125</td>\n",
       "      <td>41.1250</td>\n",
       "      <td>45.305</td>\n",
       "      <td>0</td>\n",
       "      <td>0</td>\n",
       "      <td>5</td>\n",
       "      <td>2245</td>\n",
       "      <td>pass</td>\n",
       "      <td>fail</td>\n",
       "      <td>foot_right</td>\n",
       "      <td>43.419049</td>\n",
       "      <td>NaN</td>\n",
       "      <td>right</td>\n",
       "    </tr>\n",
       "    <tr>\n",
       "      <th>3639855</th>\n",
       "      <td>3878540</td>\n",
       "      <td>d4d557ff-725e-4cfa-afee-e14fa9e3ed4b</td>\n",
       "      <td>2</td>\n",
       "      <td>2938.221</td>\n",
       "      <td>236</td>\n",
       "      <td>7778.0</td>\n",
       "      <td>40.3375</td>\n",
       "      <td>46.070</td>\n",
       "      <td>40.3375</td>\n",
       "      <td>46.070</td>\n",
       "      <td>10</td>\n",
       "      <td>1</td>\n",
       "      <td>0</td>\n",
       "      <td>2246</td>\n",
       "      <td>interception</td>\n",
       "      <td>success</td>\n",
       "      <td>foot</td>\n",
       "      <td>0.000000</td>\n",
       "      <td>NaN</td>\n",
       "      <td>left</td>\n",
       "    </tr>\n",
       "    <tr>\n",
       "      <th>3639856</th>\n",
       "      <td>3878540</td>\n",
       "      <td>d4d557ff-725e-4cfa-afee-e14fa9e3ed4b</td>\n",
       "      <td>2</td>\n",
       "      <td>2938.221</td>\n",
       "      <td>236</td>\n",
       "      <td>7778.0</td>\n",
       "      <td>40.3375</td>\n",
       "      <td>46.070</td>\n",
       "      <td>56.2625</td>\n",
       "      <td>58.565</td>\n",
       "      <td>0</td>\n",
       "      <td>1</td>\n",
       "      <td>1</td>\n",
       "      <td>2247</td>\n",
       "      <td>pass</td>\n",
       "      <td>success</td>\n",
       "      <td>head</td>\n",
       "      <td>20.241805</td>\n",
       "      <td>NaN</td>\n",
       "      <td>left</td>\n",
       "    </tr>\n",
       "  </tbody>\n",
       "</table>\n",
       "<p>3639857 rows × 20 columns</p>\n",
       "</div>"
      ],
      "text/plain": [
       "         game_id                     original_event_id  period_id  \\\n",
       "0        3890561  644e16d7-10ca-45f0-8128-fc0055d6f753          1   \n",
       "1        3890561  329a1879-2521-4614-8c68-b4798b0e5d23          1   \n",
       "2        3890561  77e2ddaf-6de3-49e7-a318-7d765799b543          1   \n",
       "3        3890561  1b91a029-f722-4b0d-b9d5-53cdc776f9e3          1   \n",
       "4        3890561  2c51f271-c812-45af-896b-06f49a14a5bb          1   \n",
       "...          ...                                   ...        ...   \n",
       "3639852  3878540  71006080-9dd2-401c-b02f-d8f8947644c5          2   \n",
       "3639853  3878540  34beca91-bdec-408c-81d3-d423e74ec518          2   \n",
       "3639854  3878540  7c4c3eae-84c0-4da0-baa4-e87d11376565          2   \n",
       "3639855  3878540  d4d557ff-725e-4cfa-afee-e14fa9e3ed4b          2   \n",
       "3639856  3878540  d4d557ff-725e-4cfa-afee-e14fa9e3ed4b          2   \n",
       "\n",
       "         time_seconds  team_id  player_id  start_x  start_y    end_x   end_y  \\\n",
       "0               0.482      175     8387.0  52.9375   34.340  52.2375  36.210   \n",
       "1               0.935      175     5460.0  52.2375   36.210  51.5375  35.870   \n",
       "2               1.015      175     5460.0  51.5375   35.870  46.7250  32.640   \n",
       "3               2.167      175     6039.0  46.7250   32.640  45.3250  30.005   \n",
       "4               2.954      175     6039.0  45.3250   30.005  29.5750  15.725   \n",
       "...               ...      ...        ...      ...      ...      ...     ...   \n",
       "3639852      2928.521      236     5589.0  45.0625    4.675  91.9625  34.935   \n",
       "3639853      2933.156      240     7174.0  92.7500   34.170  83.5625  36.125   \n",
       "3639854      2935.131      240     7174.0  83.5625   36.125  41.1250  45.305   \n",
       "3639855      2938.221      236     7778.0  40.3375   46.070  40.3375  46.070   \n",
       "3639856      2938.221      236     7778.0  40.3375   46.070  56.2625  58.565   \n",
       "\n",
       "         type_id  result_id  bodypart_id  action_id     type_name result_name  \\\n",
       "0              0          1            4          0          pass     success   \n",
       "1             21          1            0          1       dribble     success   \n",
       "2              0          1            4          2          pass     success   \n",
       "3             21          1            0          3       dribble     success   \n",
       "4              0          1            5          4          pass     success   \n",
       "...          ...        ...          ...        ...           ...         ...   \n",
       "3639852        0          0            5       2243          pass        fail   \n",
       "3639853       21          1            0       2244       dribble     success   \n",
       "3639854        0          0            5       2245          pass        fail   \n",
       "3639855       10          1            0       2246  interception     success   \n",
       "3639856        0          1            1       2247          pass     success   \n",
       "\n",
       "        bodypart_name  action_distance  shot_angle_centered goal_side  \n",
       "0           foot_left         1.996722                  NaN     right  \n",
       "1                foot         0.778203                  NaN      left  \n",
       "2           foot_left         5.795952                  NaN      left  \n",
       "3                foot         2.983827                  NaN      left  \n",
       "4          foot_right        21.259842                  NaN      left  \n",
       "...               ...              ...                  ...       ...  \n",
       "3639852    foot_right        55.814672                  NaN      left  \n",
       "3639853          foot         9.393199                  NaN     right  \n",
       "3639854    foot_right        43.419049                  NaN     right  \n",
       "3639855          foot         0.000000                  NaN      left  \n",
       "3639856          head        20.241805                  NaN      left  \n",
       "\n",
       "[3639857 rows x 20 columns]"
      ]
     },
     "execution_count": 12,
     "metadata": {},
     "output_type": "execute_result"
    }
   ],
   "source": [
    "all_actions"
   ]
  },
  {
   "cell_type": "code",
   "execution_count": 10,
   "metadata": {},
   "outputs": [],
   "source": [
    "# Winkel nur für Schüsse berechnen\n",
    "shot_mask = all_actions['type_name'] == 'shot'\n",
    "all_actions.loc[shot_mask, 'shot_angle_centered'] = all_actions[shot_mask].apply(calculate_centered_shot_angle, axis=1)"
   ]
  },
  {
   "cell_type": "markdown",
   "metadata": {},
   "source": []
  },
  {
   "cell_type": "code",
   "execution_count": 11,
   "metadata": {},
   "outputs": [
    {
     "data": {
      "text/plain": [
       "result_id\n",
       "1    3013209\n",
       "0     611964\n",
       "2       7640\n",
       "4       6724\n",
       "5        163\n",
       "3        157\n",
       "Name: count, dtype: int64"
      ]
     },
     "execution_count": 11,
     "metadata": {},
     "output_type": "execute_result"
    }
   ],
   "source": [
    "all_actions[\"result_id\"].value_counts()"
   ]
  },
  {
   "cell_type": "markdown",
   "metadata": {},
   "source": [
    "Wieso sind in result_id noch Werte höher 1 enthalten???\n",
    "\n",
    "Wofür steht 2, 3, 4, 5???"
   ]
  },
  {
   "cell_type": "markdown",
   "metadata": {},
   "source": [
    "0 == fail \\\n",
    "1 == sucess\\\n",
    "2 == offside\\\n",
    "3 == owngoal\\\n",
    "4 == yellow_card\\\n",
    "5 == red_card"
   ]
  },
  {
   "cell_type": "markdown",
   "metadata": {},
   "source": [
    "Nur 1 == success wird behalten, der rest wird auf 0 gesetzt"
   ]
  },
  {
   "cell_type": "code",
   "execution_count": null,
   "metadata": {},
   "outputs": [],
   "source": [
    "all_actions[\"result_id\"] = np.where(all_actions[\"result_id\"] == 1, 1, 0)"
   ]
  },
  {
   "cell_type": "markdown",
   "metadata": {},
   "source": [
    "Es sollen nur die spiele aus train_games zum trainieren verwendet werden"
   ]
  },
  {
   "cell_type": "code",
   "execution_count": null,
   "metadata": {},
   "outputs": [],
   "source": [
    "# Split games\n",
    "train_games, test_games, validation_games = split_games(\n",
    "  games=games,\n",
    "  train_percentage=50,\n",
    "  random_state=42,\n",
    "  shuffle=True\n",
    ")"
   ]
  },
  {
   "cell_type": "code",
   "execution_count": null,
   "metadata": {},
   "outputs": [],
   "source": [
    "unique_games = train_games['game_id'].unique()"
   ]
  },
  {
   "cell_type": "code",
   "execution_count": null,
   "metadata": {},
   "outputs": [],
   "source": [
    "# Trainings-Daten: Enthält nur Zeilen, deren game_id in unique_games ist\n",
    "all_actions_train = all_actions[all_actions['game_id'].isin(unique_games)]\n",
    "\n",
    "# Test-Daten: Enthält nur Zeilen, deren game_id NICHT in unique_games ist\n",
    "all_actions_test = all_actions[~all_actions['game_id'].isin(unique_games)]"
   ]
  },
  {
   "cell_type": "code",
   "execution_count": null,
   "metadata": {},
   "outputs": [],
   "source": [
    "\n",
    "# 2. Wähle die relevanten Features und die Zielvariable\n",
    "features = [\"start_x\", \"start_y\", \"end_x\", \"end_y\", \"bodypart_id\", \"type_id\", \"action_distance\", \"time_seconds\"]\n",
    "target = \"result_id\"\n",
    "\n",
    "\n",
    "X_train = all_actions_train[features].astype(\"float32\")\n",
    "y_train = all_actions_train[target]"
   ]
  },
  {
   "cell_type": "code",
   "execution_count": null,
   "metadata": {},
   "outputs": [],
   "source": [
    "X_test = all_actions_test[features].astype(\"float32\")\n",
    "y_test = all_actions_test[target]"
   ]
  },
  {
   "cell_type": "code",
   "execution_count": null,
   "metadata": {},
   "outputs": [],
   "source": [
    "# Modellpfad\n",
    "model_path = \"gb_model.pkl\"\n",
    "\n",
    "# Überprüfen, ob das Modell existiert\n",
    "if os.path.exists(model_path):\n",
    "    print(\"Lade vorhandenes Modell...\")\n",
    "    gb_model = joblib.load(model_path)\n",
    "else:\n",
    "    print(\"Kein gespeichertes Modell gefunden. Trainiere neues Modell...\")\n",
    "\n",
    "    # Initialisiere das Modell\n",
    "    gb_model = GradientBoostingClassifier(         \n",
    "        random_state=42      \n",
    "    )\n",
    "\n",
    "    # Trainiere das Modell\n",
    "    gb_model.fit(X_train, y_train)\n",
    "\n",
    "    # Speichere das Modell\n",
    "    joblib.dump(gb_model, model_path)\n",
    "    print(\"Neues Modell gespeichert als:\", model_path)"
   ]
  },
  {
   "cell_type": "code",
   "execution_count": null,
   "metadata": {},
   "outputs": [],
   "source": [
    "# 6. Erstelle Vorhersagen für die Testdaten\n",
    "y_pred_old = gb_model.predict(X_test)"
   ]
  },
  {
   "cell_type": "code",
   "execution_count": null,
   "metadata": {},
   "outputs": [],
   "source": [
    "# 7. Evaluiere das Modell, z.B. durch Berechnung der Genauigkeit\n",
    "accuracy = accuracy_score(y_test, y_pred_old)\n",
    "\n",
    "# Berechne False Positive Rate (fpr), True Positive Rate (tpr) und Schwellenwerte\n",
    "fpr, tpr, thresholds = roc_curve(y_test, y_pred_old)\n",
    "\n",
    "# Berechne die AUC (Area Under Curve)\n",
    "roc_auc = auc(fpr, tpr)\n",
    "\n",
    "# Berechne den Brier-Score\n",
    "brier_old = brier_score_loss(y_test, y_pred_old)\n",
    "\n",
    "print(\"Genauigkeit:\", accuracy)\n",
    "print(\"Brier Score:\", brier_old)"
   ]
  },
  {
   "cell_type": "code",
   "execution_count": null,
   "metadata": {},
   "outputs": [],
   "source": [
    "# Plot der ROC-Kurve\n",
    "plt.figure(figsize=(8, 6))\n",
    "plt.plot(fpr, tpr, lw=2, color=\"darkorange\", label=f\"ROC curve (AUC = {roc_auc:.2f})\")\n",
    "plt.plot([0, 1], [0, 1], lw=2, linestyle=\"--\", color=\"navy\")\n",
    "plt.xlim([0.0, 1.0])\n",
    "plt.ylim([0.0, 1.05])\n",
    "plt.xlabel(\"False Positive Rate\")\n",
    "plt.ylabel(\"True Positive Rate\")\n",
    "plt.title(\"Receiver Operating Characteristic\")\n",
    "plt.legend(loc=\"lower right\")\n",
    "plt.show()\n",
    "\n"
   ]
  },
  {
   "cell_type": "markdown",
   "metadata": {},
   "source": [
    "sind die aktionen immer von links nach rechts?\\\n",
    "Team A und Team B in einem Spiel die Schüssen anschauen. wo starte die aktion und wo endet sie für das jeweilige team"
   ]
  },
  {
   "cell_type": "markdown",
   "metadata": {},
   "source": [
    "features = start-position, eventtype, body, direction (Winkel), actions -distanz, time_seconds,"
   ]
  },
  {
   "cell_type": "markdown",
   "metadata": {},
   "source": [
    "winkel herausfinden für jede aktion"
   ]
  },
  {
   "cell_type": "markdown",
   "metadata": {},
   "source": [
    "fragliche features: action-geschwindigkeit, period_id, player_id,"
   ]
  },
  {
   "cell_type": "markdown",
   "metadata": {},
   "source": [
    "Player_id könnte wichtig sein wenn man das modell gewichten möchte.\n",
    "\n",
    "Spieler A vergleich mit Spieler B\n",
    "\n",
    "Spielertyp berücksichtigen \n",
    "\n",
    "ABER ALLES KOMMT ERST AM ENDE"
   ]
  },
  {
   "cell_type": "markdown",
   "metadata": {},
   "source": [
    "------------------------------"
   ]
  },
  {
   "cell_type": "markdown",
   "metadata": {},
   "source": [
    "Kann das Modell mit dem VAEP wert verbunden werden?"
   ]
  },
  {
   "cell_type": "markdown",
   "metadata": {},
   "source": [
    "Einmal mit GAM und einmal mit XGBoost durchführen"
   ]
  },
  {
   "cell_type": "code",
   "execution_count": null,
   "metadata": {},
   "outputs": [],
   "source": [
    "param_dist = {\n",
    "    'n_estimators': np.arange(100, 501, 50),  \n",
    "    'learning_rate': np.linspace(0.01, 0.2, 10),  \n",
    "    'max_depth': np.arange(3, 11, 2),  \n",
    "    'subsample': np.linspace(0.5, 1.0, 5)\n",
    "}\n",
    "\n",
    "random_search = RandomizedSearchCV(\n",
    "    gb_model,\n",
    "    param_dist, \n",
    "    n_iter=10, \n",
    "    cv=2, \n",
    "    scoring='accuracy', #log-loss oder brier score\n",
    "    random_state=42, \n",
    "    n_jobs=-1)\n",
    "random_search.fit(X_train, y_train)\n",
    "\n",
    "print(\"Beste Parameter:\", random_search.best_params_)"
   ]
  },
  {
   "cell_type": "code",
   "execution_count": null,
   "metadata": {},
   "outputs": [],
   "source": [
    "# Beste Parameter holen\n",
    "best_random_params = random_search.best_params_\n",
    "\n",
    "# Umwandlung in normale Python-Typen\n",
    "best_random_params_serializable = {key: float(value) if isinstance(value, (np.float32, np.float64)) \n",
    "                            else int(value) if isinstance(value, (np.int32, np.int64)) \n",
    "                            else value \n",
    "                            for key, value in best_random_params.items()}\n",
    "\n",
    "# In JSON speichern\n",
    "with open(\"beste_random_parameter.json\", \"w\") as f:\n",
    "    json.dump(best_random_params_serializable, f, indent=4)\n",
    "\n",
    "print(\"Beste Parameter wurden in 'beste_random_parameter.json' gespeichert.\")"
   ]
  },
  {
   "cell_type": "markdown",
   "metadata": {},
   "source": [
    "Parameter direkt ausprobieren"
   ]
  },
  {
   "cell_type": "code",
   "execution_count": null,
   "metadata": {},
   "outputs": [],
   "source": [
    "import json\n",
    "from sklearn.ensemble import GradientBoostingClassifier\n",
    "# JSON-Datei laden\n",
    "with open(\"beste_random_parameter.json\", \"r\") as f:\n",
    "    best_params = json.load(f)\n",
    "\n",
    "# Modell mit geladenen Parametern initialisieren\n",
    "new_gb_model = GradientBoostingClassifier(\n",
    "    **best_params,  # setzt automatisch alle Werte aus dem Dictionary ein\n",
    "    random_state=42  # optional zusätzlich gesetzt\n",
    "    # scoring kann hinzugefuegt werden\n",
    ")\n",
    "\n",
    "# Trainiere das Modell\n",
    "new_gb_model.fit(X_train, y_train)\n",
    "\n"
   ]
  },
  {
   "cell_type": "code",
   "execution_count": null,
   "metadata": {},
   "outputs": [],
   "source": [
    "# 6. Erstelle Vorhersagen für die Testdaten\n",
    "y_proba_new  = new_gb_model.predict(X_test)"
   ]
  },
  {
   "cell_type": "code",
   "execution_count": null,
   "metadata": {},
   "outputs": [],
   "source": [
    "# 7. Evaluiere das Modell, z.B. durch Berechnung der Genauigkeit\n",
    "accuracy_new = accuracy_score(y_test, y_proba_new )\n",
    "\n",
    "# Berechne False Positive Rate (fpr), True Positive Rate (tpr) und Schwellenwerte\n",
    "fpr, tpr, thresholds = roc_curve(y_test, y_proba_new )\n",
    "\n",
    "# Berechne die AUC (Area Under Curve)\n",
    "roc_auc = auc(fpr, tpr)\n",
    "\n",
    "# Berechne den Brier-Score\n",
    "brier_new = brier_score_loss(y_test, y_proba_new)\n",
    "\n",
    "print(\"Genauigkeit:\", accuracy_new)\n",
    "print(\"Brier Score:\", brier_new)"
   ]
  },
  {
   "cell_type": "code",
   "execution_count": null,
   "metadata": {},
   "outputs": [],
   "source": [
    "model_path = \"gb_model.pkl\"\n",
    "if os.path.exists(model_path):\n",
    "    old_model = joblib.load(model_path)\n",
    "    brier_old = brier_score_loss(y_test, y_pred_old)\n",
    "    print(f\"📦 Brier-Score des alten Modells: {brier_old:.4f}\")\n",
    "\n",
    "    if brier_new < brier_old:\n",
    "        print(\"✅ Neues Modell ist besser. Speichere es.\")\n",
    "        joblib.dump(new_gb_model, model_path)\n",
    "    else:\n",
    "        print(\"❌ Altes Modell ist besser. Behalte es.\")\n",
    "else:\n",
    "    print(\"📁 Kein altes Modell gefunden. Speichere das neue.\")\n",
    "    joblib.dump(new_gb_model, model_path)\n",
    "\n",
    "    "
   ]
  },
  {
   "cell_type": "markdown",
   "metadata": {},
   "source": [
    "GridSearch"
   ]
  },
  {
   "cell_type": "code",
   "execution_count": null,
   "metadata": {},
   "outputs": [],
   "source": [
    "# Grid mit limitierten Hyperparametern\n",
    "param_grid = {\n",
    "    'n_estimators': [100, 200, 300],  # Weniger Werte als in RandomizedSearchCV\n",
    "    'learning_rate': [0.01, 0.1, 0.2],\n",
    "    'max_depth': [3, 5, 7],\n",
    "    'subsample': [0.6, 0.8, 1.0]\n",
    "}\n",
    "\n",
    "# GridSearchCV initialisieren\n",
    "grid_search = GridSearchCV(\n",
    "    gb_model, \n",
    "    param_grid, \n",
    "    cv=2,  # Weniger Folds für schnellere Suche\n",
    "    scoring='accuracy', \n",
    "    n_jobs=-1  # Paralleles Training\n",
    ")\n",
    "\n",
    "# Suche starten\n",
    "grid_search.fit(X_train, y_train)\n",
    "\n",
    "# Beste Parameter anzeigen\n",
    "print(\"Beste Parameter:\", grid_search.best_params_)\n"
   ]
  },
  {
   "cell_type": "markdown",
   "metadata": {},
   "source": [
    "# Grid mit limitierten Hyperparametern\n",
    "param_grid = {\n",
    "    'n_estimators': [100, 200, 300],  # Weniger Werte als in RandomizedSearchCV\n",
    "    'learning_rate': [0.01, 0.1, 0.2],\n",
    "    'max_depth': [3, 5, 7],\n",
    "    'subsample': [0.6, 0.8, 1.0]\n",
    "}\n",
    "\n",
    "# GridSearchCV initialisieren\n",
    "grid_search = GridSearchCV(\n",
    "    gb_model, \n",
    "    param_grid, \n",
    "    cv=3,  # Weniger Folds für schnellere Suche\n",
    "    scoring='accuracy', \n",
    "    n_jobs=-1  # Paralleles Training\n",
    ")\n",
    "\n",
    "# Suche starten\n",
    "grid_search.fit(X_train, y_train)\n",
    "\n",
    "# Beste Parameter anzeigen\n",
    "print(\"Beste Parameter:\", grid_search.best_params_)"
   ]
  },
  {
   "cell_type": "markdown",
   "metadata": {},
   "source": [
    "Jede Kombination wird mit cv=3 getestet, also insgesamt 81 × 3 = 243 Trainingsläufe. (3×3×3×3=81 Kombinationen)"
   ]
  },
  {
   "attachments": {
    "image.png": {
     "image/png": "[encoded data removed]"
    }
   },
   "cell_type": "markdown",
   "metadata": {},
   "source": [
    "![image.png](attachment:image.png)"
   ]
  },
  {
   "cell_type": "code",
   "execution_count": null,
   "metadata": {},
   "outputs": [],
   "source": [
    "# Beste Parameter speichern\n",
    "grid_best_params = grid_search.best_params_\n",
    "\n",
    "# Umwandlung in normale Python-Typen\n",
    "best_params_serializable = {key: float(value) if isinstance(value, (np.float32, np.float64)) \n",
    "                            else int(value) if isinstance(value, (np.int32, np.int64)) \n",
    "                            else value \n",
    "                            for key, value in best_params.items()}\n",
    "\n",
    "# In einer JSON-Datei speichern\n",
    "with open(\"grid_search_params.json\", \"w\") as f:\n",
    "    json.dump(grid_best_params, f, indent=4)\n",
    "\n",
    "print(\"Beste Parameter von GridSearchCV gespeichert in 'grid_search_params.json'\")"
   ]
  },
  {
   "cell_type": "code",
   "execution_count": null,
   "metadata": {},
   "outputs": [],
   "source": [
    "# Initialisiere das Modell\n",
    "gb_grid_model = GradientBoostingClassifier(\n",
    "    n_estimators=300,    \n",
    "    learning_rate=0.1,   \n",
    "    max_depth=7,         \n",
    "    subsample=0.8,         \n",
    "    random_state=42      \n",
    ")\n",
    "\n",
    "# Trainiere das Modell\n",
    "gb_grid_model.fit(X_train, y_train)\n",
    "\n",
    "# Speichere das Modell\n",
    "#joblib.dump(gb_grid_model, model_path)\n",
    "#print(\"Neues Modell gespeichert als:\", model_path)\n",
    "\n",
    "# 6. Erstelle Vorhersagen für die Testdaten\n",
    "y_proba_new  = gb_grid_model.predict(X_test)\n",
    "\n",
    "# 7. Evaluiere das Modell, z.B. durch Berechnung der Genauigkeit\n",
    "accuracy_new = accuracy_score(y_test, y_proba_new )\n",
    "\n",
    "# Berechne False Positive Rate (fpr), True Positive Rate (tpr) und Schwellenwerte\n",
    "fpr, tpr, thresholds = roc_curve(y_test, y_proba_new )\n",
    "\n",
    "# Berechne die AUC (Area Under Curve)\n",
    "roc_auc = auc(fpr, tpr)\n",
    "\n",
    "# Berechne den Brier-Score\n",
    "brier_new = brier_score_loss(y_test, y_proba_new)\n",
    "\n",
    "print(\"Genauigkeit:\", accuracy_new)\n",
    "print(\"Brier Score:\", brier_new)"
   ]
  },
  {
   "cell_type": "code",
   "execution_count": null,
   "metadata": {},
   "outputs": [],
   "source": [
    "# 6. Erstelle Vorhersagen für die Testdaten\n",
    "y_proba_new  = gb_grid_model.predict(X_test)\n",
    "\n",
    "# 7. Evaluiere das Modell, z.B. durch Berechnung der Genauigkeit\n",
    "accuracy_new = accuracy_score(y_test, y_proba_new )\n",
    "\n",
    "# Berechne False Positive Rate (fpr), True Positive Rate (tpr) und Schwellenwerte\n",
    "fpr, tpr, thresholds = roc_curve(y_test, y_proba_new )\n",
    "\n",
    "# Berechne die AUC (Area Under Curve)\n",
    "roc_auc = auc(fpr, tpr)\n",
    "\n",
    "# Berechne den Brier-Score\n",
    "brier_new = brier_score_loss(y_test, y_proba_new)\n",
    "\n",
    "print(\"Genauigkeit:\", accuracy_new)\n",
    "print(\"Brier Score:\", brier_new)"
   ]
  },
  {
   "cell_type": "code",
   "execution_count": null,
   "metadata": {},
   "outputs": [],
   "source": [
    "importances = gb_model.feature_importances_\n",
    "features_sorted = sorted(zip(features, importances), key=lambda x: x[1], reverse=True)\n",
    "\n",
    "# Visualisieren\n",
    "plt.figure(figsize=(10, 6))\n",
    "plt.barh([f[0] for f in features_sorted], [f[1] for f in features_sorted])\n",
    "plt.xlabel(\"Wichtigkeit\")\n",
    "plt.title(\"Feature Importance im Modell\")\n",
    "plt.gca().invert_yaxis()\n",
    "plt.tight_layout()\n",
    "plt.show()"
   ]
  }
 ],
 "metadata": {
  "kernelspec": {
   "display_name": "Python 3",
   "language": "python",
   "name": "python3"
  },
  "language_info": {
   "codemirror_mode": {
    "name": "ipython",
    "version": 3
   },
   "file_extension": ".py",
   "mimetype": "text/x-python",
   "name": "python",
   "nbconvert_exporter": "python",
   "pygments_lexer": "ipython3",
   "version": "3.12.1"
  }
 },
 "nbformat": 4,
 "nbformat_minor": 2
}
