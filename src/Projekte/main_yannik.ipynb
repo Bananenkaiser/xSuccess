{
 "cells": [
  {
   "cell_type": "markdown",
   "metadata": {},
   "source": [
    "## 0) Import and configure"
   ]
  },
  {
   "cell_type": "code",
   "execution_count": 3,
   "metadata": {
    "ExecuteTime": {
     "end_time": "2025-02-05T10:59:18.450706Z",
     "start_time": "2025-02-05T10:59:15.251886Z"
    }
   },
   "outputs": [],
   "source": [
    "# Import packages\n",
    "import pandas as pd\n",
    "import warnings\n",
    "\n",
    "# Import functions\n",
    "from src.data_processing import config_h5_file_paths, fetch_match_data, generate_match_data, split_games, split_match_data, adjust_results, store_match_data, load_match_data\n",
    "from src.feature_processing import select_features, generate_features, store_features\n",
    "from src.label_processing import select_labels, generate_labels, store_labels\n",
    "from src.vaep_processing import load_features_labels, train_model, evaluate_model, store_predictions, compute_vaep, store_vaep, load_vaep, compare_vaep"
   ]
  },
  {
   "cell_type": "code",
   "execution_count": 4,
   "metadata": {
    "ExecuteTime": {
     "end_time": "2025-02-05T10:59:18.466172Z",
     "start_time": "2025-02-05T10:59:18.457717Z"
    }
   },
   "outputs": [],
   "source": [
    "# Ignore warnings\n",
    "warnings.filterwarnings(\n",
    "  action=\"ignore\", \n",
    "  message=\"credentials were not supplied. open data access only\"\n",
    ")\n",
    "warnings.simplefilter(\n",
    "  action='ignore', \n",
    "  category=pd.errors.PerformanceWarning\n",
    ")\n",
    "pd.set_option('future.no_silent_downcasting', True)\n",
    "\n",
    "warnings.filterwarnings(\n",
    "    \"ignore\",\n",
    "    message=\"A value is trying to be set on a copy of a DataFrame or Series through chained assignment using an inplace method.\"\n",
    ")"
   ]
  },
  {
   "cell_type": "code",
   "execution_count": 5,
   "metadata": {
    "ExecuteTime": {
     "end_time": "2025-02-05T10:59:18.785539Z",
     "start_time": "2025-02-05T10:59:18.776956Z"
    }
   },
   "outputs": [
    {
     "name": "stdout",
     "output_type": "stream",
     "text": [
      "The folder '.\\xSuccess\\top5_15-16_spadl' already exists.\n"
     ]
    }
   ],
   "source": [
    "# Configure format, h5-file, and folder names\n",
    "datafolder = \".\\\\xSuccess\\\\top5_15-16_spadl\"\n",
    "format = \"spadl\"\n",
    "\n",
    "match_data_h5, match_data_train_h5, match_data_test_h5, match_data_test_success_h5, match_data_test_fail_h5, features_train_h5, features_test_h5, features_test_success_h5, features_test_fail_h5, labels_train_h5, labels_test_h5, labels_test_success_h5, labels_test_fail_h5, predictions_test_h5, predictions_test_success_h5, predictions_test_fail_h5, vaep_test_h5, vaep_test_success_h5, vaep_test_fail_h5 = config_h5_file_paths(\n",
    "  datafolder=datafolder,\n",
    "  format=format\n",
    ")"
   ]
  },
  {
   "cell_type": "markdown",
   "metadata": {},
   "source": [
    "## 1) Match data"
   ]
  },
  {
   "cell_type": "markdown",
   "metadata": {},
   "source": [
    "### Fetch, generate, and store full match data (Only once!)"
   ]
  },
  {
   "cell_type": "code",
   "execution_count": null,
   "metadata": {
    "ExecuteTime": {
     "end_time": "2025-01-28T15:32:16.009611Z",
     "start_time": "2025-01-28T15:32:13.577828Z"
    }
   },
   "outputs": [],
   "source": [
    "# Fetch match data\n",
    "loader, selected_competitions, games = fetch_match_data(\n",
    "  data_provider=\"statsbomb\", \n",
    "  source=\"free\", \n",
    "  seasons=[\"2015/2016\"], \n",
    "  competitions=[\"Premier League\", \"La Liga\", \"1. Bundesliga\", \"Serie A\", \"Ligue 1\"]\n",
    ")"
   ]
  },
  {
   "cell_type": "code",
   "execution_count": 14,
   "metadata": {},
   "outputs": [
    {
     "name": "stderr",
     "output_type": "stream",
     "text": [
      "Converting match data: 100%|██████████| 1823/1823 [1:13:26<00:00,  2.42s/it]\n"
     ]
    }
   ],
   "source": [
    "# Generate match data\n",
    "teams, players, actions = generate_match_data(\n",
    "  games=games,\n",
    "  loader=loader,\n",
    "  format=format\n",
    ")"
   ]
  },
  {
   "cell_type": "code",
   "execution_count": 15,
   "metadata": {
    "ExecuteTime": {
     "end_time": "2025-01-28T16:41:25.506617Z",
     "start_time": "2025-01-28T16:40:59.221140Z"
    }
   },
   "outputs": [
    {
     "name": "stdout",
     "output_type": "stream",
     "text": [
      "Match data (spadl format) successfully stored.\n"
     ]
    }
   ],
   "source": [
    "# Store match data\n",
    "store_match_data(\n",
    "  games=games,\n",
    "  teams=teams,\n",
    "  players=players,\n",
    "  actions=actions,\n",
    "  format=format,\n",
    "  match_data_h5=match_data_h5\n",
    ")"
   ]
  },
  {
   "cell_type": "markdown",
   "metadata": {},
   "source": [
    "### Generate and store train & test match data"
   ]
  },
  {
   "cell_type": "code",
   "execution_count": 6,
   "metadata": {
    "ExecuteTime": {
     "end_time": "2025-02-03T15:17:07.443389Z",
     "start_time": "2025-02-03T15:16:47.653978Z"
    }
   },
   "outputs": [
    {
     "name": "stderr",
     "output_type": "stream",
     "text": [
      "Loading match data: 100%|██████████| 1823/1823 [00:15<00:00, 115.50it/s]\n"
     ]
    }
   ],
   "source": [
    "# Load full match data\n",
    "games, teams, players, player_games, actions = load_match_data(\n",
    "  format=format,\n",
    "  match_data_h5=match_data_h5\n",
    ")"
   ]
  },
  {
   "cell_type": "markdown",
   "metadata": {},
   "source": [
    "Inspect h5 file if empty or not"
   ]
  },
  {
   "cell_type": "code",
   "execution_count": null,
   "metadata": {},
   "outputs": [],
   "source": [
    "print(\"Games:\")\n",
    "print(games.head())"
   ]
  },
  {
   "cell_type": "code",
   "execution_count": null,
   "metadata": {},
   "outputs": [],
   "source": [
    "# Falls 'actions' ein Dictionary von DataFrames ist:\n",
    "for game_id, df in actions.items():\n",
    "    print(f\"Actions for game {game_id}: {df.shape[0]} rows\")\n",
    "    break  # Nur das erste Beispiel anzeigen"
   ]
  },
  {
   "cell_type": "code",
   "execution_count": 7,
   "metadata": {
    "ExecuteTime": {
     "end_time": "2025-02-03T15:18:14.396093Z",
     "start_time": "2025-02-03T15:18:14.372823Z"
    }
   },
   "outputs": [],
   "source": [
    "# Split games\n",
    "train_games, test_games, validation_games = split_games(\n",
    "  games=games,\n",
    "  train_percentage=50,\n",
    "  random_state=42,\n",
    "  shuffle=True\n",
    ")"
   ]
  },
  {
   "cell_type": "code",
   "execution_count": 8,
   "metadata": {
    "ExecuteTime": {
     "end_time": "2025-02-03T15:18:17.494025Z",
     "start_time": "2025-02-03T15:18:17.470526Z"
    }
   },
   "outputs": [],
   "source": [
    "# Split match data\n",
    "split_player_games, split_actions = split_match_data(\n",
    "    split_games=test_games,\n",
    "    player_games=player_games,\n",
    "    actions=actions\n",
    ")"
   ]
  },
  {
   "cell_type": "code",
   "execution_count": 9,
   "metadata": {},
   "outputs": [
    {
     "name": "stdout",
     "output_type": "stream",
     "text": [
      "Match data (spadl format) successfully stored.\n"
     ]
    }
   ],
   "source": [
    "# Store train and test match data\n",
    "store_match_data(\n",
    "  games=train_games,\n",
    "  teams=teams,\n",
    "  players=players,\n",
    "  player_games=split_player_games,\n",
    "  actions=split_actions,\n",
    "  format=format,\n",
    "  match_data_h5=match_data_train_h5\n",
    ")"
   ]
  },
  {
   "cell_type": "code",
   "execution_count": null,
   "metadata": {},
   "outputs": [],
   "source": [
    "print(\"Games:\")\n",
    "print(games.head())"
   ]
  },
  {
   "cell_type": "code",
   "execution_count": 10,
   "metadata": {
    "ExecuteTime": {
     "end_time": "2025-01-29T08:43:54.513783Z",
     "start_time": "2025-01-29T08:43:39.150234Z"
    }
   },
   "outputs": [
    {
     "name": "stdout",
     "output_type": "stream",
     "text": [
      "Match data (spadl format) successfully stored.\n"
     ]
    }
   ],
   "source": [
    "# Store train and test match data\n",
    "store_match_data(\n",
    "  games=test_games,\n",
    "  teams=teams,\n",
    "  players=players,\n",
    "  player_games=split_player_games,\n",
    "  actions=split_actions,\n",
    "  format=format,\n",
    "  match_data_h5=match_data_test_h5\n",
    ")"
   ]
  },
  {
   "cell_type": "code",
   "execution_count": null,
   "metadata": {},
   "outputs": [],
   "source": [
    "with pd.HDFStore(match_data_test_h5, 'r') as store:\n",
    "    print(\"Gespeicherte Keys und deren Dimensionen:\")\n",
    "    for key in store.keys():\n",
    "        df = store.get(key)\n",
    "        print(f\"Key: {key} -> {df.shape[0]} Zeilen, {df.shape[1]} Spalten\")"
   ]
  },
  {
   "cell_type": "markdown",
   "metadata": {},
   "source": [
    "### Change results for adjusted test match data"
   ]
  },
  {
   "cell_type": "markdown",
   "metadata": {},
   "source": [
    "Brauche ich diese Zeile Code?"
   ]
  },
  {
   "cell_type": "markdown",
   "metadata": {},
   "source": [
    "# If test match data is already stored, load it\n",
    "train_games, teams, players, player_games, actions = load_match_data(\n",
    "  format=format,\n",
    "  match_data_h5=match_data_train_h5)\n"
   ]
  },
  {
   "cell_type": "code",
   "execution_count": 11,
   "metadata": {},
   "outputs": [
    {
     "name": "stderr",
     "output_type": "stream",
     "text": [
      "Loading match data: 100%|██████████| 912/912 [00:07<00:00, 115.39it/s]\n"
     ]
    }
   ],
   "source": [
    "# If test match data is already stored, load it\n",
    "test_games, teams, players, player_games, actions = load_match_data(\n",
    "  format=format,\n",
    "  match_data_h5=match_data_test_h5\n",
    ")"
   ]
  },
  {
   "cell_type": "code",
   "execution_count": 12,
   "metadata": {
    "ExecuteTime": {
     "end_time": "2025-01-29T08:44:46.925873Z",
     "start_time": "2025-01-29T08:44:43.736997Z"
    }
   },
   "outputs": [],
   "source": [
    "# Change results (outcome) of actions for each game and action of test match data\n",
    "actions_success, actions_fail = adjust_results(\n",
    "  test_games=test_games,\n",
    "  actions=actions\n",
    ")"
   ]
  },
  {
   "cell_type": "code",
   "execution_count": 13,
   "metadata": {},
   "outputs": [
    {
     "name": "stdout",
     "output_type": "stream",
     "text": [
      "Match data (spadl format) successfully stored.\n"
     ]
    }
   ],
   "source": [
    "# Store adjusted test_success match data\n",
    "store_match_data(\n",
    "  games=test_games,\n",
    "  teams=teams,\n",
    "  players=players,\n",
    "  player_games=player_games,\n",
    "  actions=actions_success,\n",
    "  format=format,\n",
    "  match_data_h5=match_data_test_success_h5\n",
    ")"
   ]
  },
  {
   "cell_type": "markdown",
   "metadata": {},
   "source": [
    "with pd.HDFStore(match_data_test_success_h5, 'r') as store:\n",
    "    print(\"Gespeicherte Keys und deren Dimensionen:\")\n",
    "    for key in store.keys():\n",
    "        df = store.get(key)\n",
    "        print(f\"Key: {key} -> {df.shape[0]} Zeilen, {df.shape[1]} Spalten\")"
   ]
  },
  {
   "cell_type": "code",
   "execution_count": 14,
   "metadata": {
    "ExecuteTime": {
     "end_time": "2025-01-29T08:45:47.637896Z",
     "start_time": "2025-01-29T08:45:28.744252Z"
    }
   },
   "outputs": [
    {
     "name": "stdout",
     "output_type": "stream",
     "text": [
      "Match data (spadl format) successfully stored.\n"
     ]
    }
   ],
   "source": [
    "# Store adjusted test_fail match data\n",
    "store_match_data(\n",
    "  games=test_games,\n",
    "  teams=teams,\n",
    "  players=players,\n",
    "  player_games=player_games,\n",
    "  actions=actions_fail,\n",
    "  format=format,\n",
    "  match_data_h5=match_data_test_fail_h5\n",
    ")"
   ]
  },
  {
   "cell_type": "code",
   "execution_count": null,
   "metadata": {},
   "outputs": [],
   "source": [
    "with pd.HDFStore(match_data_test_fail_h5, 'r') as store:\n",
    "    print(\"Gespeicherte Keys und deren Dimensionen:\")\n",
    "    for key in store.keys():\n",
    "        df = store.get(key)\n",
    "        print(f\"Key: {key} -> {df.shape[0]} Zeilen, {df.shape[1]} Spalten\")"
   ]
  },
  {
   "cell_type": "markdown",
   "metadata": {},
   "source": [
    "# 2) VAEP values"
   ]
  },
  {
   "cell_type": "markdown",
   "metadata": {},
   "source": [
    "## 2.1) Generate and store features & labels"
   ]
  },
  {
   "cell_type": "code",
   "execution_count": 15,
   "metadata": {
    "ExecuteTime": {
     "end_time": "2025-02-05T10:03:36.095363Z",
     "start_time": "2025-02-05T10:03:22.002977Z"
    }
   },
   "outputs": [
    {
     "name": "stderr",
     "output_type": "stream",
     "text": [
      "Loading match data: 100%|██████████| 912/912 [00:07<00:00, 114.22it/s]\n"
     ]
    }
   ],
   "source": [
    "# Load match data\n",
    "games, teams, players, player_games, actions = load_match_data(\n",
    "  format=format,\n",
    "  match_data_h5=match_data_test_fail_h5\n",
    ")"
   ]
  },
  {
   "cell_type": "markdown",
   "metadata": {},
   "source": [
    "### Select, generate, and store features"
   ]
  },
  {
   "cell_type": "code",
   "execution_count": 16,
   "metadata": {
    "ExecuteTime": {
     "end_time": "2025-02-05T09:44:44.259984Z",
     "start_time": "2025-02-05T09:44:44.247136Z"
    }
   },
   "outputs": [],
   "source": [
    "# Select features\n",
    "xfns = select_features(\n",
    "  format=format\n",
    ")"
   ]
  },
  {
   "cell_type": "markdown",
   "metadata": {},
   "source": [
    "## Feature_Train"
   ]
  },
  {
   "cell_type": "code",
   "execution_count": 17,
   "metadata": {},
   "outputs": [
    {
     "name": "stderr",
     "output_type": "stream",
     "text": [
      "Generating features: 100%|██████████| 912/912 [00:29<00:00, 30.72it/s]\n"
     ]
    }
   ],
   "source": [
    "# Generate features\n",
    "X_dict = generate_features(\n",
    "  games=games,\n",
    "  xfns=xfns,\n",
    "  nb_prev_actions=1,\n",
    "  format=format,\n",
    "  match_data_h5=match_data_train_h5\n",
    ")"
   ]
  },
  {
   "cell_type": "code",
   "execution_count": null,
   "metadata": {},
   "outputs": [],
   "source": [
    "# Store features\n",
    "store_features(\n",
    "  X_dict=X_dict,\n",
    "  format=format,\n",
    "  features_h5=features_train_h5\n",
    ")"
   ]
  },
  {
   "cell_type": "markdown",
   "metadata": {},
   "source": [
    "## Feature Test Fail"
   ]
  },
  {
   "cell_type": "code",
   "execution_count": null,
   "metadata": {
    "ExecuteTime": {
     "end_time": "2025-02-05T10:04:13.390413Z",
     "start_time": "2025-02-05T10:03:36.098011Z"
    }
   },
   "outputs": [],
   "source": [
    "# Generate features\n",
    "X_dict = generate_features(\n",
    "  games=games,\n",
    "  xfns=xfns,\n",
    "  nb_prev_actions=1,\n",
    "  format=format,\n",
    "  match_data_h5=match_data_test_fail_h5\n",
    ")"
   ]
  },
  {
   "cell_type": "code",
   "execution_count": null,
   "metadata": {
    "ExecuteTime": {
     "end_time": "2025-02-05T10:05:17.494935Z",
     "start_time": "2025-02-05T10:04:13.448617Z"
    }
   },
   "outputs": [],
   "source": [
    "# Store features\n",
    "store_features(\n",
    "  X_dict=X_dict,\n",
    "  format=format,\n",
    "  features_h5=features_test_fail_h5\n",
    ")"
   ]
  },
  {
   "cell_type": "code",
   "execution_count": null,
   "metadata": {},
   "outputs": [],
   "source": [
    "\n",
    "with pd.HDFStore(features_test_fail_h5, 'r') as store:\n",
    "    keys = store.keys()\n",
    "    print(\"Anzahl der Keys in der Datei:\", len(keys))\n",
    "\n",
    "    # Beispiel: Laden der Features eines bestimmten Keys (z.B. des ersten)\n",
    "    first_key = store.keys()[0]\n",
    "    features_df = store[first_key]\n",
    "    \n",
    "# Tabellarische Darstellung der ersten Zeilen\n",
    "#print(features_df.head())\n",
    "\n"
   ]
  },
  {
   "cell_type": "markdown",
   "metadata": {},
   "source": [
    "with pd.HDFStore(features_test_fail_h5, 'r') as store:\n",
    "    print(\"Verfügbare Keys in der Datei:\")\n",
    "    for key in store.keys():\n",
    "        print(key)\n"
   ]
  },
  {
   "cell_type": "markdown",
   "metadata": {},
   "source": [
    "### Select, generate, and store labels"
   ]
  },
  {
   "cell_type": "code",
   "execution_count": null,
   "metadata": {
    "ExecuteTime": {
     "end_time": "2025-01-29T08:59:49.293898Z",
     "start_time": "2025-01-29T08:59:49.280501Z"
    }
   },
   "outputs": [],
   "source": [
    "# Select labels\n",
    "yfns = select_labels(\n",
    "  format=format\n",
    ")"
   ]
  },
  {
   "cell_type": "markdown",
   "metadata": {},
   "source": [
    "## Label Train"
   ]
  },
  {
   "cell_type": "code",
   "execution_count": null,
   "metadata": {},
   "outputs": [],
   "source": [
    "# Generate labels\n",
    "Y_dict = generate_labels(\n",
    "  games=test_games,\n",
    "  yfns=yfns,\n",
    "  format=format,\n",
    "  match_data_h5=match_data_test_h5\n",
    ")"
   ]
  },
  {
   "cell_type": "code",
   "execution_count": null,
   "metadata": {},
   "outputs": [],
   "source": [
    "# Store regular labels\n",
    "store_labels(\n",
    "  Y_dict=Y_dict,\n",
    "  format=format,\n",
    "  labels_h5=labels_test_h5\n",
    ")"
   ]
  },
  {
   "cell_type": "markdown",
   "metadata": {},
   "source": [
    "## Label test fail"
   ]
  },
  {
   "cell_type": "code",
   "execution_count": null,
   "metadata": {
    "ExecuteTime": {
     "end_time": "2025-01-29T09:48:40.315502Z",
     "start_time": "2025-01-29T09:48:11.869222Z"
    }
   },
   "outputs": [],
   "source": [
    "# Generate labels\n",
    "Y_dict = generate_labels(\n",
    "  games=test_games,\n",
    "  yfns=yfns,\n",
    "  format=format,\n",
    "  match_data_h5=match_data_test_fail_h5\n",
    ")"
   ]
  },
  {
   "cell_type": "code",
   "execution_count": null,
   "metadata": {
    "ExecuteTime": {
     "end_time": "2025-01-29T09:48:44.707729Z",
     "start_time": "2025-01-29T09:48:40.368886Z"
    }
   },
   "outputs": [],
   "source": [
    "# Store regular labels\n",
    "store_labels(\n",
    "  Y_dict=Y_dict,\n",
    "  format=format,\n",
    "  labels_h5=labels_test_fail_h5\n",
    ")"
   ]
  },
  {
   "cell_type": "code",
   "execution_count": null,
   "metadata": {},
   "outputs": [],
   "source": [
    "with pd.HDFStore(labels_test_fail_h5, 'r') as store:\n",
    "    keys = store.keys()\n",
    "    print(\"Anzahl der Keys in der Datei:\", len(keys))\n",
    "    # Beispiel: Laden der Features eines bestimmten Keys (z.B. des ersten)\n",
    "    first_key = store.keys()[0]\n",
    "    labels_df = store[first_key]\n",
    "    \n",
    "# Tabellarische Darstellung der ersten Zeilen\n",
    "print(labels_df.head())\n",
    "\n"
   ]
  },
  {
   "cell_type": "markdown",
   "metadata": {},
   "source": [
    "## 2.2) Train VAEP model"
   ]
  },
  {
   "cell_type": "code",
   "execution_count": null,
   "metadata": {
    "ExecuteTime": {
     "end_time": "2025-02-05T10:05:31.444534Z",
     "start_time": "2025-02-05T10:05:17.549440Z"
    }
   },
   "outputs": [],
   "source": [
    "# Load training data\n",
    "train_games, teams, players, player_games, actions = load_match_data(\n",
    "  format=format,\n",
    "  match_data_h5=match_data_train_h5\n",
    ")"
   ]
  },
  {
   "cell_type": "code",
   "execution_count": null,
   "metadata": {
    "ExecuteTime": {
     "end_time": "2025-02-05T10:06:11.273252Z",
     "start_time": "2025-02-05T10:05:31.507014Z"
    }
   },
   "outputs": [],
   "source": [
    "# Load features and labels for training data\n",
    "X_train, Y_train = load_features_labels(\n",
    "  split_games=train_games,\n",
    "  nb_prev_actions=1,\n",
    "  format=format,\n",
    "  features_h5=features_train_h5,\n",
    "  labels_h5=labels_train_h5\n",
    ")"
   ]
  },
  {
   "cell_type": "code",
   "execution_count": null,
   "metadata": {
    "ExecuteTime": {
     "end_time": "2025-02-05T10:06:30.206025Z",
     "start_time": "2025-02-05T10:06:11.312646Z"
    }
   },
   "outputs": [],
   "source": [
    "# Train the model\n",
    "models = train_model(\n",
    "  X_train=X_train,\n",
    "  Y_train=Y_train,\n",
    "  n_estimators=50,\n",
    "  max_depth=3,\n",
    "  n_jobs=-3,\n",
    "  verbosity=1,\n",
    "  enable_categorical=True\n",
    ")"
   ]
  },
  {
   "cell_type": "markdown",
   "metadata": {},
   "source": [
    "## 2.3) Compute VAEP values"
   ]
  },
  {
   "cell_type": "code",
   "execution_count": null,
   "metadata": {
    "ExecuteTime": {
     "end_time": "2025-02-05T10:15:07.876695Z",
     "start_time": "2025-02-05T10:14:53.091861Z"
    }
   },
   "outputs": [],
   "source": [
    "# Load training data\n",
    "test_games, teams, players, player_games, actions = load_match_data(\n",
    "  format=format,\n",
    "  match_data_h5=match_data_test_fail_h5\n",
    ")"
   ]
  },
  {
   "cell_type": "code",
   "execution_count": null,
   "metadata": {
    "ExecuteTime": {
     "end_time": "2025-02-05T10:16:00.931757Z",
     "start_time": "2025-02-05T10:15:20.964553Z"
    }
   },
   "outputs": [],
   "source": [
    "# Load features and labels for testing data\n",
    "X_test, Y_test = load_features_labels(\n",
    "  split_games=test_games,\n",
    "  nb_prev_actions=1,\n",
    "  format=format,\n",
    "  features_h5=features_test_fail_h5,\n",
    "  labels_h5=labels_test_fail_h5\n",
    ")"
   ]
  },
  {
   "cell_type": "code",
   "execution_count": null,
   "metadata": {
    "ExecuteTime": {
     "end_time": "2025-02-05T10:16:04.946382Z",
     "start_time": "2025-02-05T10:16:00.940766Z"
    }
   },
   "outputs": [],
   "source": [
    "# Evaluate the model\n",
    "Y_hat = evaluate_model(\n",
    "  X_test=X_test,\n",
    "  Y_test=Y_test,\n",
    "  models=models\n",
    ")"
   ]
  },
  {
   "cell_type": "code",
   "execution_count": null,
   "metadata": {
    "ExecuteTime": {
     "end_time": "2025-02-05T10:16:16.717751Z",
     "start_time": "2025-02-05T10:16:04.999680Z"
    }
   },
   "outputs": [],
   "source": [
    "# Store predictions\n",
    "store_predictions(\n",
    "  test_games=test_games,\n",
    "  Y_hat=Y_hat,\n",
    "  format=format,\n",
    "  match_data_h5=match_data_test_fail_h5,\n",
    "  predictions_h5=predictions_test_fail_h5\n",
    ")"
   ]
  },
  {
   "cell_type": "code",
   "execution_count": null,
   "metadata": {
    "ExecuteTime": {
     "end_time": "2025-02-05T10:16:50.096836Z",
     "start_time": "2025-02-05T10:16:16.767502Z"
    }
   },
   "outputs": [],
   "source": [
    "# Compute VAEP values\n",
    "vaep_values = compute_vaep(\n",
    "  test_games=test_games,\n",
    "  teams=teams,\n",
    "  players=players,\n",
    "  format=format,\n",
    "  match_data_h5=match_data_test_fail_h5,\n",
    "  predictions_h5=predictions_test_fail_h5\n",
    ")"
   ]
  },
  {
   "cell_type": "code",
   "execution_count": null,
   "metadata": {
    "ExecuteTime": {
     "end_time": "2025-02-05T10:17:06.048507Z",
     "start_time": "2025-02-05T10:16:50.147583Z"
    }
   },
   "outputs": [],
   "source": [
    "# Store VAEP values\n",
    "store_vaep(\n",
    "  vaep_values=vaep_values,\n",
    "  format=format,\n",
    "  vaep_h5=vaep_test_fail_h5\n",
    ")"
   ]
  },
  {
   "cell_type": "markdown",
   "metadata": {},
   "source": [
    "## 2.4) Compare VAEP values"
   ]
  },
  {
   "cell_type": "code",
   "execution_count": null,
   "metadata": {
    "ExecuteTime": {
     "end_time": "2025-02-05T11:00:07.731862Z",
     "start_time": "2025-02-05T10:59:21.611751Z"
    }
   },
   "outputs": [],
   "source": [
    "# Load VAEP values\n",
    "vaep_values = load_vaep(\n",
    "  vaep_h5=vaep_test_h5\n",
    ")\n",
    "\n",
    "vaep_values_success = load_vaep(\n",
    "  vaep_h5=vaep_test_success_h5\n",
    ")\n",
    "\n",
    "vaep_values_fail = load_vaep(\n",
    "  vaep_h5=vaep_test_fail_h5\n",
    ")"
   ]
  },
  {
   "cell_type": "code",
   "execution_count": null,
   "metadata": {
    "ExecuteTime": {
     "end_time": "2025-02-05T10:33:54.402823Z",
     "start_time": "2025-02-05T10:33:52.934700Z"
    }
   },
   "outputs": [],
   "source": [
    "# VAEP comparison for each game\n",
    "vaep_comparison_games = compare_vaep(\n",
    "    vaep_values=vaep_values,\n",
    "    vaep_values_success=vaep_values_success,\n",
    "    vaep_values_fail=vaep_values_fail,\n",
    "    comparison=\"games\"\n",
    ")"
   ]
  },
  {
   "cell_type": "code",
   "execution_count": null,
   "metadata": {
    "ExecuteTime": {
     "end_time": "2025-02-03T14:36:42.469210Z",
     "start_time": "2025-02-03T14:36:42.462382Z"
    }
   },
   "outputs": [],
   "source": [
    "# VAEP comparison for each action\n",
    "vaep_comparison_actions = compare_vaep(\n",
    "    vaep_values=vaep_values,\n",
    "    vaep_values_success=vaep_values_success,\n",
    "    vaep_values_fail=vaep_values_fail,\n",
    "    comparison=\"actions\"\n",
    ")"
   ]
  },
  {
   "cell_type": "code",
   "execution_count": null,
   "metadata": {
    "ExecuteTime": {
     "end_time": "2025-02-05T11:00:08.175674Z",
     "start_time": "2025-02-05T11:00:07.765367Z"
    }
   },
   "outputs": [],
   "source": [
    "# VAEP comparison for each action type\n",
    "vaep_comparison_action_types = compare_vaep(\n",
    "    vaep_values=vaep_values,\n",
    "    vaep_values_success=vaep_values_success,\n",
    "    vaep_values_fail=vaep_values_fail,\n",
    "    comparison=\"action_types\"\n",
    ")"
   ]
  },
  {
   "cell_type": "code",
   "execution_count": null,
   "metadata": {
    "ExecuteTime": {
     "end_time": "2025-02-05T10:58:35.956707Z",
     "start_time": "2025-02-05T10:58:35.816483Z"
    }
   },
   "outputs": [],
   "source": [
    "vaep_values.result_name.value_counts() / len(vaep_values)"
   ]
  },
  {
   "cell_type": "markdown",
   "metadata": {},
   "source": [
    "# 3) xSuccess"
   ]
  },
  {
   "cell_type": "markdown",
   "metadata": {},
   "source": [
    "## 3.1) Filter match data"
   ]
  },
  {
   "cell_type": "code",
   "execution_count": null,
   "metadata": {
    "ExecuteTime": {
     "end_time": "2025-02-05T12:54:55.757805Z",
     "start_time": "2025-02-05T12:54:36.493035Z"
    }
   },
   "outputs": [],
   "source": [
    "# Load match data\n",
    "games, teams, players, player_games, actions = load_match_data(\n",
    "  format=format,\n",
    "  match_data_h5=match_data_train_h5\n",
    ")"
   ]
  },
  {
   "cell_type": "code",
   "execution_count": null,
   "metadata": {},
   "outputs": [],
   "source": [
    "# Filter offensive actions for each game"
   ]
  },
  {
   "cell_type": "markdown",
   "metadata": {},
   "source": [
    "## 3.2) Generate and store features & labels"
   ]
  },
  {
   "cell_type": "code",
   "execution_count": null,
   "metadata": {},
   "outputs": [],
   "source": [
    "# Load match data\n",
    "games, teams, players, player_games, actions = load_match_data(\n",
    "  format=format,\n",
    "  match_data_h5=match_data_test_fail_h5\n",
    ")"
   ]
  },
  {
   "cell_type": "markdown",
   "metadata": {},
   "source": [
    "### Select, generate, and store features"
   ]
  },
  {
   "cell_type": "code",
   "execution_count": null,
   "metadata": {},
   "outputs": [],
   "source": [
    "# Select features\n",
    "xfns = select_features(\n",
    "  format=format\n",
    ")"
   ]
  },
  {
   "cell_type": "code",
   "execution_count": null,
   "metadata": {},
   "outputs": [],
   "source": [
    "# Generate features\n",
    "X_dict = generate_features(\n",
    "  games=games,\n",
    "  xfns=xfns,\n",
    "  nb_prev_actions=1,\n",
    "  format=format,\n",
    "  match_data_h5=match_data_test_fail_h5\n",
    ")"
   ]
  },
  {
   "cell_type": "code",
   "execution_count": null,
   "metadata": {},
   "outputs": [],
   "source": [
    "# Store features\n",
    "store_features(\n",
    "  X_dict=X_dict,\n",
    "  format=format,\n",
    "  features_h5=features_test_fail_h5\n",
    ")"
   ]
  },
  {
   "cell_type": "markdown",
   "metadata": {},
   "source": [
    "### Select, generate, and store labels"
   ]
  },
  {
   "cell_type": "code",
   "execution_count": null,
   "metadata": {},
   "outputs": [],
   "source": [
    "# Select labels\n",
    "yfns = select_labels(\n",
    "  format=format\n",
    ")"
   ]
  },
  {
   "cell_type": "code",
   "execution_count": null,
   "metadata": {},
   "outputs": [],
   "source": [
    "# Generate labels\n",
    "Y_dict = generate_labels(\n",
    "  games=test_games,\n",
    "  yfns=yfns,\n",
    "  format=format,\n",
    "  match_data_h5=match_data_test_fail_h5\n",
    ")"
   ]
  },
  {
   "cell_type": "code",
   "execution_count": null,
   "metadata": {},
   "outputs": [],
   "source": [
    "# Store regular labels\n",
    "store_labels(\n",
    "  Y_dict=Y_dict,\n",
    "  format=format,\n",
    "  labels_h5=labels_test_fail_h5\n",
    ")"
   ]
  },
  {
   "cell_type": "markdown",
   "metadata": {},
   "source": [
    "## 3.3) Train xSuccess model"
   ]
  },
  {
   "cell_type": "code",
   "execution_count": null,
   "metadata": {},
   "outputs": [],
   "source": [
    "# Load training data\n",
    "train_games, teams, players, player_games, actions = load_match_data(\n",
    "  format=format,\n",
    "  match_data_h5=match_data_train_h5\n",
    ")"
   ]
  },
  {
   "cell_type": "code",
   "execution_count": null,
   "metadata": {},
   "outputs": [],
   "source": [
    "# Load features and labels for training data\n",
    "X_train, Y_train = load_features_labels(\n",
    "  split_games=train_games,\n",
    "  nb_prev_actions=1,\n",
    "  format=format,\n",
    "  features_h5=features_train_h5,\n",
    "  labels_h5=labels_train_h5\n",
    ")"
   ]
  },
  {
   "cell_type": "code",
   "execution_count": null,
   "metadata": {},
   "outputs": [],
   "source": [
    "# Train the model\n",
    "models = train_model(\n",
    "  X_train=X_train,\n",
    "  Y_train=Y_train,\n",
    "  n_estimators=50,\n",
    "  max_depth=3,\n",
    "  n_jobs=-3,\n",
    "  verbosity=1,\n",
    "  enable_categorical=True\n",
    ")"
   ]
  },
  {
   "cell_type": "markdown",
   "metadata": {},
   "source": [
    "## 3.4) Compute xSuccess values"
   ]
  },
  {
   "cell_type": "code",
   "execution_count": null,
   "metadata": {},
   "outputs": [],
   "source": [
    "# Load training data\n",
    "test_games, teams, players, player_games, actions = load_match_data(\n",
    "  format=format,\n",
    "  match_data_h5=match_data_test_fail_h5\n",
    ")"
   ]
  },
  {
   "cell_type": "code",
   "execution_count": null,
   "metadata": {},
   "outputs": [],
   "source": [
    "# Load features and labels for testing data\n",
    "X_test, Y_test = load_features_labels(\n",
    "  split_games=test_games,\n",
    "  nb_prev_actions=1,\n",
    "  format=format,\n",
    "  features_h5=features_test_fail_h5,\n",
    "  labels_h5=labels_test_fail_h5\n",
    ")"
   ]
  },
  {
   "cell_type": "code",
   "execution_count": null,
   "metadata": {},
   "outputs": [],
   "source": [
    "# Evaluate the model\n",
    "Y_hat = evaluate_model(\n",
    "  X_test=X_test,\n",
    "  Y_test=Y_test,\n",
    "  models=models\n",
    ")"
   ]
  },
  {
   "cell_type": "code",
   "execution_count": null,
   "metadata": {},
   "outputs": [],
   "source": [
    "# Store predictions\n",
    "store_predictions(\n",
    "  test_games=test_games,\n",
    "  Y_hat=Y_hat,\n",
    "  format=format,\n",
    "  match_data_h5=match_data_test_fail_h5,\n",
    "  predictions_h5=predictions_test_fail_h5\n",
    ")"
   ]
  },
  {
   "cell_type": "code",
   "execution_count": null,
   "metadata": {},
   "outputs": [],
   "source": [
    "# Compute VAEP values\n",
    "vaep_values = compute_vaep(\n",
    "  test_games=test_games,\n",
    "  teams=teams,\n",
    "  players=players,\n",
    "  format=format,\n",
    "  match_data_h5=match_data_test_fail_h5,\n",
    "  predictions_h5=predictions_test_fail_h5\n",
    ")"
   ]
  },
  {
   "cell_type": "code",
   "execution_count": null,
   "metadata": {},
   "outputs": [],
   "source": [
    "# Store VAEP values\n",
    "store_vaep(\n",
    "  vaep_values=vaep_values,\n",
    "  format=format,\n",
    "  vaep_h5=vaep_test_fail_h5\n",
    ")"
   ]
  },
  {
   "cell_type": "markdown",
   "metadata": {},
   "source": [
    "# Nächste Schritte"
   ]
  },
  {
   "cell_type": "markdown",
   "metadata": {},
   "source": [
    "Expected Success -> Paper\n",
    "\n",
    "- erstmal nur offensive Aktionen\n",
    "- resultname als label, offside = fail\n",
    "\n",
    "- features: start-position, eventtype, body, direction (Winkel), result von letzten 3 events -> Erfolg jeder Art von Event\n",
    "\n",
    "- VAEP-Wert ohne result-feature -> Torwahrscheinlichkeit offensiv (immer success in der Anwendung des Modells)\n",
    "\n",
    "- dann fehlpässe darauf trainieren, ob dananch ein tor (in 10 Aktionen danach) fällt -> Torwahrscheinlichkeit nach Ballverlust (Defensiv-Risiko) (immer fail in der Anwendung des Modells)\n",
    "\n",
    "- Biermann Counter-Attacks Paper durchschauen"
   ]
  },
  {
   "cell_type": "markdown",
   "metadata": {},
   "source": [
    "# Tests"
   ]
  },
  {
   "cell_type": "code",
   "execution_count": null,
   "metadata": {
    "ExecuteTime": {
     "end_time": "2025-02-03T15:20:05.352714Z",
     "start_time": "2025-02-03T15:20:05.290331Z"
    }
   },
   "outputs": [],
   "source": [
    "import socceraction.vaep.features as fs\n",
    "\n",
    "nb_prev_actions = 1\n",
    "\n",
    "xfns = [\n",
    "  fs.actiontype,\n",
    "  fs.actiontype_onehot,\n",
    "  fs.bodypart,\n",
    "  fs.bodypart_onehot,\n",
    "  fs.result,\n",
    "  fs.result_onehot,\n",
    "  fs.goalscore,\n",
    "  fs.startlocation,\n",
    "  fs.endlocation,\n",
    "  fs.movement,\n",
    "  fs.space_delta,\n",
    "  fs.startpolar,\n",
    "  fs.endpolar,\n",
    "  fs.team,\n",
    "  fs.time,\n",
    "  fs.time_delta\n",
    "  ]\n",
    "\n",
    "Xcols = fs.feature_column_names(xfns, nb_prev_actions)\n",
    "\n",
    "Ycols = [\"scores\",\"concedes\"]"
   ]
  },
  {
   "cell_type": "code",
   "execution_count": null,
   "metadata": {
    "ExecuteTime": {
     "end_time": "2025-02-03T15:21:10.899267Z",
     "start_time": "2025-02-03T15:20:25.676864Z"
    }
   },
   "outputs": [],
   "source": [
    "import tqdm\n",
    "\n",
    "features_loaded = {}\n",
    "for game_id in tqdm.tqdm(train_games.game_id, desc=\"Loading features\"):\n",
    "    Xi = pd.read_hdf(features_train_h5, f\"game_{game_id}\")\n",
    "    x = Xi[Xcols]\n",
    "    features_loaded[game_id] = x\n"
   ]
  },
  {
   "cell_type": "code",
   "execution_count": null,
   "metadata": {
    "ExecuteTime": {
     "end_time": "2025-01-27T13:12:50.398653Z",
     "start_time": "2025-01-27T13:12:50.394492Z"
    }
   },
   "outputs": [],
   "source": [
    "f = features_loaded[3825751]"
   ]
  },
  {
   "cell_type": "code",
   "execution_count": null,
   "metadata": {},
   "outputs": [],
   "source": [
    "features_success = {\n",
    "  key: df.assign(\n",
    "    result_a0=\"success\", \n",
    "    result_fail_a0=\"false\",\n",
    "    result_success_a0=\"true\",\n",
    "    result_offside_a0=\"false\",\n",
    "    result_owngoal_a0=\"false\",\n",
    "    result_yellow_card_a0=\"false\",\n",
    "    result_red_card_a0=\"false\"\n",
    "  ) if key in set(test_games[\"game_id\"]) else df for key, df in features_loaded.items()\n",
    "}"
   ]
  },
  {
   "cell_type": "code",
   "execution_count": null,
   "metadata": {},
   "outputs": [],
   "source": [
    "f_succ = features_success[3825751]"
   ]
  },
  {
   "cell_type": "code",
   "execution_count": null,
   "metadata": {},
   "outputs": [],
   "source": [
    "labels_loaded = {}\n",
    "for game_id in tqdm.tqdm(games.game_id, desc=\"Loading label\"):\n",
    "  Yi = pd.read_hdf(labels_test_h5, f\"game_{game_id}\")\n",
    "  y = Yi[Ycols]\n",
    "  labels_loaded[game_id] = y"
   ]
  },
  {
   "cell_type": "code",
   "execution_count": null,
   "metadata": {},
   "outputs": [],
   "source": [
    "l = labels_loaded[3825751]"
   ]
  },
  {
   "cell_type": "code",
   "execution_count": null,
   "metadata": {},
   "outputs": [],
   "source": [
    "a = actions[0]"
   ]
  },
  {
   "cell_type": "code",
   "execution_count": null,
   "metadata": {},
   "outputs": [],
   "source": [
    "v = vaep_values[vaep_values[\"game_id\"] == 3754035]"
   ]
  },
  {
   "cell_type": "code",
   "execution_count": null,
   "metadata": {},
   "outputs": [],
   "source": [
    "# Load actions \n",
    "import socceraction.spadl as spadl\n",
    "actions = {}\n",
    "\n",
    "for game in list(games.itertuples()):\n",
    "  with pd.HDFStore(match_data_h5) as matchdatastore:\n",
    "   actions[game.game_id] = (\n",
    "        matchdatastore[f\"actions/game_{game.game_id}\"]\n",
    "        .merge(spadl.actiontypes_df(), how=\"left\")\n",
    "        .merge(spadl.results_df(), how=\"left\")\n",
    "        .merge(spadl.bodyparts_df(), how=\"left\")\n",
    "        .merge(matchdatastore[\"players\"], how=\"left\")\n",
    "        .merge(matchdatastore[\"teams\"], how=\"left\")\n",
    "   )"
   ]
  },
  {
   "cell_type": "code",
   "execution_count": null,
   "metadata": {},
   "outputs": [],
   "source": [
    "action_game = actions[3890562]"
   ]
  },
  {
   "cell_type": "code",
   "execution_count": null,
   "metadata": {},
   "outputs": [],
   "source": [
    "action_game[action_game[\"type_name\"] == \"interception\"]"
   ]
  },
  {
   "cell_type": "code",
   "execution_count": null,
   "metadata": {},
   "outputs": [],
   "source": [
    "action_game.type_name.value_counts()"
   ]
  },
  {
   "cell_type": "code",
   "execution_count": null,
   "metadata": {
    "ExecuteTime": {
     "end_time": "2025-02-03T15:28:29.315546Z",
     "start_time": "2025-02-03T15:28:29.298384Z"
    }
   },
   "outputs": [],
   "source": [
    "games[games[\"venue\"] == \"VELTINS-Arena\"]"
   ]
  },
  {
   "cell_type": "code",
   "execution_count": null,
   "metadata": {
    "ExecuteTime": {
     "end_time": "2025-02-03T15:30:07.671344Z",
     "start_time": "2025-02-03T15:30:07.667885Z"
    }
   },
   "outputs": [],
   "source": [
    "a = actions[3890293]"
   ]
  },
  {
   "cell_type": "code",
   "execution_count": null,
   "metadata": {
    "ExecuteTime": {
     "end_time": "2025-02-03T15:38:57.869642Z",
     "start_time": "2025-02-03T15:38:57.847636Z"
    }
   },
   "outputs": [],
   "source": [
    "a[a[\"type_id\"] == 12]"
   ]
  }
 ],
 "metadata": {
  "kernelspec": {
   "display_name": "Python 3",
   "language": "python",
   "name": "python3"
  },
  "language_info": {
   "codemirror_mode": {
    "name": "ipython",
    "version": 3
   },
   "file_extension": ".py",
   "mimetype": "text/x-python",
   "name": "python",
   "nbconvert_exporter": "python",
   "pygments_lexer": "ipython3",
   "version": "3.12.1"
  }
 },
 "nbformat": 4,
 "nbformat_minor": 2
}
