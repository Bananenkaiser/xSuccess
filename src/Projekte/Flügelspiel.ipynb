{
 "cells": [
  {
   "cell_type": "markdown",
   "metadata": {},
   "source": [
    "1. Spielfeld in 3 Zonen teilen\n",
    "2. Positionsdaten filtern\n",
    "   1. Horizontal\n",
    "   2. vertikal\n",
    "3. Dribblings raussuchen über Flügel\n",
    "4. Abschluss im letzten 3. des Spielfeldes"
   ]
  },
  {
   "cell_type": "code",
   "execution_count": 1,
   "metadata": {},
   "outputs": [],
   "source": [
    "import sys\n",
    "import subprocess\n",
    "\n",
    "# Liste der benötigten Pakete\n",
    "pakete = [\"numpy\", \"pandas\", \"matplotlib\", \"socceraction\" , \"pygam\", \"warnings\"]  # Hier deine Pakete eintragen\n",
    "\n",
    "# Installiere Pakete, falls sie nicht vorhanden sind\n",
    "for paket in pakete:\n",
    "    try:\n",
    "        __import__(paket)\n",
    "    except ImportError:\n",
    "        print(f\"{paket} wird installiert...\")\n",
    "        subprocess.check_call([sys.executable, \"-m\", \"pip\", \"install\", paket])"
   ]
  },
  {
   "cell_type": "code",
   "execution_count": 2,
   "metadata": {},
   "outputs": [],
   "source": [
    "import pandas as pd\n",
    "import socceraction.spadl as spadl\n",
    "import warnings\n",
    "import numpy as np\n",
    "import matplotlib.pyplot as plt\n",
    "from pygam import LogisticGAM, s, f"
   ]
  },
  {
   "cell_type": "code",
   "execution_count": 3,
   "metadata": {},
   "outputs": [],
   "source": [
    "# Ignore warnings\n",
    "warnings.filterwarnings(\n",
    "  action=\"ignore\", \n",
    "  message=\"credentials were not supplied. open data access only\"\n",
    ")\n",
    "warnings.simplefilter(\n",
    "  action='ignore', \n",
    "  category=pd.errors.PerformanceWarning\n",
    ")\n",
    "pd.set_option('future.no_silent_downcasting', True)\n",
    "\n",
    "warnings.filterwarnings(\n",
    "    \"ignore\",\n",
    "    message=\"A value is trying to be set on a copy of a DataFrame or Series through chained assignment using an inplace method.\"\n",
    ")"
   ]
  },
  {
   "cell_type": "code",
   "execution_count": 4,
   "metadata": {},
   "outputs": [
    {
     "data": {
      "text/plain": [
       "3639858"
      ]
     },
     "execution_count": 4,
     "metadata": {},
     "output_type": "execute_result"
    }
   ],
   "source": [
    "spadl_h5 = \".\\\\xSuccess\\\\top5_15-16_spadl\\\\match_data.h5\"\n",
    "\n",
    "with pd.HDFStore(spadl_h5) as spadlstore:\n",
    "    # Spiele laden\n",
    "    games = spadlstore[\"games\"]\n",
    "    \n",
    "    # Du kannst auch teams / players laden, wenn du sie für später brauchst\n",
    "    teams = spadlstore[\"teams\"]\n",
    "    players = spadlstore[\"players\"]\n",
    "    \n",
    "    all_actions_list = []\n",
    "    \n",
    "    # Über alle Spiele iterieren\n",
    "    for gid in games.game_id:\n",
    "        df_actions = spadlstore[f\"actions/game_{gid}\"]\n",
    "        # Ggf. noch die 'game_id' explizit als Spalte hinzufügen,\n",
    "        # falls du sie später brauchst.\n",
    "        df_actions[\"game_id\"] = gid\n",
    "        \n",
    "        all_actions_list.append(df_actions)\n",
    "    \n",
    "    # Zu einem großen DataFrame zusammenfügen\n",
    "    all_actions = pd.concat(all_actions_list, ignore_index=True)\n",
    "\n",
    "all_actions[\"game_id\"].count()"
   ]
  },
  {
   "cell_type": "code",
   "execution_count": 5,
   "metadata": {},
   "outputs": [
    {
     "name": "stdout",
     "output_type": "stream",
     "text": [
      "Maximaler Wert in end_x: 105.0\n",
      "Maximaler Wert in end_y: 68.0\n"
     ]
    }
   ],
   "source": [
    "max_end_x = all_actions[\"end_x\"].max()\n",
    "max_end_y = all_actions[\"end_y\"].max()\n",
    "\n",
    "print(\"Maximaler Wert in end_x:\", max_end_x)\n",
    "print(\"Maximaler Wert in end_y:\", max_end_y)\n"
   ]
  },
  {
   "cell_type": "code",
   "execution_count": 6,
   "metadata": {},
   "outputs": [],
   "source": [
    "all_actions = (\n",
    "    all_actions\n",
    "    .merge(spadl.actiontypes_df(), how='left', on='type_id')\n",
    "    .merge(spadl.results_df(), how='left', on='result_id')\n",
    "    .merge(spadl.bodyparts_df(), how='left', on='bodypart_id')\n",
    ")"
   ]
  },
  {
   "cell_type": "markdown",
   "metadata": {},
   "source": [
    "Aktions-Distanz in Metern berechnen, da die X und Y Koordinaten in Metern angegeben sind\n",
    "\n",
    "Max end_x: 105\n",
    "\n",
    "Max end_y: 68"
   ]
  },
  {
   "cell_type": "code",
   "execution_count": 7,
   "metadata": {},
   "outputs": [],
   "source": [
    "all_actions[\"action_distance\"] = np.sqrt(\n",
    "    (all_actions[\"end_x\"] - all_actions[\"start_x\"])**2 +\n",
    "    (all_actions[\"end_y\"] - all_actions[\"start_y\"])**2\n",
    ")"
   ]
  },
  {
   "cell_type": "code",
   "execution_count": 8,
   "metadata": {},
   "outputs": [
    {
     "data": {
      "text/plain": [
       "array(['pass', 'dribble', 'throw_in', 'bad_touch', 'interception',\n",
       "       'freekick_short', 'foul', 'cross', 'shot', 'goalkick', 'take_on',\n",
       "       'tackle', 'clearance', 'keeper_punch', 'corner_crossed',\n",
       "       'freekick_crossed', 'keeper_save', 'keeper_claim', 'corner_short',\n",
       "       'shot_freekick', 'shot_penalty'], dtype=object)"
      ]
     },
     "execution_count": 8,
     "metadata": {},
     "output_type": "execute_result"
    }
   ],
   "source": [
    "all_actions[\"type_name\"].unique()"
   ]
  },
  {
   "cell_type": "code",
   "execution_count": 9,
   "metadata": {},
   "outputs": [
    {
     "data": {
      "text/plain": [
       "array(['success', 'fail', 'offside', 'yellow_card', 'owngoal', 'red_card'],\n",
       "      dtype=object)"
      ]
     },
     "execution_count": 9,
     "metadata": {},
     "output_type": "execute_result"
    }
   ],
   "source": [
    "all_actions[\"result_name\"].unique()"
   ]
  },
  {
   "cell_type": "code",
   "execution_count": 35,
   "metadata": {},
   "outputs": [
    {
     "data": {
      "text/html": [
       "<div>\n",
       "<style scoped>\n",
       "    .dataframe tbody tr th:only-of-type {\n",
       "        vertical-align: middle;\n",
       "    }\n",
       "\n",
       "    .dataframe tbody tr th {\n",
       "        vertical-align: top;\n",
       "    }\n",
       "\n",
       "    .dataframe thead th {\n",
       "        text-align: right;\n",
       "    }\n",
       "</style>\n",
       "<table border=\"1\" class=\"dataframe\">\n",
       "  <thead>\n",
       "    <tr style=\"text-align: right;\">\n",
       "      <th></th>\n",
       "      <th>game_id</th>\n",
       "      <th>original_event_id</th>\n",
       "      <th>period_id</th>\n",
       "      <th>time_seconds</th>\n",
       "      <th>team_id</th>\n",
       "      <th>player_id</th>\n",
       "      <th>start_x</th>\n",
       "      <th>start_y</th>\n",
       "      <th>end_x</th>\n",
       "      <th>end_y</th>\n",
       "      <th>type_id</th>\n",
       "      <th>result_id</th>\n",
       "      <th>bodypart_id</th>\n",
       "      <th>action_id</th>\n",
       "      <th>type_name</th>\n",
       "      <th>result_name</th>\n",
       "      <th>bodypart_name</th>\n",
       "      <th>action_distance</th>\n",
       "    </tr>\n",
       "  </thead>\n",
       "  <tbody>\n",
       "    <tr>\n",
       "      <th>2289</th>\n",
       "      <td>3890561</td>\n",
       "      <td>b261906f-e190-4b95-991b-315345ca5c05</td>\n",
       "      <td>2</td>\n",
       "      <td>2597.228</td>\n",
       "      <td>175</td>\n",
       "      <td>5537.0</td>\n",
       "      <td>7.875</td>\n",
       "      <td>39.78</td>\n",
       "      <td>7.875</td>\n",
       "      <td>39.78</td>\n",
       "      <td>19</td>\n",
       "      <td>3</td>\n",
       "      <td>0</td>\n",
       "      <td>2289</td>\n",
       "      <td>bad_touch</td>\n",
       "      <td>owngoal</td>\n",
       "      <td>foot</td>\n",
       "      <td>0.0</td>\n",
       "    </tr>\n",
       "  </tbody>\n",
       "</table>\n",
       "</div>"
      ],
      "text/plain": [
       "      game_id                     original_event_id  period_id  time_seconds  \\\n",
       "2289  3890561  b261906f-e190-4b95-991b-315345ca5c05          2      2597.228   \n",
       "\n",
       "      team_id  player_id  start_x  start_y  end_x  end_y  type_id  result_id  \\\n",
       "2289      175     5537.0    7.875    39.78  7.875  39.78       19          3   \n",
       "\n",
       "      bodypart_id  action_id  type_name result_name bodypart_name  \\\n",
       "2289            0       2289  bad_touch     owngoal          foot   \n",
       "\n",
       "      action_distance  \n",
       "2289              0.0  "
      ]
     },
     "execution_count": 35,
     "metadata": {},
     "output_type": "execute_result"
    }
   ],
   "source": [
    "filtered_row = all_actions[all_actions[\"result_name\"] == \"owngoal\"].head(1)\n",
    "filtered_row"
   ]
  },
  {
   "cell_type": "markdown",
   "metadata": {},
   "source": [
    "0 == fail \\\n",
    "1 == sucess\\\n",
    "2 == offside\\\n",
    "3 == owngoal\\\n",
    "4 == yellow_card\\\n",
    "5 == red_card"
   ]
  },
  {
   "cell_type": "markdown",
   "metadata": {},
   "source": [
    "Alle Ergebnisse werden auf 0 == fail gesetzt bis auf die 1 == success"
   ]
  },
  {
   "cell_type": "code",
   "execution_count": 36,
   "metadata": {},
   "outputs": [],
   "source": [
    "all_actions[\"result_id\"] = np.where(all_actions[\"result_id\"] == 1, 1, 0)\n"
   ]
  },
  {
   "cell_type": "code",
   "execution_count": 37,
   "metadata": {},
   "outputs": [
    {
     "data": {
      "text/plain": [
       "array([1, 0])"
      ]
     },
     "execution_count": 37,
     "metadata": {},
     "output_type": "execute_result"
    }
   ],
   "source": [
    "all_actions[\"result_id\"].unique()"
   ]
  },
  {
   "cell_type": "code",
   "execution_count": 10,
   "metadata": {},
   "outputs": [],
   "source": [
    "success_count = all_actions[all_actions['result_id'] == 1].shape[0]\n",
    "unsuccess_count = all_actions[all_actions['result_id'] == 0].shape[0]"
   ]
  },
  {
   "cell_type": "code",
   "execution_count": 11,
   "metadata": {},
   "outputs": [
    {
     "data": {
      "text/plain": [
       "3013210"
      ]
     },
     "execution_count": 11,
     "metadata": {},
     "output_type": "execute_result"
    }
   ],
   "source": [
    "success_count"
   ]
  },
  {
   "cell_type": "code",
   "execution_count": 12,
   "metadata": {},
   "outputs": [
    {
     "data": {
      "text/plain": [
       "611964"
      ]
     },
     "execution_count": 12,
     "metadata": {},
     "output_type": "execute_result"
    }
   ],
   "source": [
    "unsuccess_count"
   ]
  },
  {
   "cell_type": "code",
   "execution_count": 13,
   "metadata": {},
   "outputs": [],
   "source": [
    "success_dribbles_count = all_actions[(all_actions['result_id'] == 1) & (all_actions[\"type_name\"] == \"dribble\")].shape[0]\n",
    "unsuccess_dribbles_count = all_actions[(all_actions['result_id'] == 0) & (all_actions[\"type_name\"] == \"dribble\")].shape[0]"
   ]
  },
  {
   "cell_type": "code",
   "execution_count": 14,
   "metadata": {},
   "outputs": [
    {
     "data": {
      "text/plain": [
       "1422860"
      ]
     },
     "execution_count": 14,
     "metadata": {},
     "output_type": "execute_result"
    }
   ],
   "source": [
    "success_dribbles_count"
   ]
  },
  {
   "cell_type": "code",
   "execution_count": 15,
   "metadata": {},
   "outputs": [
    {
     "data": {
      "text/plain": [
       "0"
      ]
     },
     "execution_count": 15,
     "metadata": {},
     "output_type": "execute_result"
    }
   ],
   "source": [
    "unsuccess_dribbles_count"
   ]
  },
  {
   "cell_type": "markdown",
   "metadata": {},
   "source": [
    "Gibt es wirklich keine gescheiterten Dribblings?"
   ]
  },
  {
   "cell_type": "code",
   "execution_count": 16,
   "metadata": {},
   "outputs": [],
   "source": [
    "success_pass_count = all_actions[(all_actions['result_id'] == 1) & (all_actions[\"type_name\"] == \"pass\")].shape[0]\n",
    "unsuccess_pass_count = all_actions[(all_actions['result_id'] == 0) & (all_actions[\"type_name\"] == \"pass\")].shape[0]"
   ]
  },
  {
   "cell_type": "code",
   "execution_count": 17,
   "metadata": {},
   "outputs": [
    {
     "data": {
      "text/plain": [
       "1218542"
      ]
     },
     "execution_count": 17,
     "metadata": {},
     "output_type": "execute_result"
    }
   ],
   "source": [
    "success_pass_count"
   ]
  },
  {
   "cell_type": "code",
   "execution_count": 18,
   "metadata": {},
   "outputs": [
    {
     "data": {
      "text/plain": [
       "312379"
      ]
     },
     "execution_count": 18,
     "metadata": {},
     "output_type": "execute_result"
    }
   ],
   "source": [
    "unsuccess_pass_count"
   ]
  },
  {
   "cell_type": "code",
   "execution_count": 19,
   "metadata": {},
   "outputs": [
    {
     "data": {
      "text/html": [
       "<div>\n",
       "<style scoped>\n",
       "    .dataframe tbody tr th:only-of-type {\n",
       "        vertical-align: middle;\n",
       "    }\n",
       "\n",
       "    .dataframe tbody tr th {\n",
       "        vertical-align: top;\n",
       "    }\n",
       "\n",
       "    .dataframe thead th {\n",
       "        text-align: right;\n",
       "    }\n",
       "</style>\n",
       "<table border=\"1\" class=\"dataframe\">\n",
       "  <thead>\n",
       "    <tr style=\"text-align: right;\">\n",
       "      <th></th>\n",
       "      <th>game_id</th>\n",
       "      <th>original_event_id</th>\n",
       "      <th>period_id</th>\n",
       "      <th>time_seconds</th>\n",
       "      <th>team_id</th>\n",
       "      <th>player_id</th>\n",
       "      <th>start_x</th>\n",
       "      <th>start_y</th>\n",
       "      <th>end_x</th>\n",
       "      <th>end_y</th>\n",
       "      <th>type_id</th>\n",
       "      <th>result_id</th>\n",
       "      <th>bodypart_id</th>\n",
       "      <th>action_id</th>\n",
       "      <th>type_name</th>\n",
       "      <th>result_name</th>\n",
       "      <th>bodypart_name</th>\n",
       "      <th>action_distance</th>\n",
       "    </tr>\n",
       "  </thead>\n",
       "  <tbody>\n",
       "    <tr>\n",
       "      <th>0</th>\n",
       "      <td>3890561</td>\n",
       "      <td>644e16d7-10ca-45f0-8128-fc0055d6f753</td>\n",
       "      <td>1</td>\n",
       "      <td>0.482</td>\n",
       "      <td>175</td>\n",
       "      <td>8387.0</td>\n",
       "      <td>52.9375</td>\n",
       "      <td>34.340</td>\n",
       "      <td>52.2375</td>\n",
       "      <td>36.210</td>\n",
       "      <td>0</td>\n",
       "      <td>1</td>\n",
       "      <td>4</td>\n",
       "      <td>0</td>\n",
       "      <td>pass</td>\n",
       "      <td>success</td>\n",
       "      <td>foot_left</td>\n",
       "      <td>1.996722</td>\n",
       "    </tr>\n",
       "    <tr>\n",
       "      <th>1</th>\n",
       "      <td>3890561</td>\n",
       "      <td>329a1879-2521-4614-8c68-b4798b0e5d23</td>\n",
       "      <td>1</td>\n",
       "      <td>0.935</td>\n",
       "      <td>175</td>\n",
       "      <td>5460.0</td>\n",
       "      <td>52.2375</td>\n",
       "      <td>36.210</td>\n",
       "      <td>51.5375</td>\n",
       "      <td>35.870</td>\n",
       "      <td>21</td>\n",
       "      <td>1</td>\n",
       "      <td>0</td>\n",
       "      <td>1</td>\n",
       "      <td>dribble</td>\n",
       "      <td>success</td>\n",
       "      <td>foot</td>\n",
       "      <td>0.778203</td>\n",
       "    </tr>\n",
       "    <tr>\n",
       "      <th>2</th>\n",
       "      <td>3890561</td>\n",
       "      <td>77e2ddaf-6de3-49e7-a318-7d765799b543</td>\n",
       "      <td>1</td>\n",
       "      <td>1.015</td>\n",
       "      <td>175</td>\n",
       "      <td>5460.0</td>\n",
       "      <td>51.5375</td>\n",
       "      <td>35.870</td>\n",
       "      <td>46.7250</td>\n",
       "      <td>32.640</td>\n",
       "      <td>0</td>\n",
       "      <td>1</td>\n",
       "      <td>4</td>\n",
       "      <td>2</td>\n",
       "      <td>pass</td>\n",
       "      <td>success</td>\n",
       "      <td>foot_left</td>\n",
       "      <td>5.795952</td>\n",
       "    </tr>\n",
       "    <tr>\n",
       "      <th>3</th>\n",
       "      <td>3890561</td>\n",
       "      <td>1b91a029-f722-4b0d-b9d5-53cdc776f9e3</td>\n",
       "      <td>1</td>\n",
       "      <td>2.167</td>\n",
       "      <td>175</td>\n",
       "      <td>6039.0</td>\n",
       "      <td>46.7250</td>\n",
       "      <td>32.640</td>\n",
       "      <td>45.3250</td>\n",
       "      <td>30.005</td>\n",
       "      <td>21</td>\n",
       "      <td>1</td>\n",
       "      <td>0</td>\n",
       "      <td>3</td>\n",
       "      <td>dribble</td>\n",
       "      <td>success</td>\n",
       "      <td>foot</td>\n",
       "      <td>2.983827</td>\n",
       "    </tr>\n",
       "    <tr>\n",
       "      <th>4</th>\n",
       "      <td>3890561</td>\n",
       "      <td>2c51f271-c812-45af-896b-06f49a14a5bb</td>\n",
       "      <td>1</td>\n",
       "      <td>2.954</td>\n",
       "      <td>175</td>\n",
       "      <td>6039.0</td>\n",
       "      <td>45.3250</td>\n",
       "      <td>30.005</td>\n",
       "      <td>29.5750</td>\n",
       "      <td>15.725</td>\n",
       "      <td>0</td>\n",
       "      <td>1</td>\n",
       "      <td>5</td>\n",
       "      <td>4</td>\n",
       "      <td>pass</td>\n",
       "      <td>success</td>\n",
       "      <td>foot_right</td>\n",
       "      <td>21.259842</td>\n",
       "    </tr>\n",
       "  </tbody>\n",
       "</table>\n",
       "</div>"
      ],
      "text/plain": [
       "   game_id                     original_event_id  period_id  time_seconds  \\\n",
       "0  3890561  644e16d7-10ca-45f0-8128-fc0055d6f753          1         0.482   \n",
       "1  3890561  329a1879-2521-4614-8c68-b4798b0e5d23          1         0.935   \n",
       "2  3890561  77e2ddaf-6de3-49e7-a318-7d765799b543          1         1.015   \n",
       "3  3890561  1b91a029-f722-4b0d-b9d5-53cdc776f9e3          1         2.167   \n",
       "4  3890561  2c51f271-c812-45af-896b-06f49a14a5bb          1         2.954   \n",
       "\n",
       "   team_id  player_id  start_x  start_y    end_x   end_y  type_id  result_id  \\\n",
       "0      175     8387.0  52.9375   34.340  52.2375  36.210        0          1   \n",
       "1      175     5460.0  52.2375   36.210  51.5375  35.870       21          1   \n",
       "2      175     5460.0  51.5375   35.870  46.7250  32.640        0          1   \n",
       "3      175     6039.0  46.7250   32.640  45.3250  30.005       21          1   \n",
       "4      175     6039.0  45.3250   30.005  29.5750  15.725        0          1   \n",
       "\n",
       "   bodypart_id  action_id type_name result_name bodypart_name  action_distance  \n",
       "0            4          0      pass     success     foot_left         1.996722  \n",
       "1            0          1   dribble     success          foot         0.778203  \n",
       "2            4          2      pass     success     foot_left         5.795952  \n",
       "3            0          3   dribble     success          foot         2.983827  \n",
       "4            5          4      pass     success    foot_right        21.259842  "
      ]
     },
     "execution_count": 19,
     "metadata": {},
     "output_type": "execute_result"
    }
   ],
   "source": [
    "all_actions.head()"
   ]
  },
  {
   "cell_type": "markdown",
   "metadata": {},
   "source": [
    "Dribbling Tabelle"
   ]
  },
  {
   "cell_type": "code",
   "execution_count": 20,
   "metadata": {},
   "outputs": [],
   "source": [
    "# 1) Nur Dribblings herausfiltern\n",
    "dribbles = all_actions[all_actions[\"type_name\"] == \"dribble\"].copy()"
   ]
  },
  {
   "cell_type": "code",
   "execution_count": 21,
   "metadata": {},
   "outputs": [],
   "source": [
    "# 2) Spielfeld in 3 horizontale Zonen anhand der Startposition (start_y) einteilen\n",
    "#    y <= 22         => Zone 1\n",
    "#    22 < y <= 45    => Zone 2\n",
    "#    y > 45          => Zone 3\n",
    "\n",
    "def get_zone(y):\n",
    "    if y <= 22:\n",
    "        return 1\n",
    "    elif y <= 45:\n",
    "        return 2\n",
    "    else:\n",
    "        return 3\n",
    "\n",
    "dribbles[\"zone\"] = dribbles[\"start_y\"].apply(get_zone)"
   ]
  },
  {
   "cell_type": "code",
   "execution_count": 22,
   "metadata": {},
   "outputs": [],
   "source": [
    "# 3) Die Länge der Dribblings bestimmen (euklidische Distanz zwischen Start- und Endkoordinate)\n",
    "\n",
    "dribbles[\"dribble_distance\"] = np.sqrt(\n",
    "    (dribbles[\"end_x\"] - dribbles[\"start_x\"])**2 +\n",
    "    (dribbles[\"end_y\"] - dribbles[\"start_y\"])**2\n",
    ")\n"
   ]
  },
  {
   "cell_type": "markdown",
   "metadata": {},
   "source": [
    "![alt text](image.png)"
   ]
  },
  {
   "cell_type": "code",
   "execution_count": 23,
   "metadata": {},
   "outputs": [
    {
     "data": {
      "text/html": [
       "<div>\n",
       "<style scoped>\n",
       "    .dataframe tbody tr th:only-of-type {\n",
       "        vertical-align: middle;\n",
       "    }\n",
       "\n",
       "    .dataframe tbody tr th {\n",
       "        vertical-align: top;\n",
       "    }\n",
       "\n",
       "    .dataframe thead th {\n",
       "        text-align: right;\n",
       "    }\n",
       "</style>\n",
       "<table border=\"1\" class=\"dataframe\">\n",
       "  <thead>\n",
       "    <tr style=\"text-align: right;\">\n",
       "      <th></th>\n",
       "      <th>game_id</th>\n",
       "      <th>original_event_id</th>\n",
       "      <th>period_id</th>\n",
       "      <th>time_seconds</th>\n",
       "      <th>team_id</th>\n",
       "      <th>player_id</th>\n",
       "      <th>start_x</th>\n",
       "      <th>start_y</th>\n",
       "      <th>end_x</th>\n",
       "      <th>end_y</th>\n",
       "      <th>type_id</th>\n",
       "      <th>result_id</th>\n",
       "      <th>bodypart_id</th>\n",
       "      <th>action_id</th>\n",
       "      <th>type_name</th>\n",
       "      <th>result_name</th>\n",
       "      <th>bodypart_name</th>\n",
       "      <th>action_distance</th>\n",
       "      <th>zone</th>\n",
       "      <th>dribble_distance</th>\n",
       "    </tr>\n",
       "  </thead>\n",
       "  <tbody>\n",
       "    <tr>\n",
       "      <th>1</th>\n",
       "      <td>3890561</td>\n",
       "      <td>329a1879-2521-4614-8c68-b4798b0e5d23</td>\n",
       "      <td>1</td>\n",
       "      <td>0.935</td>\n",
       "      <td>175</td>\n",
       "      <td>5460.0</td>\n",
       "      <td>52.2375</td>\n",
       "      <td>36.210</td>\n",
       "      <td>51.5375</td>\n",
       "      <td>35.870</td>\n",
       "      <td>21</td>\n",
       "      <td>1</td>\n",
       "      <td>0</td>\n",
       "      <td>1</td>\n",
       "      <td>dribble</td>\n",
       "      <td>success</td>\n",
       "      <td>foot</td>\n",
       "      <td>0.778203</td>\n",
       "      <td>2</td>\n",
       "      <td>0.778203</td>\n",
       "    </tr>\n",
       "    <tr>\n",
       "      <th>3</th>\n",
       "      <td>3890561</td>\n",
       "      <td>1b91a029-f722-4b0d-b9d5-53cdc776f9e3</td>\n",
       "      <td>1</td>\n",
       "      <td>2.167</td>\n",
       "      <td>175</td>\n",
       "      <td>6039.0</td>\n",
       "      <td>46.7250</td>\n",
       "      <td>32.640</td>\n",
       "      <td>45.3250</td>\n",
       "      <td>30.005</td>\n",
       "      <td>21</td>\n",
       "      <td>1</td>\n",
       "      <td>0</td>\n",
       "      <td>3</td>\n",
       "      <td>dribble</td>\n",
       "      <td>success</td>\n",
       "      <td>foot</td>\n",
       "      <td>2.983827</td>\n",
       "      <td>2</td>\n",
       "      <td>2.983827</td>\n",
       "    </tr>\n",
       "    <tr>\n",
       "      <th>5</th>\n",
       "      <td>3890561</td>\n",
       "      <td>4e93eb34-ac12-4a24-bcfa-e17d853c8951</td>\n",
       "      <td>1</td>\n",
       "      <td>4.344</td>\n",
       "      <td>175</td>\n",
       "      <td>5537.0</td>\n",
       "      <td>29.5750</td>\n",
       "      <td>15.725</td>\n",
       "      <td>29.5750</td>\n",
       "      <td>15.810</td>\n",
       "      <td>21</td>\n",
       "      <td>1</td>\n",
       "      <td>0</td>\n",
       "      <td>5</td>\n",
       "      <td>dribble</td>\n",
       "      <td>success</td>\n",
       "      <td>foot</td>\n",
       "      <td>0.085000</td>\n",
       "      <td>1</td>\n",
       "      <td>0.085000</td>\n",
       "    </tr>\n",
       "    <tr>\n",
       "      <th>7</th>\n",
       "      <td>3890561</td>\n",
       "      <td>0d3f0101-1b31-46f2-86d6-67b4df6967db</td>\n",
       "      <td>1</td>\n",
       "      <td>8.451</td>\n",
       "      <td>175</td>\n",
       "      <td>12321.0</td>\n",
       "      <td>32.3750</td>\n",
       "      <td>48.280</td>\n",
       "      <td>33.2500</td>\n",
       "      <td>49.555</td>\n",
       "      <td>21</td>\n",
       "      <td>1</td>\n",
       "      <td>0</td>\n",
       "      <td>7</td>\n",
       "      <td>dribble</td>\n",
       "      <td>success</td>\n",
       "      <td>foot</td>\n",
       "      <td>1.546367</td>\n",
       "      <td>3</td>\n",
       "      <td>1.546367</td>\n",
       "    </tr>\n",
       "    <tr>\n",
       "      <th>9</th>\n",
       "      <td>3890561</td>\n",
       "      <td>87748ce9-72e9-4886-9d81-87160ff28fd5</td>\n",
       "      <td>1</td>\n",
       "      <td>12.070</td>\n",
       "      <td>175</td>\n",
       "      <td>9396.0</td>\n",
       "      <td>31.6750</td>\n",
       "      <td>38.250</td>\n",
       "      <td>34.2125</td>\n",
       "      <td>40.630</td>\n",
       "      <td>21</td>\n",
       "      <td>1</td>\n",
       "      <td>0</td>\n",
       "      <td>9</td>\n",
       "      <td>dribble</td>\n",
       "      <td>success</td>\n",
       "      <td>foot</td>\n",
       "      <td>3.478981</td>\n",
       "      <td>2</td>\n",
       "      <td>3.478981</td>\n",
       "    </tr>\n",
       "  </tbody>\n",
       "</table>\n",
       "</div>"
      ],
      "text/plain": [
       "   game_id                     original_event_id  period_id  time_seconds  \\\n",
       "1  3890561  329a1879-2521-4614-8c68-b4798b0e5d23          1         0.935   \n",
       "3  3890561  1b91a029-f722-4b0d-b9d5-53cdc776f9e3          1         2.167   \n",
       "5  3890561  4e93eb34-ac12-4a24-bcfa-e17d853c8951          1         4.344   \n",
       "7  3890561  0d3f0101-1b31-46f2-86d6-67b4df6967db          1         8.451   \n",
       "9  3890561  87748ce9-72e9-4886-9d81-87160ff28fd5          1        12.070   \n",
       "\n",
       "   team_id  player_id  start_x  start_y    end_x   end_y  type_id  result_id  \\\n",
       "1      175     5460.0  52.2375   36.210  51.5375  35.870       21          1   \n",
       "3      175     6039.0  46.7250   32.640  45.3250  30.005       21          1   \n",
       "5      175     5537.0  29.5750   15.725  29.5750  15.810       21          1   \n",
       "7      175    12321.0  32.3750   48.280  33.2500  49.555       21          1   \n",
       "9      175     9396.0  31.6750   38.250  34.2125  40.630       21          1   \n",
       "\n",
       "   bodypart_id  action_id type_name result_name bodypart_name  \\\n",
       "1            0          1   dribble     success          foot   \n",
       "3            0          3   dribble     success          foot   \n",
       "5            0          5   dribble     success          foot   \n",
       "7            0          7   dribble     success          foot   \n",
       "9            0          9   dribble     success          foot   \n",
       "\n",
       "   action_distance  zone  dribble_distance  \n",
       "1         0.778203     2          0.778203  \n",
       "3         2.983827     2          2.983827  \n",
       "5         0.085000     1          0.085000  \n",
       "7         1.546367     3          1.546367  \n",
       "9         3.478981     2          3.478981  "
      ]
     },
     "execution_count": 23,
     "metadata": {},
     "output_type": "execute_result"
    }
   ],
   "source": [
    "dribbles.head()"
   ]
  },
  {
   "cell_type": "code",
   "execution_count": 24,
   "metadata": {},
   "outputs": [
    {
     "data": {
      "text/plain": [
       "1422860"
      ]
     },
     "execution_count": 24,
     "metadata": {},
     "output_type": "execute_result"
    }
   ],
   "source": [
    "# Zähle die erfolgreichen und misslungenen Dribblings\n",
    "#success_count = dribbles[\"successful\"].sum()\n",
    "success_count = dribbles[dribbles['result_id'] == 1].shape[0]\n",
    "unsuccess_count = dribbles[dribbles['result_id'] == 0].shape[0]\n",
    "\n",
    "success_count"
   ]
  },
  {
   "cell_type": "code",
   "execution_count": 25,
   "metadata": {},
   "outputs": [
    {
     "data": {
      "text/plain": [
       "0"
      ]
     },
     "execution_count": 25,
     "metadata": {},
     "output_type": "execute_result"
    }
   ],
   "source": [
    "unsuccess_count"
   ]
  },
  {
   "cell_type": "code",
   "execution_count": 26,
   "metadata": {},
   "outputs": [
    {
     "data": {
      "image/png": "[encoded data removed]",
      "text/plain": [
       "<Figure size 800x600 with 1 Axes>"
      ]
     },
     "metadata": {},
     "output_type": "display_data"
    }
   ],
   "source": [
    "# Erstelle Labels und Werte\n",
    "labels = [\"Erfolgreich\", \"Misslungen\"]\n",
    "counts = [success_pass_count, unsuccess_pass_count]\n",
    "\n",
    "# Plotten\n",
    "plt.figure(figsize=(8, 6))\n",
    "plt.bar(labels, counts, color=[\"green\", \"red\"])\n",
    "plt.xlabel(\"Dribbling Ergebnis\")\n",
    "plt.ylabel(\"Anzahl\")\n",
    "plt.title(\"Erfolgreiche vs. misslungene Pässe\")\n",
    "plt.show()"
   ]
  },
  {
   "cell_type": "code",
   "execution_count": 27,
   "metadata": {},
   "outputs": [
    {
     "data": {
      "image/png": "[encoded data removed]",
      "text/plain": [
       "<Figure size 640x480 with 1 Axes>"
      ]
     },
     "metadata": {},
     "output_type": "display_data"
    }
   ],
   "source": [
    "plt.hist(dribbles[\"dribble_distance\"], bins=30)\n",
    "plt.xlabel(\"Länge des Dribblings (in Metern)\")\n",
    "plt.ylabel(\"Anzahl\")\n",
    "plt.title(\"Verteilung der Dribbling-Distanzen\")\n",
    "plt.show()"
   ]
  },
  {
   "cell_type": "code",
   "execution_count": 28,
   "metadata": {},
   "outputs": [
    {
     "data": {
      "image/png": "[encoded data removed]",
      "text/plain": [
       "<Figure size 640x480 with 1 Axes>"
      ]
     },
     "metadata": {},
     "output_type": "display_data"
    }
   ],
   "source": [
    "zones = dribbles[\"zone\"].unique()  # Liste der vorhandenen Zonen\n",
    "\n",
    "for z in zones:\n",
    "    subset = dribbles[dribbles[\"zone\"] == z]\n",
    "    plt.hist(\n",
    "        subset[\"dribble_distance\"], \n",
    "        bins=20, \n",
    "        alpha=0.5,              # Transparenz, damit Überlappungen sichtbar werden\n",
    "        label=f\"Zone {z}\"\n",
    "    )\n",
    "\n",
    "plt.xlabel(\"Länge des Dribblings (in Metern)\")\n",
    "plt.ylabel(\"Anzahl\")\n",
    "plt.title(\"Verteilung der Dribbling-Distanzen nach Zone\")\n",
    "plt.legend()\n",
    "plt.show()"
   ]
  },
  {
   "cell_type": "markdown",
   "metadata": {},
   "source": [
    "Alle Events in einem Spiel betrachten"
   ]
  },
  {
   "cell_type": "code",
   "execution_count": 29,
   "metadata": {},
   "outputs": [
    {
     "data": {
      "text/html": [
       "<div>\n",
       "<style scoped>\n",
       "    .dataframe tbody tr th:only-of-type {\n",
       "        vertical-align: middle;\n",
       "    }\n",
       "\n",
       "    .dataframe tbody tr th {\n",
       "        vertical-align: top;\n",
       "    }\n",
       "\n",
       "    .dataframe thead th {\n",
       "        text-align: right;\n",
       "    }\n",
       "</style>\n",
       "<table border=\"1\" class=\"dataframe\">\n",
       "  <thead>\n",
       "    <tr style=\"text-align: right;\">\n",
       "      <th></th>\n",
       "      <th>game_id</th>\n",
       "      <th>original_event_id</th>\n",
       "      <th>period_id</th>\n",
       "      <th>time_seconds</th>\n",
       "      <th>team_id</th>\n",
       "      <th>player_id</th>\n",
       "      <th>start_x</th>\n",
       "      <th>start_y</th>\n",
       "      <th>end_x</th>\n",
       "      <th>end_y</th>\n",
       "      <th>type_id</th>\n",
       "      <th>result_id</th>\n",
       "      <th>bodypart_id</th>\n",
       "      <th>action_id</th>\n",
       "      <th>type_name</th>\n",
       "      <th>result_name</th>\n",
       "      <th>bodypart_name</th>\n",
       "      <th>action_distance</th>\n",
       "    </tr>\n",
       "  </thead>\n",
       "  <tbody>\n",
       "    <tr>\n",
       "      <th>0</th>\n",
       "      <td>3890561</td>\n",
       "      <td>644e16d7-10ca-45f0-8128-fc0055d6f753</td>\n",
       "      <td>1</td>\n",
       "      <td>0.482</td>\n",
       "      <td>175</td>\n",
       "      <td>8387.0</td>\n",
       "      <td>52.9375</td>\n",
       "      <td>34.340</td>\n",
       "      <td>52.2375</td>\n",
       "      <td>36.210</td>\n",
       "      <td>0</td>\n",
       "      <td>1</td>\n",
       "      <td>4</td>\n",
       "      <td>0</td>\n",
       "      <td>pass</td>\n",
       "      <td>success</td>\n",
       "      <td>foot_left</td>\n",
       "      <td>1.996722</td>\n",
       "    </tr>\n",
       "    <tr>\n",
       "      <th>1</th>\n",
       "      <td>3890561</td>\n",
       "      <td>329a1879-2521-4614-8c68-b4798b0e5d23</td>\n",
       "      <td>1</td>\n",
       "      <td>0.935</td>\n",
       "      <td>175</td>\n",
       "      <td>5460.0</td>\n",
       "      <td>52.2375</td>\n",
       "      <td>36.210</td>\n",
       "      <td>51.5375</td>\n",
       "      <td>35.870</td>\n",
       "      <td>21</td>\n",
       "      <td>1</td>\n",
       "      <td>0</td>\n",
       "      <td>1</td>\n",
       "      <td>dribble</td>\n",
       "      <td>success</td>\n",
       "      <td>foot</td>\n",
       "      <td>0.778203</td>\n",
       "    </tr>\n",
       "    <tr>\n",
       "      <th>2</th>\n",
       "      <td>3890561</td>\n",
       "      <td>77e2ddaf-6de3-49e7-a318-7d765799b543</td>\n",
       "      <td>1</td>\n",
       "      <td>1.015</td>\n",
       "      <td>175</td>\n",
       "      <td>5460.0</td>\n",
       "      <td>51.5375</td>\n",
       "      <td>35.870</td>\n",
       "      <td>46.7250</td>\n",
       "      <td>32.640</td>\n",
       "      <td>0</td>\n",
       "      <td>1</td>\n",
       "      <td>4</td>\n",
       "      <td>2</td>\n",
       "      <td>pass</td>\n",
       "      <td>success</td>\n",
       "      <td>foot_left</td>\n",
       "      <td>5.795952</td>\n",
       "    </tr>\n",
       "    <tr>\n",
       "      <th>3</th>\n",
       "      <td>3890561</td>\n",
       "      <td>1b91a029-f722-4b0d-b9d5-53cdc776f9e3</td>\n",
       "      <td>1</td>\n",
       "      <td>2.167</td>\n",
       "      <td>175</td>\n",
       "      <td>6039.0</td>\n",
       "      <td>46.7250</td>\n",
       "      <td>32.640</td>\n",
       "      <td>45.3250</td>\n",
       "      <td>30.005</td>\n",
       "      <td>21</td>\n",
       "      <td>1</td>\n",
       "      <td>0</td>\n",
       "      <td>3</td>\n",
       "      <td>dribble</td>\n",
       "      <td>success</td>\n",
       "      <td>foot</td>\n",
       "      <td>2.983827</td>\n",
       "    </tr>\n",
       "    <tr>\n",
       "      <th>4</th>\n",
       "      <td>3890561</td>\n",
       "      <td>2c51f271-c812-45af-896b-06f49a14a5bb</td>\n",
       "      <td>1</td>\n",
       "      <td>2.954</td>\n",
       "      <td>175</td>\n",
       "      <td>6039.0</td>\n",
       "      <td>45.3250</td>\n",
       "      <td>30.005</td>\n",
       "      <td>29.5750</td>\n",
       "      <td>15.725</td>\n",
       "      <td>0</td>\n",
       "      <td>1</td>\n",
       "      <td>5</td>\n",
       "      <td>4</td>\n",
       "      <td>pass</td>\n",
       "      <td>success</td>\n",
       "      <td>foot_right</td>\n",
       "      <td>21.259842</td>\n",
       "    </tr>\n",
       "    <tr>\n",
       "      <th>...</th>\n",
       "      <td>...</td>\n",
       "      <td>...</td>\n",
       "      <td>...</td>\n",
       "      <td>...</td>\n",
       "      <td>...</td>\n",
       "      <td>...</td>\n",
       "      <td>...</td>\n",
       "      <td>...</td>\n",
       "      <td>...</td>\n",
       "      <td>...</td>\n",
       "      <td>...</td>\n",
       "      <td>...</td>\n",
       "      <td>...</td>\n",
       "      <td>...</td>\n",
       "      <td>...</td>\n",
       "      <td>...</td>\n",
       "      <td>...</td>\n",
       "      <td>...</td>\n",
       "    </tr>\n",
       "    <tr>\n",
       "      <th>2299</th>\n",
       "      <td>3890561</td>\n",
       "      <td>15ed9cd8-5ea3-4920-9289-1be7d145b317</td>\n",
       "      <td>2</td>\n",
       "      <td>2755.622</td>\n",
       "      <td>175</td>\n",
       "      <td>6039.0</td>\n",
       "      <td>40.5125</td>\n",
       "      <td>45.390</td>\n",
       "      <td>40.9500</td>\n",
       "      <td>45.985</td>\n",
       "      <td>21</td>\n",
       "      <td>1</td>\n",
       "      <td>0</td>\n",
       "      <td>2299</td>\n",
       "      <td>dribble</td>\n",
       "      <td>success</td>\n",
       "      <td>foot</td>\n",
       "      <td>0.738533</td>\n",
       "    </tr>\n",
       "    <tr>\n",
       "      <th>2300</th>\n",
       "      <td>3890561</td>\n",
       "      <td>6a80ebda-aabe-4591-9a6e-5f1dc3f4a580</td>\n",
       "      <td>2</td>\n",
       "      <td>2756.994</td>\n",
       "      <td>175</td>\n",
       "      <td>6039.0</td>\n",
       "      <td>40.9500</td>\n",
       "      <td>45.985</td>\n",
       "      <td>49.2625</td>\n",
       "      <td>35.020</td>\n",
       "      <td>0</td>\n",
       "      <td>1</td>\n",
       "      <td>5</td>\n",
       "      <td>2300</td>\n",
       "      <td>pass</td>\n",
       "      <td>success</td>\n",
       "      <td>foot_right</td>\n",
       "      <td>13.759683</td>\n",
       "    </tr>\n",
       "    <tr>\n",
       "      <th>2301</th>\n",
       "      <td>3890561</td>\n",
       "      <td>54a4120e-04f2-4f64-b737-f5f7431d1c68</td>\n",
       "      <td>2</td>\n",
       "      <td>2758.132</td>\n",
       "      <td>175</td>\n",
       "      <td>8387.0</td>\n",
       "      <td>49.2625</td>\n",
       "      <td>35.020</td>\n",
       "      <td>48.3875</td>\n",
       "      <td>36.720</td>\n",
       "      <td>21</td>\n",
       "      <td>1</td>\n",
       "      <td>0</td>\n",
       "      <td>2301</td>\n",
       "      <td>dribble</td>\n",
       "      <td>success</td>\n",
       "      <td>foot</td>\n",
       "      <td>1.911969</td>\n",
       "    </tr>\n",
       "    <tr>\n",
       "      <th>2302</th>\n",
       "      <td>3890561</td>\n",
       "      <td>5fd7f069-c62c-4110-b3d5-e3ab54281742</td>\n",
       "      <td>2</td>\n",
       "      <td>2759.102</td>\n",
       "      <td>175</td>\n",
       "      <td>8387.0</td>\n",
       "      <td>48.3875</td>\n",
       "      <td>36.720</td>\n",
       "      <td>30.3625</td>\n",
       "      <td>39.695</td>\n",
       "      <td>0</td>\n",
       "      <td>1</td>\n",
       "      <td>4</td>\n",
       "      <td>2302</td>\n",
       "      <td>pass</td>\n",
       "      <td>success</td>\n",
       "      <td>foot_left</td>\n",
       "      <td>18.268860</td>\n",
       "    </tr>\n",
       "    <tr>\n",
       "      <th>2303</th>\n",
       "      <td>3890561</td>\n",
       "      <td>477e64e8-beee-40f4-a44d-c9d23ecde0bc</td>\n",
       "      <td>2</td>\n",
       "      <td>2760.510</td>\n",
       "      <td>175</td>\n",
       "      <td>9396.0</td>\n",
       "      <td>30.3625</td>\n",
       "      <td>39.695</td>\n",
       "      <td>29.0500</td>\n",
       "      <td>39.270</td>\n",
       "      <td>21</td>\n",
       "      <td>1</td>\n",
       "      <td>0</td>\n",
       "      <td>2303</td>\n",
       "      <td>dribble</td>\n",
       "      <td>success</td>\n",
       "      <td>foot</td>\n",
       "      <td>1.379595</td>\n",
       "    </tr>\n",
       "  </tbody>\n",
       "</table>\n",
       "<p>2304 rows × 18 columns</p>\n",
       "</div>"
      ],
      "text/plain": [
       "      game_id                     original_event_id  period_id  time_seconds  \\\n",
       "0     3890561  644e16d7-10ca-45f0-8128-fc0055d6f753          1         0.482   \n",
       "1     3890561  329a1879-2521-4614-8c68-b4798b0e5d23          1         0.935   \n",
       "2     3890561  77e2ddaf-6de3-49e7-a318-7d765799b543          1         1.015   \n",
       "3     3890561  1b91a029-f722-4b0d-b9d5-53cdc776f9e3          1         2.167   \n",
       "4     3890561  2c51f271-c812-45af-896b-06f49a14a5bb          1         2.954   \n",
       "...       ...                                   ...        ...           ...   \n",
       "2299  3890561  15ed9cd8-5ea3-4920-9289-1be7d145b317          2      2755.622   \n",
       "2300  3890561  6a80ebda-aabe-4591-9a6e-5f1dc3f4a580          2      2756.994   \n",
       "2301  3890561  54a4120e-04f2-4f64-b737-f5f7431d1c68          2      2758.132   \n",
       "2302  3890561  5fd7f069-c62c-4110-b3d5-e3ab54281742          2      2759.102   \n",
       "2303  3890561  477e64e8-beee-40f4-a44d-c9d23ecde0bc          2      2760.510   \n",
       "\n",
       "      team_id  player_id  start_x  start_y    end_x   end_y  type_id  \\\n",
       "0         175     8387.0  52.9375   34.340  52.2375  36.210        0   \n",
       "1         175     5460.0  52.2375   36.210  51.5375  35.870       21   \n",
       "2         175     5460.0  51.5375   35.870  46.7250  32.640        0   \n",
       "3         175     6039.0  46.7250   32.640  45.3250  30.005       21   \n",
       "4         175     6039.0  45.3250   30.005  29.5750  15.725        0   \n",
       "...       ...        ...      ...      ...      ...     ...      ...   \n",
       "2299      175     6039.0  40.5125   45.390  40.9500  45.985       21   \n",
       "2300      175     6039.0  40.9500   45.985  49.2625  35.020        0   \n",
       "2301      175     8387.0  49.2625   35.020  48.3875  36.720       21   \n",
       "2302      175     8387.0  48.3875   36.720  30.3625  39.695        0   \n",
       "2303      175     9396.0  30.3625   39.695  29.0500  39.270       21   \n",
       "\n",
       "      result_id  bodypart_id  action_id type_name result_name bodypart_name  \\\n",
       "0             1            4          0      pass     success     foot_left   \n",
       "1             1            0          1   dribble     success          foot   \n",
       "2             1            4          2      pass     success     foot_left   \n",
       "3             1            0          3   dribble     success          foot   \n",
       "4             1            5          4      pass     success    foot_right   \n",
       "...         ...          ...        ...       ...         ...           ...   \n",
       "2299          1            0       2299   dribble     success          foot   \n",
       "2300          1            5       2300      pass     success    foot_right   \n",
       "2301          1            0       2301   dribble     success          foot   \n",
       "2302          1            4       2302      pass     success     foot_left   \n",
       "2303          1            0       2303   dribble     success          foot   \n",
       "\n",
       "      action_distance  \n",
       "0            1.996722  \n",
       "1            0.778203  \n",
       "2            5.795952  \n",
       "3            2.983827  \n",
       "4           21.259842  \n",
       "...               ...  \n",
       "2299         0.738533  \n",
       "2300        13.759683  \n",
       "2301         1.911969  \n",
       "2302        18.268860  \n",
       "2303         1.379595  \n",
       "\n",
       "[2304 rows x 18 columns]"
      ]
     },
     "execution_count": 29,
     "metadata": {},
     "output_type": "execute_result"
    }
   ],
   "source": [
    "game_3890561 = all_actions[all_actions[\"game_id\"] == 3890561]\n",
    "game_3890561"
   ]
  },
  {
   "cell_type": "markdown",
   "metadata": {},
   "source": [
    "Reihen sich alle Aktionen nahtlos aneinander?\n",
    "\n",
    "Falls ja, kann die Geschwindigkeit der Aktion berechnet werden mit der Euklidischen Distanz durch das Zeitdelta zwischen dem Start dieser Aktion und dem Start der nächsten Aktion\n",
    "\n",
    "Besonderheiten sind, Tore, misslungene Torschüsse, Abseits, Foulspiel, Einwurf"
   ]
  }
 ],
 "metadata": {
  "kernelspec": {
   "display_name": "Python 3",
   "language": "python",
   "name": "python3"
  },
  "language_info": {
   "codemirror_mode": {
    "name": "ipython",
    "version": 3
   },
   "file_extension": ".py",
   "mimetype": "text/x-python",
   "name": "python",
   "nbconvert_exporter": "python",
   "pygments_lexer": "ipython3",
   "version": "3.11.9"
  }
 },
 "nbformat": 4,
 "nbformat_minor": 2
}
