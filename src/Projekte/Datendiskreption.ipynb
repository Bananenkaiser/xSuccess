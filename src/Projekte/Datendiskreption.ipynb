{
 "cells": [
  {
   "cell_type": "markdown",
   "metadata": {},
   "source": [
    "# Datendiskreption\n"
   ]
  },
  {
   "cell_type": "markdown",
   "metadata": {},
   "source": [
    "!pip install socceraction xgboost matplotsoccer pandas tqdm"
   ]
  },
  {
   "cell_type": "code",
   "execution_count": 1,
   "metadata": {},
   "outputs": [],
   "source": [
    "import pandas as pd\n",
    "import socceraction.spadl as spadl\n",
    "import warnings\n",
    "import numpy as np\n",
    "import matplotlib.pyplot as plt\n",
    "from pygam import LogisticGAM, s, f"
   ]
  },
  {
   "cell_type": "code",
   "execution_count": 2,
   "metadata": {},
   "outputs": [],
   "source": [
    "# Ignore warnings\n",
    "warnings.filterwarnings(\n",
    "  action=\"ignore\", \n",
    "  message=\"credentials were not supplied. open data access only\"\n",
    ")\n",
    "warnings.simplefilter(\n",
    "  action='ignore', \n",
    "  category=pd.errors.PerformanceWarning\n",
    ")\n",
    "pd.set_option('future.no_silent_downcasting', True)\n",
    "\n",
    "warnings.filterwarnings(\n",
    "    \"ignore\",\n",
    "    message=\"A value is trying to be set on a copy of a DataFrame or Series through chained assignment using an inplace method.\"\n",
    ")"
   ]
  },
  {
   "cell_type": "code",
   "execution_count": 3,
   "metadata": {},
   "outputs": [
    {
     "ename": "FileNotFoundError",
     "evalue": "``D:\\Programmierung\\GitHub\\phd_yannik\\src\\Projekte\\xSuccess\\top5_15-16_spadl`` does not exist",
     "output_type": "error",
     "traceback": [
      "\u001b[1;31m---------------------------------------------------------------------------\u001b[0m",
      "\u001b[1;31mFileNotFoundError\u001b[0m                         Traceback (most recent call last)",
      "Cell \u001b[1;32mIn[3], line 4\u001b[0m\n\u001b[0;32m      1\u001b[0m \u001b[38;5;66;03m# 1. Lade den Datensatz\u001b[39;00m\n\u001b[0;32m      2\u001b[0m spadl_h5 \u001b[38;5;241m=\u001b[39m \u001b[38;5;124m\"\u001b[39m\u001b[38;5;124m.\u001b[39m\u001b[38;5;130;01m\\\\\u001b[39;00m\u001b[38;5;124mxSuccess\u001b[39m\u001b[38;5;130;01m\\\\\u001b[39;00m\u001b[38;5;124mtop5_15-16_spadl\u001b[39m\u001b[38;5;130;01m\\\\\u001b[39;00m\u001b[38;5;124mmatch_data.h5\u001b[39m\u001b[38;5;124m\"\u001b[39m\n\u001b[1;32m----> 4\u001b[0m \u001b[38;5;28;01mwith\u001b[39;00m \u001b[43mpd\u001b[49m\u001b[38;5;241;43m.\u001b[39;49m\u001b[43mHDFStore\u001b[49m\u001b[43m(\u001b[49m\u001b[43mspadl_h5\u001b[49m\u001b[43m)\u001b[49m \u001b[38;5;28;01mas\u001b[39;00m spadlstore:\n\u001b[0;32m      5\u001b[0m     \u001b[38;5;66;03m# Spiele laden\u001b[39;00m\n\u001b[0;32m      6\u001b[0m     games \u001b[38;5;241m=\u001b[39m spadlstore[\u001b[38;5;124m\"\u001b[39m\u001b[38;5;124mgames\u001b[39m\u001b[38;5;124m\"\u001b[39m]\n\u001b[0;32m      8\u001b[0m     \u001b[38;5;66;03m# Du kannst auch teams / players laden, wenn du sie für später brauchst\u001b[39;00m\n",
      "File \u001b[1;32mc:\\Users\\dtisl\\AppData\\Local\\Programs\\Python\\Python312\\Lib\\site-packages\\pandas\\io\\pytables.py:585\u001b[0m, in \u001b[0;36mHDFStore.__init__\u001b[1;34m(self, path, mode, complevel, complib, fletcher32, **kwargs)\u001b[0m\n\u001b[0;32m    583\u001b[0m \u001b[38;5;28mself\u001b[39m\u001b[38;5;241m.\u001b[39m_fletcher32 \u001b[38;5;241m=\u001b[39m fletcher32\n\u001b[0;32m    584\u001b[0m \u001b[38;5;28mself\u001b[39m\u001b[38;5;241m.\u001b[39m_filters \u001b[38;5;241m=\u001b[39m \u001b[38;5;28;01mNone\u001b[39;00m\n\u001b[1;32m--> 585\u001b[0m \u001b[38;5;28;43mself\u001b[39;49m\u001b[38;5;241;43m.\u001b[39;49m\u001b[43mopen\u001b[49m\u001b[43m(\u001b[49m\u001b[43mmode\u001b[49m\u001b[38;5;241;43m=\u001b[39;49m\u001b[43mmode\u001b[49m\u001b[43m,\u001b[49m\u001b[43m \u001b[49m\u001b[38;5;241;43m*\u001b[39;49m\u001b[38;5;241;43m*\u001b[39;49m\u001b[43mkwargs\u001b[49m\u001b[43m)\u001b[49m\n",
      "File \u001b[1;32mc:\\Users\\dtisl\\AppData\\Local\\Programs\\Python\\Python312\\Lib\\site-packages\\pandas\\io\\pytables.py:745\u001b[0m, in \u001b[0;36mHDFStore.open\u001b[1;34m(self, mode, **kwargs)\u001b[0m\n\u001b[0;32m    739\u001b[0m     msg \u001b[38;5;241m=\u001b[39m (\n\u001b[0;32m    740\u001b[0m         \u001b[38;5;124m\"\u001b[39m\u001b[38;5;124mCannot open HDF5 file, which is already opened, \u001b[39m\u001b[38;5;124m\"\u001b[39m\n\u001b[0;32m    741\u001b[0m         \u001b[38;5;124m\"\u001b[39m\u001b[38;5;124meven in read-only mode.\u001b[39m\u001b[38;5;124m\"\u001b[39m\n\u001b[0;32m    742\u001b[0m     )\n\u001b[0;32m    743\u001b[0m     \u001b[38;5;28;01mraise\u001b[39;00m \u001b[38;5;167;01mValueError\u001b[39;00m(msg)\n\u001b[1;32m--> 745\u001b[0m \u001b[38;5;28mself\u001b[39m\u001b[38;5;241m.\u001b[39m_handle \u001b[38;5;241m=\u001b[39m \u001b[43mtables\u001b[49m\u001b[38;5;241;43m.\u001b[39;49m\u001b[43mopen_file\u001b[49m\u001b[43m(\u001b[49m\u001b[38;5;28;43mself\u001b[39;49m\u001b[38;5;241;43m.\u001b[39;49m\u001b[43m_path\u001b[49m\u001b[43m,\u001b[49m\u001b[43m \u001b[49m\u001b[38;5;28;43mself\u001b[39;49m\u001b[38;5;241;43m.\u001b[39;49m\u001b[43m_mode\u001b[49m\u001b[43m,\u001b[49m\u001b[43m \u001b[49m\u001b[38;5;241;43m*\u001b[39;49m\u001b[38;5;241;43m*\u001b[39;49m\u001b[43mkwargs\u001b[49m\u001b[43m)\u001b[49m\n",
      "File \u001b[1;32mc:\\Users\\dtisl\\AppData\\Local\\Programs\\Python\\Python312\\Lib\\site-packages\\tables\\file.py:325\u001b[0m, in \u001b[0;36mopen_file\u001b[1;34m(filename, mode, title, root_uep, filters, **kwargs)\u001b[0m\n\u001b[0;32m    319\u001b[0m             \u001b[38;5;28;01mraise\u001b[39;00m \u001b[38;5;167;01mValueError\u001b[39;00m(\n\u001b[0;32m    320\u001b[0m                 \u001b[38;5;124m\"\u001b[39m\u001b[38;5;124mThe file \u001b[39m\u001b[38;5;124m'\u001b[39m\u001b[38;5;132;01m%s\u001b[39;00m\u001b[38;5;124m'\u001b[39m\u001b[38;5;124m is already opened.  Please \u001b[39m\u001b[38;5;124m\"\u001b[39m\n\u001b[0;32m    321\u001b[0m                 \u001b[38;5;124m\"\u001b[39m\u001b[38;5;124mclose it before reopening in write mode.\u001b[39m\u001b[38;5;124m\"\u001b[39m \u001b[38;5;241m%\u001b[39m filename\n\u001b[0;32m    322\u001b[0m             )\n\u001b[0;32m    324\u001b[0m \u001b[38;5;66;03m# Finally, create the File instance, and return it\u001b[39;00m\n\u001b[1;32m--> 325\u001b[0m \u001b[38;5;28;01mreturn\u001b[39;00m \u001b[43mFile\u001b[49m\u001b[43m(\u001b[49m\u001b[43mfilename\u001b[49m\u001b[43m,\u001b[49m\u001b[43m \u001b[49m\u001b[43mmode\u001b[49m\u001b[43m,\u001b[49m\u001b[43m \u001b[49m\u001b[43mtitle\u001b[49m\u001b[43m,\u001b[49m\u001b[43m \u001b[49m\u001b[43mroot_uep\u001b[49m\u001b[43m,\u001b[49m\u001b[43m \u001b[49m\u001b[43mfilters\u001b[49m\u001b[43m,\u001b[49m\u001b[43m \u001b[49m\u001b[38;5;241;43m*\u001b[39;49m\u001b[38;5;241;43m*\u001b[39;49m\u001b[43mkwargs\u001b[49m\u001b[43m)\u001b[49m\n",
      "File \u001b[1;32mc:\\Users\\dtisl\\AppData\\Local\\Programs\\Python\\Python312\\Lib\\site-packages\\tables\\file.py:811\u001b[0m, in \u001b[0;36mFile.__init__\u001b[1;34m(self, filename, mode, title, root_uep, filters, **kwargs)\u001b[0m\n\u001b[0;32m    808\u001b[0m \u001b[38;5;28mself\u001b[39m\u001b[38;5;241m.\u001b[39mparams \u001b[38;5;241m=\u001b[39m params\n\u001b[0;32m    810\u001b[0m \u001b[38;5;66;03m# Now, it is time to initialize the File extension\u001b[39;00m\n\u001b[1;32m--> 811\u001b[0m \u001b[38;5;28;43mself\u001b[39;49m\u001b[38;5;241;43m.\u001b[39;49m\u001b[43m_g_new\u001b[49m\u001b[43m(\u001b[49m\u001b[43mfilename\u001b[49m\u001b[43m,\u001b[49m\u001b[43m \u001b[49m\u001b[43mmode\u001b[49m\u001b[43m,\u001b[49m\u001b[43m \u001b[49m\u001b[38;5;241;43m*\u001b[39;49m\u001b[38;5;241;43m*\u001b[39;49m\u001b[43mparams\u001b[49m\u001b[43m)\u001b[49m\n\u001b[0;32m    813\u001b[0m \u001b[38;5;66;03m# Check filters and set PyTables format version for new files.\u001b[39;00m\n\u001b[0;32m    814\u001b[0m new \u001b[38;5;241m=\u001b[39m \u001b[38;5;28mself\u001b[39m\u001b[38;5;241m.\u001b[39m_v_new\n",
      "File \u001b[1;32mc:\\Users\\dtisl\\AppData\\Local\\Programs\\Python\\Python312\\Lib\\site-packages\\tables\\hdf5extension.pyx:499\u001b[0m, in \u001b[0;36mtables.hdf5extension.File._g_new\u001b[1;34m()\u001b[0m\n",
      "File \u001b[1;32mc:\\Users\\dtisl\\AppData\\Local\\Programs\\Python\\Python312\\Lib\\site-packages\\tables\\utils.py:202\u001b[0m, in \u001b[0;36mcheck_file_access\u001b[1;34m(filename, mode)\u001b[0m\n\u001b[0;32m    200\u001b[0m         check_file_access(path, \u001b[38;5;124m\"\u001b[39m\u001b[38;5;124mr+\u001b[39m\u001b[38;5;124m\"\u001b[39m)\n\u001b[0;32m    201\u001b[0m     \u001b[38;5;28;01melse\u001b[39;00m:\n\u001b[1;32m--> 202\u001b[0m         \u001b[43mcheck_file_access\u001b[49m\u001b[43m(\u001b[49m\u001b[43mpath\u001b[49m\u001b[43m,\u001b[49m\u001b[43m \u001b[49m\u001b[38;5;124;43m\"\u001b[39;49m\u001b[38;5;124;43mw\u001b[39;49m\u001b[38;5;124;43m\"\u001b[39;49m\u001b[43m)\u001b[49m\n\u001b[0;32m    203\u001b[0m \u001b[38;5;28;01melif\u001b[39;00m mode \u001b[38;5;241m==\u001b[39m \u001b[38;5;124m\"\u001b[39m\u001b[38;5;124mr+\u001b[39m\u001b[38;5;124m\"\u001b[39m:\n\u001b[0;32m    204\u001b[0m     check_file_access(path, \u001b[38;5;124m\"\u001b[39m\u001b[38;5;124mr\u001b[39m\u001b[38;5;124m\"\u001b[39m)\n",
      "File \u001b[1;32mc:\\Users\\dtisl\\AppData\\Local\\Programs\\Python\\Python312\\Lib\\site-packages\\tables\\utils.py:188\u001b[0m, in \u001b[0;36mcheck_file_access\u001b[1;34m(filename, mode)\u001b[0m\n\u001b[0;32m    184\u001b[0m \u001b[38;5;28;01melse\u001b[39;00m:\n\u001b[0;32m    185\u001b[0m     \u001b[38;5;66;03m# A new file is going to be created,\u001b[39;00m\n\u001b[0;32m    186\u001b[0m     \u001b[38;5;66;03m# so the directory should be writable.\u001b[39;00m\n\u001b[0;32m    187\u001b[0m     \u001b[38;5;28;01mif\u001b[39;00m \u001b[38;5;129;01mnot\u001b[39;00m os\u001b[38;5;241m.\u001b[39maccess(path\u001b[38;5;241m.\u001b[39mparent, os\u001b[38;5;241m.\u001b[39mF_OK):\n\u001b[1;32m--> 188\u001b[0m         \u001b[38;5;28;01mraise\u001b[39;00m \u001b[38;5;167;01mFileNotFoundError\u001b[39;00m(\u001b[38;5;124mf\u001b[39m\u001b[38;5;124m\"\u001b[39m\u001b[38;5;124m``\u001b[39m\u001b[38;5;132;01m{\u001b[39;00mpath\u001b[38;5;241m.\u001b[39mparent\u001b[38;5;132;01m}\u001b[39;00m\u001b[38;5;124m`` does not exist\u001b[39m\u001b[38;5;124m\"\u001b[39m)\n\u001b[0;32m    189\u001b[0m     \u001b[38;5;28;01mif\u001b[39;00m \u001b[38;5;129;01mnot\u001b[39;00m path\u001b[38;5;241m.\u001b[39mparent\u001b[38;5;241m.\u001b[39mis_dir():\n\u001b[0;32m    190\u001b[0m         \u001b[38;5;28;01mraise\u001b[39;00m \u001b[38;5;167;01mNotADirectoryError\u001b[39;00m(\n\u001b[0;32m    191\u001b[0m             \u001b[38;5;124mf\u001b[39m\u001b[38;5;124m\"\u001b[39m\u001b[38;5;124m``\u001b[39m\u001b[38;5;132;01m{\u001b[39;00mpath\u001b[38;5;241m.\u001b[39mparent\u001b[38;5;132;01m}\u001b[39;00m\u001b[38;5;124m`` is not a directory\u001b[39m\u001b[38;5;124m\"\u001b[39m\n\u001b[0;32m    192\u001b[0m         )\n",
      "\u001b[1;31mFileNotFoundError\u001b[0m: ``D:\\Programmierung\\GitHub\\phd_yannik\\src\\Projekte\\xSuccess\\top5_15-16_spadl`` does not exist"
     ]
    }
   ],
   "source": [
    "# 1. Lade den Datensatz\n",
    "spadl_h5 = \".\\\\xSuccess\\\\top5_15-16_spadl\\\\match_data.h5\"\n",
    "\n",
    "with pd.HDFStore(spadl_h5) as spadlstore:\n",
    "    # Spiele laden\n",
    "    games = spadlstore[\"games\"]\n",
    "    \n",
    "    # Du kannst auch teams / players laden, wenn du sie für später brauchst\n",
    "    teams = spadlstore[\"teams\"]\n",
    "    players = spadlstore[\"players\"]\n",
    "    \n",
    "    actions_list = []\n",
    "    \n",
    "    # Über alle Spiele iterieren\n",
    "    for gid in games.game_id:\n",
    "        df_actions = spadlstore[f\"actions/game_{gid}\"]\n",
    "        # Ggf. noch die 'game_id' explizit als Spalte hinzufügen,\n",
    "        # falls du sie später brauchst.\n",
    "        df_actions[\"game_id\"] = gid\n",
    "        \n",
    "        actions_list.append(df_actions)\n",
    "    \n",
    "    # Zu einem großen DataFrame zusammenfügen\n",
    "    actions = pd.concat(actions_list, ignore_index=True)"
   ]
  },
  {
   "cell_type": "markdown",
   "metadata": {},
   "source": [
    "Zusammenführen von DataFrames"
   ]
  },
  {
   "cell_type": "code",
   "execution_count": null,
   "metadata": {},
   "outputs": [
    {
     "data": {
      "text/html": [
       "<div>\n",
       "<style scoped>\n",
       "    .dataframe tbody tr th:only-of-type {\n",
       "        vertical-align: middle;\n",
       "    }\n",
       "\n",
       "    .dataframe tbody tr th {\n",
       "        vertical-align: top;\n",
       "    }\n",
       "\n",
       "    .dataframe thead th {\n",
       "        text-align: right;\n",
       "    }\n",
       "</style>\n",
       "<table border=\"1\" class=\"dataframe\">\n",
       "  <thead>\n",
       "    <tr style=\"text-align: right;\">\n",
       "      <th></th>\n",
       "      <th>game_id</th>\n",
       "      <th>original_event_id</th>\n",
       "      <th>period_id</th>\n",
       "      <th>time_seconds</th>\n",
       "      <th>team_id</th>\n",
       "      <th>player_id</th>\n",
       "      <th>start_x</th>\n",
       "      <th>start_y</th>\n",
       "      <th>end_x</th>\n",
       "      <th>end_y</th>\n",
       "      <th>type_id</th>\n",
       "      <th>result_id</th>\n",
       "      <th>bodypart_id</th>\n",
       "      <th>action_id</th>\n",
       "      <th>type_name</th>\n",
       "      <th>result_name</th>\n",
       "      <th>bodypart_name</th>\n",
       "    </tr>\n",
       "  </thead>\n",
       "  <tbody>\n",
       "    <tr>\n",
       "      <th>0</th>\n",
       "      <td>3890561</td>\n",
       "      <td>644e16d7-10ca-45f0-8128-fc0055d6f753</td>\n",
       "      <td>1</td>\n",
       "      <td>0.482</td>\n",
       "      <td>175</td>\n",
       "      <td>8387.0</td>\n",
       "      <td>52.9375</td>\n",
       "      <td>34.340</td>\n",
       "      <td>52.2375</td>\n",
       "      <td>36.210</td>\n",
       "      <td>0</td>\n",
       "      <td>1</td>\n",
       "      <td>4</td>\n",
       "      <td>0</td>\n",
       "      <td>pass</td>\n",
       "      <td>success</td>\n",
       "      <td>foot_left</td>\n",
       "    </tr>\n",
       "    <tr>\n",
       "      <th>1</th>\n",
       "      <td>3890561</td>\n",
       "      <td>329a1879-2521-4614-8c68-b4798b0e5d23</td>\n",
       "      <td>1</td>\n",
       "      <td>0.935</td>\n",
       "      <td>175</td>\n",
       "      <td>5460.0</td>\n",
       "      <td>52.2375</td>\n",
       "      <td>36.210</td>\n",
       "      <td>51.5375</td>\n",
       "      <td>35.870</td>\n",
       "      <td>21</td>\n",
       "      <td>1</td>\n",
       "      <td>0</td>\n",
       "      <td>1</td>\n",
       "      <td>dribble</td>\n",
       "      <td>success</td>\n",
       "      <td>foot</td>\n",
       "    </tr>\n",
       "    <tr>\n",
       "      <th>2</th>\n",
       "      <td>3890561</td>\n",
       "      <td>77e2ddaf-6de3-49e7-a318-7d765799b543</td>\n",
       "      <td>1</td>\n",
       "      <td>1.015</td>\n",
       "      <td>175</td>\n",
       "      <td>5460.0</td>\n",
       "      <td>51.5375</td>\n",
       "      <td>35.870</td>\n",
       "      <td>46.7250</td>\n",
       "      <td>32.640</td>\n",
       "      <td>0</td>\n",
       "      <td>1</td>\n",
       "      <td>4</td>\n",
       "      <td>2</td>\n",
       "      <td>pass</td>\n",
       "      <td>success</td>\n",
       "      <td>foot_left</td>\n",
       "    </tr>\n",
       "    <tr>\n",
       "      <th>3</th>\n",
       "      <td>3890561</td>\n",
       "      <td>1b91a029-f722-4b0d-b9d5-53cdc776f9e3</td>\n",
       "      <td>1</td>\n",
       "      <td>2.167</td>\n",
       "      <td>175</td>\n",
       "      <td>6039.0</td>\n",
       "      <td>46.7250</td>\n",
       "      <td>32.640</td>\n",
       "      <td>45.3250</td>\n",
       "      <td>30.005</td>\n",
       "      <td>21</td>\n",
       "      <td>1</td>\n",
       "      <td>0</td>\n",
       "      <td>3</td>\n",
       "      <td>dribble</td>\n",
       "      <td>success</td>\n",
       "      <td>foot</td>\n",
       "    </tr>\n",
       "    <tr>\n",
       "      <th>4</th>\n",
       "      <td>3890561</td>\n",
       "      <td>2c51f271-c812-45af-896b-06f49a14a5bb</td>\n",
       "      <td>1</td>\n",
       "      <td>2.954</td>\n",
       "      <td>175</td>\n",
       "      <td>6039.0</td>\n",
       "      <td>45.3250</td>\n",
       "      <td>30.005</td>\n",
       "      <td>29.5750</td>\n",
       "      <td>15.725</td>\n",
       "      <td>0</td>\n",
       "      <td>1</td>\n",
       "      <td>5</td>\n",
       "      <td>4</td>\n",
       "      <td>pass</td>\n",
       "      <td>success</td>\n",
       "      <td>foot_right</td>\n",
       "    </tr>\n",
       "  </tbody>\n",
       "</table>\n",
       "</div>"
      ],
      "text/plain": [
       "   game_id                     original_event_id  period_id  time_seconds  \\\n",
       "0  3890561  644e16d7-10ca-45f0-8128-fc0055d6f753          1         0.482   \n",
       "1  3890561  329a1879-2521-4614-8c68-b4798b0e5d23          1         0.935   \n",
       "2  3890561  77e2ddaf-6de3-49e7-a318-7d765799b543          1         1.015   \n",
       "3  3890561  1b91a029-f722-4b0d-b9d5-53cdc776f9e3          1         2.167   \n",
       "4  3890561  2c51f271-c812-45af-896b-06f49a14a5bb          1         2.954   \n",
       "\n",
       "   team_id  player_id  start_x  start_y    end_x   end_y  type_id  result_id  \\\n",
       "0      175     8387.0  52.9375   34.340  52.2375  36.210        0          1   \n",
       "1      175     5460.0  52.2375   36.210  51.5375  35.870       21          1   \n",
       "2      175     5460.0  51.5375   35.870  46.7250  32.640        0          1   \n",
       "3      175     6039.0  46.7250   32.640  45.3250  30.005       21          1   \n",
       "4      175     6039.0  45.3250   30.005  29.5750  15.725        0          1   \n",
       "\n",
       "   bodypart_id  action_id type_name result_name bodypart_name  \n",
       "0            4          0      pass     success     foot_left  \n",
       "1            0          1   dribble     success          foot  \n",
       "2            4          2      pass     success     foot_left  \n",
       "3            0          3   dribble     success          foot  \n",
       "4            5          4      pass     success    foot_right  "
      ]
     },
     "execution_count": 11,
     "metadata": {},
     "output_type": "execute_result"
    }
   ],
   "source": [
    "actions = (\n",
    "    actions\n",
    "    .merge(spadl.actiontypes_df(), how=\"left\")\n",
    "    .merge(spadl.results_df(), how=\"left\")\n",
    "    .merge(spadl.bodyparts_df(), how=\"left\")\n",
    ")\n",
    "actions.head()"
   ]
  },
  {
   "cell_type": "markdown",
   "metadata": {},
   "source": [
    "Definieren was Torerfolg ist"
   ]
  },
  {
   "cell_type": "code",
   "execution_count": null,
   "metadata": {},
   "outputs": [],
   "source": [
    "goals_mask = (actions[\"type_name\"] == \"shot\") & (actions[\"result_name\"] == \"success\")\n",
    "goals = actions[goals_mask]"
   ]
  },
  {
   "cell_type": "markdown",
   "metadata": {},
   "source": [
    "Test: Nur direkte Schüsse die zu Toren führten"
   ]
  },
  {
   "cell_type": "code",
   "execution_count": null,
   "metadata": {},
   "outputs": [
    {
     "name": "stdout",
     "output_type": "stream",
     "text": [
      "result_name\n",
      "fail       38900\n",
      "success     4209\n",
      "Name: count, dtype: int64\n"
     ]
    },
    {
     "data": {
      "text/html": [
       "<div>\n",
       "<style scoped>\n",
       "    .dataframe tbody tr th:only-of-type {\n",
       "        vertical-align: middle;\n",
       "    }\n",
       "\n",
       "    .dataframe tbody tr th {\n",
       "        vertical-align: top;\n",
       "    }\n",
       "\n",
       "    .dataframe thead th {\n",
       "        text-align: right;\n",
       "    }\n",
       "</style>\n",
       "<table border=\"1\" class=\"dataframe\">\n",
       "  <thead>\n",
       "    <tr style=\"text-align: right;\">\n",
       "      <th></th>\n",
       "      <th>type_name</th>\n",
       "      <th>result_name</th>\n",
       "      <th>count</th>\n",
       "    </tr>\n",
       "  </thead>\n",
       "  <tbody>\n",
       "    <tr>\n",
       "      <th>0</th>\n",
       "      <td>shot</td>\n",
       "      <td>fail</td>\n",
       "      <td>38900</td>\n",
       "    </tr>\n",
       "    <tr>\n",
       "      <th>1</th>\n",
       "      <td>shot</td>\n",
       "      <td>success</td>\n",
       "      <td>4209</td>\n",
       "    </tr>\n",
       "  </tbody>\n",
       "</table>\n",
       "</div>"
      ],
      "text/plain": [
       "  type_name result_name  count\n",
       "0      shot        fail  38900\n",
       "1      shot     success   4209"
      ]
     },
     "execution_count": 13,
     "metadata": {},
     "output_type": "execute_result"
    }
   ],
   "source": [
    "shots = actions[actions[\"type_name\"] == \"shot\"]\n",
    "\n",
    "print(shots[\"result_name\"].value_counts())\n",
    "\n",
    "# Optional: Groupby pro Typ (hier macht \"shot\" allein Sinn),\n",
    "# aber verallgemeinert:\n",
    "shot_success_counts = shots.groupby([\"type_name\",\"result_name\"]).size().reset_index(name=\"count\")\n",
    "shot_success_counts\n"
   ]
  },
  {
   "cell_type": "code",
   "execution_count": null,
   "metadata": {},
   "outputs": [],
   "source": [
    "type_id_21 = actions[actions[\"type_id\"] == 22]"
   ]
  },
  {
   "cell_type": "code",
   "execution_count": null,
   "metadata": {},
   "outputs": [],
   "source": [
    "type_id_21_counts = type_id_21.groupby([\"type_name\",\"type_id\"]).size().reset_index(name=\"count\")\n",
    "type_id_21_counts"
   ]
  },
  {
   "cell_type": "code",
   "execution_count": null,
   "metadata": {},
   "outputs": [],
   "source": []
  },
  {
   "cell_type": "code",
   "execution_count": 15,
   "metadata": {},
   "outputs": [
    {
     "name": "stdout",
     "output_type": "stream",
     "text": [
      "           type_name  result_name    count\n",
      "0          bad_touch         fail    53730\n",
      "1          bad_touch      owngoal      157\n",
      "2          clearance      success    87459\n",
      "3     corner_crossed         fail     9762\n",
      "4     corner_crossed      success     4553\n",
      "5       corner_short         fail      430\n",
      "6       corner_short      success     3183\n",
      "7              cross         fail    28557\n",
      "8              cross      offside      308\n",
      "9              cross      success    11580\n",
      "10           dribble      success  1422859\n",
      "11              foul         fail    48472\n",
      "12              foul     red_card      163\n",
      "13              foul  yellow_card     6724\n",
      "14  freekick_crossed         fail    15786\n",
      "15  freekick_crossed      offside      458\n",
      "16  freekick_crossed      success    10044\n",
      "17    freekick_short         fail      485\n",
      "18    freekick_short      offside       21\n",
      "19    freekick_short      success    26803\n",
      "20          goalkick         fail    13102\n",
      "21          goalkick      offside       16\n",
      "22          goalkick      success    16063\n",
      "23      interception         fail    17125\n",
      "24      interception      success    41875\n",
      "25      keeper_claim      success     7540\n",
      "26      keeper_punch         fail      575\n",
      "27      keeper_punch      success     1755\n",
      "28       keeper_save         fail     1829\n",
      "29       keeper_save      success     8817\n",
      "30              pass         fail   312379\n",
      "31              pass      offside     6837\n",
      "32              pass      success  1218542\n",
      "33              shot         fail    38900\n",
      "34              shot      success     4209\n",
      "35     shot_freekick         fail     1995\n",
      "36     shot_freekick      success      129\n",
      "37      shot_penalty         fail      118\n",
      "38      shot_penalty      success      368\n",
      "39            tackle         fail    28232\n",
      "40            tackle      success    43062\n",
      "41           take_on         fail    27220\n",
      "42           take_on      success    34151\n",
      "43          throw_in         fail    13267\n",
      "44          throw_in      success    70217\n"
     ]
    }
   ],
   "source": [
    "# Gruppiere alle Aktionen nach Aktionsart und Ergebnis\n",
    "success_distribution = actions.groupby([\"type_name\", \"result_name\"]).size().reset_index(name=\"count\")\n",
    "\n",
    "# Ausgabe anzeigen\n",
    "print(success_distribution)\n"
   ]
  },
  {
   "cell_type": "code",
   "execution_count": 14,
   "metadata": {},
   "outputs": [
    {
     "name": "stdout",
     "output_type": "stream",
     "text": [
      "result_name\n",
      "success    1422859\n",
      "Name: count, dtype: int64\n"
     ]
    },
    {
     "data": {
      "text/html": [
       "<div>\n",
       "<style scoped>\n",
       "    .dataframe tbody tr th:only-of-type {\n",
       "        vertical-align: middle;\n",
       "    }\n",
       "\n",
       "    .dataframe tbody tr th {\n",
       "        vertical-align: top;\n",
       "    }\n",
       "\n",
       "    .dataframe thead th {\n",
       "        text-align: right;\n",
       "    }\n",
       "</style>\n",
       "<table border=\"1\" class=\"dataframe\">\n",
       "  <thead>\n",
       "    <tr style=\"text-align: right;\">\n",
       "      <th></th>\n",
       "      <th>type_name</th>\n",
       "      <th>result_name</th>\n",
       "      <th>count</th>\n",
       "    </tr>\n",
       "  </thead>\n",
       "  <tbody>\n",
       "    <tr>\n",
       "      <th>0</th>\n",
       "      <td>dribble</td>\n",
       "      <td>success</td>\n",
       "      <td>1422859</td>\n",
       "    </tr>\n",
       "  </tbody>\n",
       "</table>\n",
       "</div>"
      ],
      "text/plain": [
       "  type_name result_name    count\n",
       "0   dribble     success  1422859"
      ]
     },
     "execution_count": 14,
     "metadata": {},
     "output_type": "execute_result"
    }
   ],
   "source": [
    "dribbles = actions[actions[\"type_name\"] == \"dribble\"]\n",
    "\n",
    "print(dribbles[\"result_name\"].value_counts())\n",
    "\n",
    "# Optional: Groupby pro Typ (hier macht \"dribbles\" allein Sinn),\n",
    "# aber verallgemeinert:\n",
    "dribbles_success_counts = dribbles.groupby([\"type_name\",\"result_name\"]).size().reset_index(name=\"count\")\n",
    "dribbles_success_counts"
   ]
  },
  {
   "cell_type": "code",
   "execution_count": null,
   "metadata": {},
   "outputs": [],
   "source": [
    "def previous_action_type_of_goals(df_actions):\n",
    "    # df_actions: alle Aktionen eines Spiels\n",
    "    # 1) Filtern nach erfolgreichen Toren (shots)\n",
    "    goals_mask = (df_actions[\"type_name\"] == \"shot\") & (df_actions[\"result_name\"] == \"success\")\n",
    "    goals_only = df_actions[goals_mask]\n",
    "    \n",
    "    # 2) Für jeden Treffer hole die vorherige Aktion (im selben Spiel)\n",
    "    prev_action_ids = goals_only[\"action_id\"] - 1\n",
    "    \n",
    "    # 3) Merge / join mit den eigentlichen Aktionen\n",
    "    prev_actions = df_actions[df_actions[\"action_id\"].isin(prev_action_ids)]\n",
    "    \n",
    "    # 4) groupby und zählen\n",
    "    result = prev_actions.groupby(\"type_name\").size().reset_index(name=\"count\")\n",
    "    return result.sort_values(\"count\", ascending=False)\n",
    "\n",
    "# Im Loop über alle Spiele anwenden oder für ein Beispielspiel:\n",
    "counts_for_game = previous_action_type_of_goals(actions)\n",
    "print(counts_for_game)\n"
   ]
  },
  {
   "cell_type": "markdown",
   "metadata": {},
   "source": [
    "Für alle Spiele"
   ]
  },
  {
   "cell_type": "code",
   "execution_count": null,
   "metadata": {},
   "outputs": [],
   "source": [
    "results = []\n",
    "for gid in games.game_id:\n",
    "    actions_g = pd.read_hdf(spadl_h5, f\"actions/game_{gid}\")\n",
    "    actions_g = (\n",
    "        actions_g\n",
    "        .merge(spadl.actiontypes_df(), how=\"left\")\n",
    "        .merge(spadl.results_df(), how=\"left\")\n",
    "        # ...\n",
    "    )\n",
    "    prev_counts = previous_action_type_of_goals(actions_g)\n",
    "    # prev_counts enthält z. B. Spalten [type_name, count]\n",
    "    # Du kannst auch eine neue Spalte 'game_id' anhängen, falls du pro Spiel auswerten willst\n",
    "    prev_counts[\"game_id\"] = gid\n",
    "    results.append(prev_counts)\n",
    "\n",
    "df_all = pd.concat(results, ignore_index=True)\n",
    "\n",
    "# Jetzt gruppieren wir noch mal über alle Spiele:\n",
    "final_res = df_all.groupby(\"type_name\")[\"count\"].sum().reset_index()\n",
    "final_res = final_res.sort_values(\"count\", ascending=False)\n",
    "print(final_res)"
   ]
  },
  {
   "cell_type": "code",
   "execution_count": null,
   "metadata": {},
   "outputs": [],
   "source": [
    "\n",
    "\n",
    "plt.bar(final_res[\"type_name\"], final_res[\"count\"])\n",
    "plt.xticks(rotation=90)\n",
    "plt.title(\"Aktionstypen unmittelbar vor Torerfolg (Anzahl)\")\n",
    "plt.xlabel(\"Aktionstyp\")\n",
    "plt.ylabel(\"Häufigkeit\")\n",
    "plt.show()"
   ]
  },
  {
   "cell_type": "markdown",
   "metadata": {},
   "source": [
    "DF für alle Spiele erstellen"
   ]
  },
  {
   "cell_type": "code",
   "execution_count": null,
   "metadata": {},
   "outputs": [],
   "source": [
    "with pd.HDFStore(spadl_h5) as spadlstore:\n",
    "    # Spiele laden\n",
    "    games = spadlstore[\"games\"]\n",
    "    \n",
    "    # Du kannst auch teams / players laden, wenn du sie für später brauchst\n",
    "    teams = spadlstore[\"teams\"]\n",
    "    players = spadlstore[\"players\"]\n",
    "    \n",
    "    all_actions_list = []\n",
    "    \n",
    "    # Über alle Spiele iterieren\n",
    "    for gid in games.game_id:\n",
    "        df_actions = spadlstore[f\"actions/game_{gid}\"]\n",
    "        # Ggf. noch die 'game_id' explizit als Spalte hinzufügen,\n",
    "        # falls du sie später brauchst.\n",
    "        df_actions[\"game_id\"] = gid\n",
    "        \n",
    "        all_actions_list.append(df_actions)\n",
    "    \n",
    "    # Zu einem großen DataFrame zusammenfügen\n",
    "    all_actions = pd.concat(all_actions_list, ignore_index=True)"
   ]
  },
  {
   "cell_type": "code",
   "execution_count": null,
   "metadata": {},
   "outputs": [],
   "source": [
    "all_actions = (\n",
    "    all_actions\n",
    "    .merge(spadl.actiontypes_df(), how='left', on='type_id')\n",
    "    .merge(spadl.results_df(), how='left', on='result_id')\n",
    "    .merge(spadl.bodyparts_df(), how='left', on='bodypart_id')\n",
    ")\n",
    "\n",
    "# Jetzt steht in all_actions alles aus allen Spielen\n",
    "print(all_actions.shape)\n",
    "all_actions.head()"
   ]
  },
  {
   "cell_type": "markdown",
   "metadata": {},
   "source": [
    "Neues Dataframe namens \"goal\" "
   ]
  },
  {
   "cell_type": "code",
   "execution_count": null,
   "metadata": {},
   "outputs": [],
   "source": [
    "goals = all_actions[\n",
    "    (all_actions[\"type_name\"] == \"shot\") &\n",
    "    (all_actions[\"result_name\"] == \"success\")\n",
    "]"
   ]
  },
  {
   "cell_type": "markdown",
   "metadata": {},
   "source": [
    "Spielminute berechnen"
   ]
  },
  {
   "cell_type": "code",
   "execution_count": null,
   "metadata": {},
   "outputs": [],
   "source": [
    "def get_match_minute(row):\n",
    "    # offset = 45 * (period_id-1)\n",
    "    offset = 45 * (row[\"period_id\"] - 1)\n",
    "    minute = int(offset + row[\"time_seconds\"] // 60)\n",
    "    return minute"
   ]
  },
  {
   "cell_type": "code",
   "execution_count": null,
   "metadata": {},
   "outputs": [],
   "source": [
    "goals[\"minute\"] = goals.apply(get_match_minute, axis=1)"
   ]
  },
  {
   "cell_type": "markdown",
   "metadata": {},
   "source": [
    "Phasen definieren in denen Tore fallen können\n",
    "Beispiel:\n",
    "1. und 2. Halbzeit\n",
    "2. alle 15 Minuten\n",
    "3. alle 5 minuten"
   ]
  },
  {
   "cell_type": "code",
   "execution_count": null,
   "metadata": {},
   "outputs": [],
   "source": [
    "bins = [0,15,30,45,60,75,90,120]  # 120, falls du Verlängerung bis Minute ~120 abdecken möchtest\n",
    "labels = [\"0-15\",\"16-30\",\"31-45\",\"46-60\",\"61-75\",\"76-90\",\"91+\"]\n",
    "goals[\"phase_15min\"] = pd.cut(goals[\"minute\"], bins=bins, labels=labels, right=True)\n"
   ]
  },
  {
   "cell_type": "markdown",
   "metadata": {},
   "source": [
    "Tore pro 15-Minuten-Phase zählen"
   ]
  },
  {
   "cell_type": "code",
   "execution_count": null,
   "metadata": {},
   "outputs": [],
   "source": [
    "phase_counts = goals.groupby(\"phase_15min\").size().reset_index(name=\"count\")\n",
    "print(phase_counts)"
   ]
  },
  {
   "cell_type": "markdown",
   "metadata": {},
   "source": [
    "Visualisierung"
   ]
  },
  {
   "cell_type": "code",
   "execution_count": null,
   "metadata": {},
   "outputs": [],
   "source": [
    "plt.bar(phase_counts[\"phase_15min\"], phase_counts[\"count\"])\n",
    "plt.xlabel(\"Spielphase (Minuten)\")\n",
    "plt.ylabel(\"Anzahl der Tore\")\n",
    "plt.title(\"Tore pro 15-Minuten-Intervall\")\n",
    "plt.xticks(rotation=45)\n",
    "plt.show()\n"
   ]
  },
  {
   "cell_type": "markdown",
   "metadata": {},
   "source": [
    "Aufteilen der Daten zwischen Standards und Laufendes Spiel"
   ]
  },
  {
   "cell_type": "code",
   "execution_count": null,
   "metadata": {},
   "outputs": [],
   "source": [
    "standard_types = [\n",
    "    \"free_kick_crossed\", \n",
    "    \"free_kick_short\",\n",
    "    \"corner_crossed\",\n",
    "    \"corner_short\",\n",
    "    \"throw_in\",\n",
    "    \"goal_kick\",\n",
    "    \"penalty\",\n",
    "    \"kick_off\"\n",
    "]\n"
   ]
  },
  {
   "cell_type": "code",
   "execution_count": null,
   "metadata": {},
   "outputs": [],
   "source": [
    "\n",
    "\n",
    "all_actions[\"situation_type\"] = np.where(\n",
    "    all_actions[\"type_name\"].isin(standard_types),\n",
    "    \"standard\",\n",
    "    \"open_play\"\n",
    ")"
   ]
  },
  {
   "cell_type": "code",
   "execution_count": null,
   "metadata": {},
   "outputs": [],
   "source": [
    "df_standard_and_open = all_actions.copy()\n",
    "\n",
    "# Jetzt enthält df_standard_and_open jede Aktion,\n",
    "# und in der Spalte \"situation_type\" steht entweder \"standard\" oder \"open_play\".\n"
   ]
  },
  {
   "cell_type": "code",
   "execution_count": null,
   "metadata": {},
   "outputs": [],
   "source": [
    "df_standard_and_open[[\"game_id\", \"type_name\", \"result_name\", \"situation_type\"]].head(20)"
   ]
  },
  {
   "cell_type": "markdown",
   "metadata": {},
   "source": [
    "Nur Standards"
   ]
  },
  {
   "cell_type": "code",
   "execution_count": null,
   "metadata": {},
   "outputs": [],
   "source": [
    "df_standards = df_standard_and_open[df_standard_and_open[\"situation_type\"] == \"standard\"]\n",
    "#df_standards.count"
   ]
  },
  {
   "cell_type": "markdown",
   "metadata": {},
   "source": [
    "Erfolgreiche vs erfolglose Standardsituationen"
   ]
  },
  {
   "cell_type": "code",
   "execution_count": null,
   "metadata": {},
   "outputs": [],
   "source": [
    "df_standards_success = df_standards[df_standards[\"result_name\"] == \"success\"]\n",
    "df_standards_fail = df_standards[df_standards[\"result_name\"] != \"success\"]"
   ]
  },
  {
   "cell_type": "markdown",
   "metadata": {},
   "source": [
    "Nur Open Play"
   ]
  },
  {
   "cell_type": "code",
   "execution_count": null,
   "metadata": {},
   "outputs": [],
   "source": [
    "df_openplay = df_standard_and_open[df_standard_and_open[\"situation_type\"] == \"open_play\"]\n",
    "#df_openplay.count"
   ]
  },
  {
   "cell_type": "markdown",
   "metadata": {},
   "source": [
    "Erfolgreiche vs. erfolglose Open Play Aktionen vergleichen"
   ]
  },
  {
   "cell_type": "code",
   "execution_count": null,
   "metadata": {},
   "outputs": [],
   "source": [
    "df_openplay_success = df_openplay[df_openplay[\"result_name\"] == \"success\"]\n",
    "df_openplay_fail = df_openplay[df_openplay[\"result_name\"] != \"success\"]"
   ]
  },
  {
   "cell_type": "markdown",
   "metadata": {},
   "source": [
    "# GAM ausprobieren"
   ]
  },
  {
   "cell_type": "code",
   "execution_count": null,
   "metadata": {},
   "outputs": [],
   "source": [
    "# Angenommen, all_actions enthält die Ereignisdaten\n",
    "# Filter nur Shots\n",
    "shots_df = all_actions[all_actions[\"type_name\"] == \"shot\"].copy()\n",
    "\n",
    "# Zielvariable: Tor oder nicht\n",
    "shots_df[\"is_goal\"] = np.where(shots_df[\"result_name\"] == \"success\", 1, 0)\n",
    "\n",
    "# Beispiel: dist = Entfernung zum Tor\n",
    "# (Koordinaten reichen von 0..105 in x und 0..68 in y, in StatsBomb-ähnlichen Daten)\n",
    "# Tor liegt meist bei x=105, y=34, also:\n",
    "shots_df[\"dist_to_goal\"] = np.sqrt((105 - shots_df[\"start_x\"])**2 + (34 - shots_df[\"start_y\"])**2)\n",
    "shots_df[\"angle\"] = np.arctan2((7.32/2), shots_df[\"dist_to_goal\"])  # sehr grobe Approx.\n",
    "\n",
    "# (Nur als Demo) X-Spalten: Distanz, Winkel, Spielminute\n",
    "shots_df[\"minute\"] = (shots_df[\"period_id\"] - 1) * 45 + (shots_df[\"time_seconds\"] // 60)"
   ]
  },
  {
   "cell_type": "code",
   "execution_count": null,
   "metadata": {},
   "outputs": [],
   "source": [
    "shots_df = shots_df.dropna(subset=[\"dist_to_goal\", \"minute\", \"angle\"])"
   ]
  },
  {
   "cell_type": "code",
   "execution_count": null,
   "metadata": {},
   "outputs": [],
   "source": [
    "# Feature-Matrix X und Ziel Y definieren\n",
    "X = shots_df[[\"dist_to_goal\", \"minute\", \"angle\"]]  # Beispiele für kontinuierliche Variablen\n",
    "y = shots_df[\"is_goal\"]  # binär (0/1)\n",
    "\n",
    "# Modell definieren: s(...) sagt pyGAM, dass jede dieser Variablen\n",
    "# als glatter (Spline-)Term geschätzt wird.\n",
    "gam = LogisticGAM(\n",
    "    s(0) +  # s(0) bezieht sich auf die erste Spalte in X => dist_to_goal\n",
    "    s(1) +  # => minute\n",
    "    s(2)    # => angle\n",
    ")\n",
    "\n",
    "# Modell fitten\n",
    "gam.fit(X, y)\n",
    "\n",
    "# Modellgüte etc. anschauen\n",
    "print(\"AIC:\", gam.statistics_['AIC'])\n",
    "print(\"Pseudo R^2:\", gam.statistics_['pseudo_r2'])\n",
    "print(\"Log-Likelihood:\", gam.statistics_['loglikelihood'])\n"
   ]
  },
  {
   "cell_type": "markdown",
   "metadata": {},
   "source": [
    "Vorhersagen"
   ]
  },
  {
   "cell_type": "code",
   "execution_count": null,
   "metadata": {},
   "outputs": [],
   "source": [
    "p_goal = gam.predict_proba(X)\n",
    "shots_df[\"p_goal_gam\"] = p_goal"
   ]
  },
  {
   "cell_type": "code",
   "execution_count": null,
   "metadata": {},
   "outputs": [],
   "source": [
    "from sklearn.metrics import roc_auc_score, brier_score_loss, log_loss\n",
    "\n",
    "auc = roc_auc_score(y, p_goal)\n",
    "brier = brier_score_loss(y, p_goal)\n",
    "ll = log_loss(y, p_goal)\n",
    "\n",
    "print(\"AUC:\", auc)\n",
    "print(\"Brier:\", brier)\n",
    "print(\"Log Loss:\", ll)\n"
   ]
  },
  {
   "cell_type": "markdown",
   "metadata": {},
   "source": [
    "# open play vs standards"
   ]
  },
  {
   "cell_type": "code",
   "execution_count": null,
   "metadata": {},
   "outputs": [],
   "source": [
    "shots_df[\"is_standard\"] = np.where(shots_df[\"situation_type\"] == \"standard\", 1, 0)\n",
    "X = shots_df[[\"dist_to_goal\", \"angle\", \"is_standard\"]]\n",
    "y = shots_df[\"is_goal\"]  # binär (0/1)\n",
    "\n",
    "gam = LogisticGAM(\n",
    "    s(0) +  # dist\n",
    "    s(1) +  # angle\n",
    "    f(2)    # factor/kategorisch => hier \"is_standard\"\n",
    ").fit(X, y)"
   ]
  },
  {
   "cell_type": "code",
   "execution_count": null,
   "metadata": {},
   "outputs": [],
   "source": [
    "# Modell fitten\n",
    "gam.fit(X, y)\n",
    "\n",
    "# Modellgüte etc. anschauen\n",
    "print(\"AIC:\", gam.statistics_['AIC'])\n",
    "print(\"Pseudo R^2:\", gam.statistics_['pseudo_r2'])\n",
    "print(\"Log-Likelihood:\", gam.statistics_['loglikelihood'])"
   ]
  },
  {
   "cell_type": "code",
   "execution_count": null,
   "metadata": {},
   "outputs": [],
   "source": [
    "p_goal = gam.predict_proba(X)\n",
    "shots_df[\"p_goal_gam\"] = p_goal"
   ]
  },
  {
   "cell_type": "code",
   "execution_count": null,
   "metadata": {},
   "outputs": [],
   "source": [
    "auc = roc_auc_score(y, p_goal)\n",
    "brier = brier_score_loss(y, p_goal)\n",
    "ll = log_loss(y, p_goal)\n",
    "\n",
    "print(\"AUC:\", auc)\n",
    "print(\"Brier:\", brier)\n",
    "print(\"Log Loss:\", ll)\n"
   ]
  },
  {
   "cell_type": "markdown",
   "metadata": {},
   "source": [
    "Test"
   ]
  },
  {
   "cell_type": "code",
   "execution_count": null,
   "metadata": {},
   "outputs": [],
   "source": [
    "# Kategorische Variable in 0/1 umwandeln:\n",
    "shots_df[\"is_standard\"] = np.where(shots_df[\"situation_type\"] == \"standard\", 1, 0)\n",
    "\n",
    "# X anlegen:\n",
    "X = shots_df[[\"dist_to_goal\", \"angle\", \"minute\", \"is_standard\"]]\n",
    "y = shots_df[\"is_goal\"]\n",
    "\n",
    "# Definieren, dass wir Splines auf dist_to_goal, angle, minute legen\n",
    "# und 'is_standard' als Faktorterm:\n",
    "gam = LogisticGAM(\n",
    "    s(0) +    # Splines auf dist_to_goal\n",
    "    s(1) +    # Splines auf angle\n",
    "    s(2) +    # Splines auf minute\n",
    "    f(3)      # Faktor für is_standard\n",
    ").fit(X, y)"
   ]
  },
  {
   "cell_type": "code",
   "execution_count": null,
   "metadata": {},
   "outputs": [],
   "source": [
    "p_goal = gam.predict_proba(X)\n",
    "shots_df[\"p_goal_gam\"] = p_goal"
   ]
  },
  {
   "cell_type": "code",
   "execution_count": null,
   "metadata": {},
   "outputs": [],
   "source": [
    "auc = roc_auc_score(y, p_goal)\n",
    "brier = brier_score_loss(y, p_goal)\n",
    "ll = log_loss(y, p_goal)\n",
    "\n",
    "print(\"AUC:\", auc)\n",
    "print(\"Brier:\", brier)\n",
    "print(\"Log Loss:\", ll)"
   ]
  },
  {
   "cell_type": "markdown",
   "metadata": {},
   "source": [
    "------------------------------------------------------------"
   ]
  },
  {
   "cell_type": "markdown",
   "metadata": {},
   "source": [
    "sind die aktionen immer von links nach rechts?\\\n",
    "Team A und Team B in einem Spiel die Schüssen anschauen. wo starte die aktion und wo endet sie für das jeweilige team"
   ]
  },
  {
   "cell_type": "code",
   "execution_count": null,
   "metadata": {},
   "outputs": [],
   "source": [
    "all_actions.head()"
   ]
  },
  {
   "cell_type": "code",
   "execution_count": null,
   "metadata": {},
   "outputs": [],
   "source": [
    "shots = all_actions[all_actions['type_name'] == 'shot']"
   ]
  },
  {
   "cell_type": "code",
   "execution_count": null,
   "metadata": {},
   "outputs": [],
   "source": [
    "# Endpositionen extrahieren\n",
    "shot_end_positions = shots[['game_id','team_id', 'period_id','time_seconds','end_x', 'end_y','result_id']]\n"
   ]
  },
  {
   "cell_type": "code",
   "execution_count": null,
   "metadata": {},
   "outputs": [],
   "source": [
    "shot_end_positions[shot_end_positions['game_id'] == 3890561]\n"
   ]
  },
  {
   "cell_type": "markdown",
   "metadata": {},
   "source": [
    "---------------------------------------------"
   ]
  },
  {
   "cell_type": "markdown",
   "metadata": {},
   "source": [
    "Winkel der Schüsse auf das Tor"
   ]
  },
  {
   "cell_type": "code",
   "execution_count": null,
   "metadata": {},
   "outputs": [],
   "source": [
    "# Nur Schüsse betrachten\n",
    "shots = all_actions[all_actions['type_name'] == 'shot'].copy()"
   ]
  },
  {
   "cell_type": "code",
   "execution_count": null,
   "metadata": {},
   "outputs": [],
   "source": [
    "# Angenommen: Spielfeld geht von x=0 bis x=105 (Opta Standard)\n",
    "def detect_goal_side(end_x, field_length=105):\n",
    "    return 'left' if end_x < field_length / 2 else 'right'\n",
    "\n",
    "def calculate_centered_shot_angle(row):\n",
    "    # Ziel-Torposition\n",
    "    if row['goal_side'] == 'right':\n",
    "        goal_x, goal_y = 105, 34\n",
    "        dx = goal_x - row['start_x']\n",
    "    else:\n",
    "        goal_x, goal_y = 0, 34\n",
    "        dx = row['start_x'] - goal_x  # Richtung umdrehen!\n",
    "\n",
    "    dy = goal_y - row['start_y']\n",
    "\n",
    "    # Jetzt ist dx immer positiv → Richtung zum Tor ist einheitlich\n",
    "    angle_rad = np.arctan2(dy, dx)\n",
    "    angle_deg = np.degrees(angle_rad)\n",
    "\n",
    "    return angle_deg\n"
   ]
  },
  {
   "cell_type": "code",
   "execution_count": null,
   "metadata": {},
   "outputs": [],
   "source": [
    "# Schritt 1: Torseite erkennen\n",
    "shots['goal_side'] = shots['start_x'].apply(detect_goal_side)\n",
    "\n",
    "# Schritt 2: Winkel berechnen\n",
    "shots['shot_angle_centered'] = shots.apply(calculate_centered_shot_angle, axis=1)\n"
   ]
  },
  {
   "cell_type": "code",
   "execution_count": null,
   "metadata": {},
   "outputs": [],
   "source": [
    "# Ergebnis\n",
    "print(shots[['start_x', 'start_y', 'goal_side', 'shot_angle_centered']].head())"
   ]
  },
  {
   "cell_type": "markdown",
   "metadata": {},
   "source": [
    "Berechnete Winkel in die all_actions aufnehmen\n"
   ]
  },
  {
   "cell_type": "code",
   "execution_count": null,
   "metadata": {},
   "outputs": [],
   "source": [
    "all_actions['shot_angle_centered'] = np.nan"
   ]
  },
  {
   "cell_type": "code",
   "execution_count": null,
   "metadata": {},
   "outputs": [],
   "source": [
    "# Torseite erkennen (für alle Zeilen, nicht nur Schüsse)\n",
    "all_actions['goal_side'] = all_actions['start_x'].apply(detect_goal_side)"
   ]
  },
  {
   "cell_type": "code",
   "execution_count": null,
   "metadata": {},
   "outputs": [],
   "source": [
    "# Winkel nur für Schüsse berechnen\n",
    "shot_mask = all_actions['type_name'] == 'shot'\n",
    "all_actions.loc[shot_mask, 'shot_angle_centered'] = all_actions[shot_mask].apply(calculate_centered_shot_angle, axis=1)"
   ]
  },
  {
   "cell_type": "code",
   "execution_count": null,
   "metadata": {},
   "outputs": [],
   "source": [
    "all_actions.head()"
   ]
  }
 ],
 "metadata": {
  "kernelspec": {
   "display_name": "Python 3",
   "language": "python",
   "name": "python3"
  },
  "language_info": {
   "codemirror_mode": {
    "name": "ipython",
    "version": 3
   },
   "file_extension": ".py",
   "mimetype": "text/x-python",
   "name": "python",
   "nbconvert_exporter": "python",
   "pygments_lexer": "ipython3",
   "version": "3.12.1"
  }
 },
 "nbformat": 4,
 "nbformat_minor": 2
}
