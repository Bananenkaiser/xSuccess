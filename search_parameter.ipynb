{
 "cells": [
  {
   "cell_type": "code",
   "execution_count": 1,
   "metadata": {},
   "outputs": [],
   "source": [
    "import pandas as pd\n",
    "import os\n",
    "import json\n",
    "import joblib\n",
    "import platform\n",
    "from tqdm import tqdm\n",
    "from tqdm.contrib.concurrent import thread_map\n",
    "from tqdm_joblib import tqdm_joblib\n",
    "import matplotlib.pyplot as plt\n",
    "from sklearn.model_selection import RandomizedSearchCV, GridSearchCV\n",
    "from sklearn.ensemble import GradientBoostingClassifier\n",
    "from sklearn.metrics import accuracy_score, f1_score, confusion_matrix, ConfusionMatrixDisplay, brier_score_loss, log_loss, roc_auc_score\n",
    "import socceraction.spadl as spadl\n",
    "import numpy as np\n",
    "from sklearn.metrics import make_scorer\n",
    "import xgboost as xgb"
   ]
  },
  {
   "cell_type": "code",
   "execution_count": 2,
   "metadata": {},
   "outputs": [],
   "source": [
    "# Import functions\n",
    "from src.data_processing import config_h5_file_paths, fetch_match_data, generate_match_data, split_games, split_match_data, adjust_results, load_match_data"
   ]
  },
  {
   "cell_type": "code",
   "execution_count": 3,
   "metadata": {},
   "outputs": [],
   "source": [
    "# 1. Lade den Datensatz\n",
    "spadl_h5 = \".\\\\xSuccess\\\\top5_15-16_spadl\\\\match_data.h5\"\n",
    "\n",
    "with pd.HDFStore(spadl_h5) as spadlstore:\n",
    "    # Spiele laden\n",
    "    games = spadlstore[\"games\"]\n",
    "    \n",
    "    # Du kannst auch teams / players laden, wenn du sie für später brauchst\n",
    "    teams = spadlstore[\"teams\"]\n",
    "    players = spadlstore[\"players\"]\n",
    "    \n",
    "    all_actions_list = []\n",
    "    \n",
    "    # Über alle Spiele iterieren\n",
    "    for gid in games.game_id:\n",
    "        df_actions = spadlstore[f\"actions/game_{gid}\"]\n",
    "        # Ggf. noch die 'game_id' explizit als Spalte hinzufügen,\n",
    "        # falls du sie später brauchst.\n",
    "        df_actions[\"game_id\"] = gid\n",
    "        \n",
    "        all_actions_list.append(df_actions)\n",
    "    \n",
    "    # Zu einem großen DataFrame zusammenfügen\n",
    "    all_actions = pd.concat(all_actions_list, ignore_index=True)\n",
    "\n",
    "#all_actions[\"game_id\"].count()"
   ]
  },
  {
   "cell_type": "code",
   "execution_count": 4,
   "metadata": {},
   "outputs": [],
   "source": [
    "all_actions = (\n",
    "    all_actions\n",
    "    .merge(spadl.actiontypes_df(), how='left', on='type_id')\n",
    "    .merge(spadl.results_df(), how='left', on='result_id')\n",
    "    .merge(spadl.bodyparts_df(), how='left', on='bodypart_id')\n",
    ")"
   ]
  },
  {
   "cell_type": "markdown",
   "metadata": {},
   "source": [
    "Länge der Aktion bestimmen"
   ]
  },
  {
   "cell_type": "code",
   "execution_count": 5,
   "metadata": {},
   "outputs": [],
   "source": [
    "# 3) Die Länge der Dribblings bestimmen (euklidische Distanz zwischen Start- und Endkoordinate)\n",
    "\n",
    "all_actions[\"action_distance\"] = np.sqrt(\n",
    "    (all_actions[\"end_x\"] - all_actions[\"start_x\"])**2 +\n",
    "    (all_actions[\"end_y\"] - all_actions[\"start_y\"])**2\n",
    ")"
   ]
  },
  {
   "cell_type": "markdown",
   "metadata": {},
   "source": [
    "Winkel für Schüsse zum Tor bestimmen\\\n",
    "0 Grad = Zentral vor dem Tor\\\n",
    "Negativer Winkel = links vom Tor\\\n",
    "Positiver Winkel = rechts vom Tor"
   ]
  },
  {
   "cell_type": "code",
   "execution_count": 6,
   "metadata": {},
   "outputs": [],
   "source": [
    "# Angenommen: Spielfeld geht von x=0 bis x=105 (Opta Standard)\n",
    "def detect_goal_side(end_x, field_length=105):\n",
    "    return 'left' if end_x < field_length / 2 else 'right'\n",
    "\n",
    "def calculate_centered_shot_angle(row):\n",
    "    # Ziel-Torposition\n",
    "    if row['goal_side'] == 'right':\n",
    "        goal_x, goal_y = 105, 34\n",
    "        dx = goal_x - row['start_x']\n",
    "    else:\n",
    "        goal_x, goal_y = 0, 34\n",
    "        dx = row['start_x'] - goal_x  # Richtung umdrehen!\n",
    "\n",
    "    dy = goal_y - row['start_y']\n",
    "\n",
    "    # Jetzt ist dx immer positiv → Richtung zum Tor ist einheitlich\n",
    "    angle_rad = np.arctan2(dy, dx)\n",
    "    angle_deg = np.degrees(angle_rad)\n",
    "\n",
    "    return angle_deg"
   ]
  },
  {
   "cell_type": "code",
   "execution_count": 7,
   "metadata": {},
   "outputs": [],
   "source": [
    "all_actions['shot_angle_centered'] = np.nan"
   ]
  },
  {
   "cell_type": "code",
   "execution_count": 8,
   "metadata": {},
   "outputs": [],
   "source": [
    "# Torseite erkennen (für alle Zeilen, nicht nur Schüsse)\n",
    "all_actions['goal_side'] = all_actions['start_x'].apply(detect_goal_side)"
   ]
  },
  {
   "cell_type": "code",
   "execution_count": 9,
   "metadata": {},
   "outputs": [],
   "source": [
    "# Winkel nur für Schüsse berechnen\n",
    "shot_mask = all_actions['type_name'] == 'shot'\n",
    "all_actions.loc[shot_mask, 'shot_angle_centered'] = all_actions[shot_mask].apply(calculate_centered_shot_angle, axis=1)"
   ]
  },
  {
   "cell_type": "markdown",
   "metadata": {},
   "source": [
    "Nach jeder Aktion wird die Distanz zum Tor berechnet"
   ]
  },
  {
   "cell_type": "code",
   "execution_count": 10,
   "metadata": {},
   "outputs": [],
   "source": [
    "# Berechnung der Distanz zum Tor. Hier wird für jede Zeile abhängig von der goal_side der entsprechende Tor-X-Wert gewählt.\n",
    "all_actions[\"distance_to_goal\"] = np.sqrt(\n",
    "    (all_actions[\"end_x\"] - np.where(all_actions[\"goal_side\"] == \"right\", 105, 0))**2 +\n",
    "    (all_actions[\"end_y\"] - 34)**2\n",
    ")"
   ]
  },
  {
   "cell_type": "markdown",
   "metadata": {},
   "source": [
    "Result_id umwandeln, sodass nur fail oder success vorhanden ist"
   ]
  },
  {
   "cell_type": "code",
   "execution_count": 11,
   "metadata": {},
   "outputs": [],
   "source": [
    "all_actions[\"result_id\"] = np.where(all_actions[\"result_id\"] == 1, 1, 0)"
   ]
  },
  {
   "cell_type": "markdown",
   "metadata": {},
   "source": [
    "Jeder NaN Wert wird mit 999 gefüllt"
   ]
  },
  {
   "cell_type": "code",
   "execution_count": 12,
   "metadata": {},
   "outputs": [],
   "source": [
    "all_actions.fillna(999, inplace=True)"
   ]
  },
  {
   "cell_type": "markdown",
   "metadata": {},
   "source": [
    "Es wird eine Unique_id erstellt, da es keine eindeutige ID für jede Aktion gibt. \\\n",
    "originale_event_id kommt doppelt vor, da Socceraction bei abgefangen Pässen den Pass und das Abfangen als zwei Aktionen aber einem Event definieren."
   ]
  },
  {
   "cell_type": "code",
   "execution_count": 13,
   "metadata": {},
   "outputs": [],
   "source": [
    "all_actions[\"unique_id\"] = all_actions[\"game_id\"].astype(str) + \"_\" + all_actions[\"action_id\"].astype(str)\n",
    "all_actions.sort_values(by=\"unique_id\", ascending=True, inplace=True)"
   ]
  },
  {
   "cell_type": "markdown",
   "metadata": {},
   "source": [
    "Datensatz aufteilen in Train und Test"
   ]
  },
  {
   "cell_type": "code",
   "execution_count": 14,
   "metadata": {},
   "outputs": [],
   "source": [
    "# Split games\n",
    "train_games, test_games, validation_games = split_games(\n",
    "  games=all_actions,\n",
    "  train_percentage=50,\n",
    "  random_state=42,\n",
    "  shuffle=True\n",
    ")"
   ]
  },
  {
   "cell_type": "code",
   "execution_count": 15,
   "metadata": {},
   "outputs": [
    {
     "data": {
      "text/plain": [
       "(1819929, 22)"
      ]
     },
     "execution_count": 15,
     "metadata": {},
     "output_type": "execute_result"
    }
   ],
   "source": [
    "test_games.shape"
   ]
  },
  {
   "cell_type": "markdown",
   "metadata": {},
   "source": [
    "Features und Zielvariable auswählen"
   ]
  },
  {
   "cell_type": "code",
   "execution_count": 16,
   "metadata": {},
   "outputs": [],
   "source": [
    "#features = [\"start_x\", \"start_y\", \"end_x\", \"end_y\", \"bodypart_id\", \"type_id\", \"action_distance\",'shot_angle_centered', \"time_seconds\",'distance_to_goal']\n",
    "features = [\"start_x\", \"start_y\", \"bodypart_id\", \"type_id\", \"action_distance\", \"time_seconds\",'distance_to_goal','shot_angle_centered']\n",
    "target = \"result_id\"\n",
    "\n",
    "\n",
    "X_train = train_games[features]\n",
    "Y_train = train_games[target]"
   ]
  },
  {
   "cell_type": "code",
   "execution_count": 17,
   "metadata": {},
   "outputs": [],
   "source": [
    "X_test = test_games[features]\n",
    "Y_test = test_games[target]"
   ]
  },
  {
   "cell_type": "markdown",
   "metadata": {},
   "source": [
    "Modell erstellen, falls noch keines vorliegt"
   ]
  },
  {
   "cell_type": "code",
   "execution_count": 18,
   "metadata": {},
   "outputs": [
    {
     "name": "stdout",
     "output_type": "stream",
     "text": [
      "Lade vorhandenes Modell...\n"
     ]
    }
   ],
   "source": [
    "# Modellpfad\n",
    "model_path = \"xgb_model.json\"\n",
    "\n",
    "# Überprüfen, ob das Modell existiert\n",
    "if os.path.exists(model_path):\n",
    "    print(\"Lade vorhandenes Modell...\")\n",
    "    xgb_model = xgb.XGBClassifier()\n",
    "    xgb_model.load_model(model_path)\n",
    "else:\n",
    "    print(\"Kein gespeichertes Modell gefunden. Trainiere neues Modell...\")\n",
    "\n",
    "    xgb_model = xgb.XGBClassifier()\n",
    "    xgb_model.fit(X_train, Y_train)\n",
    "\n",
    "    # Speichere das Modell\n",
    "    xgb_model.save_model(\"xgb_model.json\")\n",
    "    print(\"Neues Modell gespeichert als:\", model_path)"
   ]
  },
  {
   "cell_type": "markdown",
   "metadata": {},
   "source": [
    "Genauigkeit und Brier-Score bestimmen um festzustellen ob die neuen Parameter besser sind als das aktuelle Modell"
   ]
  },
  {
   "cell_type": "code",
   "execution_count": 19,
   "metadata": {},
   "outputs": [
    {
     "name": "stdout",
     "output_type": "stream",
     "text": [
      "start_x                0\n",
      "start_y                0\n",
      "bodypart_id            0\n",
      "type_id                0\n",
      "action_distance        0\n",
      "time_seconds           0\n",
      "distance_to_goal       0\n",
      "shot_angle_centered    0\n",
      "dtype: int64\n"
     ]
    }
   ],
   "source": [
    "print(X_test.isnull().sum())\n"
   ]
  },
  {
   "cell_type": "code",
   "execution_count": 20,
   "metadata": {},
   "outputs": [
    {
     "name": "stdout",
     "output_type": "stream",
     "text": [
      "Empty DataFrame\n",
      "Columns: [start_x, start_y, bodypart_id, type_id, action_distance, time_seconds, distance_to_goal, shot_angle_centered]\n",
      "Index: []\n"
     ]
    }
   ],
   "source": [
    "print(X_test[X_test.isnull().any(axis=1)])\n"
   ]
  },
  {
   "cell_type": "code",
   "execution_count": 21,
   "metadata": {},
   "outputs": [],
   "source": [
    "def evaluate_model(model, X, y):\n",
    "    y_pred = model.predict_proba(X)[:, 1]\n",
    "    # Brier Score: misst die durchschnittliche quadratische Differenz zwischen \n",
    "    # den vorhergesagten Wahrscheinlichkeiten und den tatsächlichen binären Ergebnissen.\n",
    "    brier = brier_score_loss(y, y_pred)\n",
    "    print(f\"Brier score: {brier:.5f}\")\n",
    "\n",
    "    # Log Loss: misst, wie gut die Wahrscheinlichkeiten die tatsächlichen Ergebnisse repräsentieren.\n",
    "    ll = log_loss(y, y_pred)\n",
    "    print(f\"log loss score: {ll:.5f}\")\n",
    "\n",
    "    # ROC AUC: misst die Fähigkeit des Modells, zwischen Klassen zu unterscheiden (0 vs. 1).\n",
    "    roc_auc = roc_auc_score(y, y_pred)\n",
    "    print(f\"ROC AUC: {roc_auc:.5f}\")"
   ]
  },
  {
   "cell_type": "code",
   "execution_count": 22,
   "metadata": {},
   "outputs": [
    {
     "name": "stdout",
     "output_type": "stream",
     "text": [
      "Brier score: 0.07059\n",
      "log loss score: 0.22205\n",
      "ROC AUC: 0.93734\n"
     ]
    }
   ],
   "source": [
    "evaluate_model(xgb_model, X_test, Y_test)"
   ]
  },
  {
   "cell_type": "markdown",
   "metadata": {},
   "source": [
    "Erst RandomSearch um den Suchraum zu beschränken. anschließend Gridsearch um die parameter zu verfeinern, da gridsearch zeitintensiv ist"
   ]
  },
  {
   "cell_type": "markdown",
   "metadata": {},
   "source": [
    "RandomSearch Paramter"
   ]
  },
  {
   "cell_type": "code",
   "execution_count": 23,
   "metadata": {},
   "outputs": [],
   "source": [
    "param_dist = {\n",
    "    'n_estimators': np.arange(100, 501, 50),\n",
    "    'learning_rate': np.linspace(0.01, 0.2, 10),\n",
    "    'max_depth': np.arange(3, 8),\n",
    "    'subsample': np.linspace(0.6, 1.0, 5)\n",
    "}"
   ]
  },
  {
   "attachments": {
    "image.png": {
     "image/png": "[encoded data removed]"
    }
   },
   "cell_type": "markdown",
   "metadata": {},
   "source": [
    "![image.png](attachment:image.png)"
   ]
  },
  {
   "cell_type": "markdown",
   "metadata": {},
   "source": [
    "Scoring = Accuracy macht kein sinn, da die verteilung sehr unausgeglichen ist. somit würde das modell nur lernen immer \"1\" vorher zu sagen.\\\n",
    "Es wird stattdessen f1 scoring ausgewählt, da möglichst viele gute Aktionen korrekt erkennen, aber auch schlechte Aktionen nicht ignorieren\\\n",
    "F1 = Standardempfehlung bei Imbalance (harmonischer Mittelwert aus Precision & Recall)"
   ]
  },
  {
   "cell_type": "code",
   "execution_count": 24,
   "metadata": {},
   "outputs": [
    {
     "name": "stderr",
     "output_type": "stream",
     "text": [
      "RandomizedSearchCV läuft:   0%|          | 0/20 [00:00<?, ?it/s]"
     ]
    },
    {
     "data": {
      "application/vnd.jupyter.widget-view+json": {
       "model_id": "939957e5210b4f558e9a8cf88c7f1a3e",
       "version_major": 2,
       "version_minor": 0
      },
      "text/plain": [
       "  0%|          | 0/20 [00:00<?, ?it/s]"
      ]
     },
     "metadata": {},
     "output_type": "display_data"
    },
    {
     "name": "stdout",
     "output_type": "stream",
     "text": [
      "Beste Parameter: {'subsample': 1.0, 'n_estimators': 400, 'max_depth': 6, 'learning_rate': 0.11555555555555555}\n"
     ]
    }
   ],
   "source": [
    "# 3. RandomizedSearchCV starten\n",
    "random_search = RandomizedSearchCV(\n",
    "    estimator=xgb_model,\n",
    "    param_distributions=param_dist,\n",
    "    n_iter=10,\n",
    "    scoring='neg_brier_score',  # Negativer Brier Score: besser = höherer (weniger negative) Wert\n",
    "    #scoring='f1', # Brier Score möglich?\n",
    "    cv=2,\n",
    "    n_jobs=-1,\n",
    "    random_state=42\n",
    ")\n",
    "\n",
    "# Ladebalken aktivieren während der Suche\n",
    "with tqdm_joblib(tqdm(desc=\"RandomizedSearchCV läuft\", total=20)):\n",
    "    random_search.fit(X_train, Y_train)\n",
    "\n",
    "\n",
    "print(\"Beste Parameter:\", random_search.best_params_)"
   ]
  },
  {
   "cell_type": "code",
   "execution_count": null,
   "metadata": {},
   "outputs": [],
   "source": [
    "# 4. Top 3 Ergebnisse extrahieren\n",
    "results = pd.DataFrame(random_search.cv_results_)\n",
    "top3 = results.sort_values(by='mean_test_score', ascending=False).head(3)"
   ]
  },
  {
   "cell_type": "code",
   "execution_count": null,
   "metadata": {},
   "outputs": [],
   "source": [
    "# 5. Parameterranges aus den Top 3 automatisch generieren\n",
    "def get_unique_nearby_values(series, padding=1):\n",
    "    values = sorted(series.unique())\n",
    "    if all(isinstance(v, int) for v in values):\n",
    "        return list(set([v - padding for v in values] + values + [v + padding for v in values]))\n",
    "    else:\n",
    "        return sorted(series.unique())"
   ]
  },
  {
   "cell_type": "code",
   "execution_count": null,
   "metadata": {},
   "outputs": [],
   "source": [
    "n_estimators_vals = get_unique_nearby_values(top3['param_n_estimators'], padding=25)\n",
    "learning_rate_vals = get_unique_nearby_values(top3['param_learning_rate'], padding=0.01)\n",
    "max_depth_vals = get_unique_nearby_values(top3['param_max_depth'], padding=1)\n",
    "subsample_vals = get_unique_nearby_values(top3['param_subsample'], padding=0.05)"
   ]
  },
  {
   "cell_type": "code",
   "execution_count": null,
   "metadata": {},
   "outputs": [],
   "source": [
    "# 6. Neues Grid für GridSearchCV\n",
    "param_grid = {\n",
    "    'n_estimators': sorted(set(n_estimators_vals)),\n",
    "    'learning_rate': sorted(set(learning_rate_vals)),\n",
    "    'max_depth': sorted(set(max_depth_vals)),\n",
    "    'subsample': sorted(set(subsample_vals)),\n",
    "}"
   ]
  },
  {
   "cell_type": "code",
   "execution_count": null,
   "metadata": {},
   "outputs": [],
   "source": [
    "\n",
    "print(\"Verfeinertes Parameter-Grid für GridSearchCV:\")\n",
    "for k, v in param_grid.items():\n",
    "    print(f\"{k}: {v}\")"
   ]
  },
  {
   "cell_type": "code",
   "execution_count": null,
   "metadata": {},
   "outputs": [],
   "source": [
    "# 7. GridSearchCV zur Feinabstimmung\n",
    "grid_search = GridSearchCV(\n",
    "    estimator=xgb_model,\n",
    "    param_grid=param_grid,\n",
    "    scoring='neg_brier_score',\n",
    "    cv=2,\n",
    "    n_jobs=-1\n",
    ")"
   ]
  },
  {
   "cell_type": "code",
   "execution_count": null,
   "metadata": {},
   "outputs": [],
   "source": [
    "os.cpu_count()"
   ]
  },
  {
   "cell_type": "code",
   "execution_count": null,
   "metadata": {},
   "outputs": [],
   "source": [
    "grid_search.fit(X_train, Y_train)"
   ]
  },
  {
   "attachments": {
    "image.png": {
     "image/png": "[encoded data removed]"
    }
   },
   "cell_type": "markdown",
   "metadata": {},
   "source": [
    "bei 1232 Minuten abgebrochen\\\n",
    "\n",
    "![image.png](attachment:image.png)"
   ]
  },
  {
   "cell_type": "code",
   "execution_count": null,
   "metadata": {},
   "outputs": [],
   "source": [
    "# 8. Beste Parameter anzeigen\n",
    "print(\"Beste Parameter nach GridSearchCV:\")\n",
    "print(grid_search.best_params_)"
   ]
  },
  {
   "cell_type": "code",
   "execution_count": null,
   "metadata": {},
   "outputs": [],
   "source": [
    "\n",
    "# 9. Bestes Modell speichern\n",
    "best_model = grid_search.best_estimator_\n",
    "model_path = \"best_gb_model.pkl\"\n",
    "joblib.dump(best_model, model_path)\n",
    "print(f\"Bestes Modell wurde gespeichert als: {model_path}\")"
   ]
  },
  {
   "cell_type": "code",
   "execution_count": null,
   "metadata": {},
   "outputs": [],
   "source": [
    "#gb_model_loaded = joblib.load(\"best_gb_model.pkl\")"
   ]
  },
  {
   "cell_type": "markdown",
   "metadata": {},
   "source": []
  },
  {
   "cell_type": "markdown",
   "metadata": {},
   "source": [
    "# Beste Parameter holen\n",
    "best_random_params = random_search.best_params_\n",
    "\n",
    "# Umwandlung in normale Python-Typen\n",
    "best_random_params_serializable = {key: float(value) if isinstance(value, (np.float32, np.float64)) \n",
    "                            else int(value) if isinstance(value, (np.int32, np.int64)) \n",
    "                            else value \n",
    "                            for key, value in best_random_params.items()}\n",
    "\n",
    "# In JSON speichern\n",
    "with open(\"beste_random_parameter.json\", \"w\") as f:\n",
    "    json.dump(best_random_params_serializable, f, indent=4)\n",
    "\n",
    "print(\"Beste Parameter wurden in 'beste_random_parameter.json' gespeichert.\")"
   ]
  },
  {
   "cell_type": "code",
   "execution_count": null,
   "metadata": {},
   "outputs": [],
   "source": [
    "\n",
    "# Shutdown-Befehl für Windows\n",
    "if platform.system() == \"Windows\":\n",
    "    print(\"Notebook fertig. PC wird in 60 Sekunden heruntergefahren...\")\n",
    "    os.system(\"shutdown /s /t 60\")  # 60 Sekunden Verzögerung (zum Abbrechen)\n",
    "else:\n",
    "    print(\"Nicht-Windows-System erkannt. Kein Shutdown durchgeführt.\")"
   ]
  }
 ],
 "metadata": {
  "kernelspec": {
   "display_name": "Python 3",
   "language": "python",
   "name": "python3"
  },
  "language_info": {
   "codemirror_mode": {
    "name": "ipython",
    "version": 3
   },
   "file_extension": ".py",
   "mimetype": "text/x-python",
   "name": "python",
   "nbconvert_exporter": "python",
   "pygments_lexer": "ipython3",
   "version": "3.12.1"
  }
 },
 "nbformat": 4,
 "nbformat_minor": 2
}
